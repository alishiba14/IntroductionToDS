{
 "cells": [
  {
   "cell_type": "markdown",
   "metadata": {
    "scrolled": false
   },
   "source": [
    "# Exploratory Data Analysis\n",
    "In this lab, we will practice to:\n",
    "\n",
    " - Manipulate rows and columns of a data table by gathering and combining observations: *gather* and *spread* functions     \n",
    " - Examine the variation of single data features: histogram and density plots\n",
    " - Examine the covariation of pairs of features, i.e, the variation of a feature with respect to the other feature: box-plot\n",
    " - Examine the variation of a feature with respect to other two features: heatmap plot\n",
    " - Produce a dataset by combining multiple related ones: join functions\n",
    "\n",
    "**NOTE:** For each dataset provided below, please refer the dataset's webpage to find information about the provided data and attributes."
   ]
  },
  {
   "cell_type": "markdown",
   "metadata": {},
   "source": [
    "## 1. Gathering Observation\n",
    "In this section, we will use the [\"Online News Popularity\"](https://archive.ics.uci.edu/ml/datasets/Online+News+Popularity) dataset."
   ]
  },
  {
   "cell_type": "code",
   "execution_count": 1,
   "metadata": {},
   "outputs": [
    {
     "name": "stderr",
     "output_type": "stream",
     "text": [
      "Registered S3 method overwritten by 'rvest':\n",
      "  method            from\n",
      "  read_xml.response xml2\n",
      "── Attaching packages ─────────────────────────────────────── tidyverse 1.2.1 ──\n",
      "✔ ggplot2 3.2.1       ✔ purrr   0.3.2  \n",
      "✔ tibble  2.1.3       ✔ dplyr   0.8.0.1\n",
      "✔ tidyr   0.8.3       ✔ stringr 1.4.0  \n",
      "✔ readr   1.3.1       ✔ forcats 0.4.0  \n",
      "── Conflicts ────────────────────────────────────────── tidyverse_conflicts() ──\n",
      "✖ dplyr::filter() masks stats::filter()\n",
      "✖ dplyr::lag()    masks stats::lag()\n"
     ]
    }
   ],
   "source": [
    "# Load the required library.\n",
    "library(tidyverse)"
   ]
  },
  {
   "cell_type": "code",
   "execution_count": 2,
   "metadata": {},
   "outputs": [
    {
     "name": "stderr",
     "output_type": "stream",
     "text": [
      "Parsed with column specification:\n",
      "cols(\n",
      "  .default = col_double(),\n",
      "  url = col_character()\n",
      ")\n",
      "See spec(...) for full column specifications.\n"
     ]
    }
   ],
   "source": [
    "# Import the dataset.\n",
    "news <- read_csv(\"OnlineNewsPopularity.csv\")"
   ]
  },
  {
   "cell_type": "code",
   "execution_count": 3,
   "metadata": {},
   "outputs": [
    {
     "name": "stdout",
     "output_type": "stream",
     "text": [
      "Classes ‘spec_tbl_df’, ‘tbl_df’, ‘tbl’ and 'data.frame':\t39644 obs. of  61 variables:\n",
      " $ url                          : chr  \"http://mashable.com/2013/01/07/amazon-instant-video-browser/\" \"http://mashable.com/2013/01/07/ap-samsung-sponsored-tweets/\" \"http://mashable.com/2013/01/07/apple-40-billion-app-downloads/\" \"http://mashable.com/2013/01/07/astronaut-notre-dame-bcs/\" ...\n",
      " $ timedelta                    : num  731 731 731 731 731 731 731 731 731 731 ...\n",
      " $ n_tokens_title               : num  12 9 9 9 13 10 8 12 11 10 ...\n",
      " $ n_tokens_content             : num  219 255 211 531 1072 ...\n",
      " $ n_unique_tokens              : num  0.664 0.605 0.575 0.504 0.416 ...\n",
      " $ n_non_stop_words             : num  1 1 1 1 1 ...\n",
      " $ n_non_stop_unique_tokens     : num  0.815 0.792 0.664 0.666 0.541 ...\n",
      " $ num_hrefs                    : num  4 3 3 9 19 2 21 20 2 4 ...\n",
      " $ num_self_hrefs               : num  2 1 1 0 19 2 20 20 0 1 ...\n",
      " $ num_imgs                     : num  1 1 1 1 20 0 20 20 0 1 ...\n",
      " $ num_videos                   : num  0 0 0 0 0 0 0 0 0 1 ...\n",
      " $ average_token_length         : num  4.68 4.91 4.39 4.4 4.68 ...\n",
      " $ num_keywords                 : num  5 4 6 7 7 9 10 9 7 5 ...\n",
      " $ data_channel_is_lifestyle    : num  0 0 0 0 0 0 1 0 0 0 ...\n",
      " $ data_channel_is_entertainment: num  1 0 0 1 0 0 0 0 0 0 ...\n",
      " $ data_channel_is_bus          : num  0 1 1 0 0 0 0 0 0 0 ...\n",
      " $ data_channel_is_socmed       : num  0 0 0 0 0 0 0 0 0 0 ...\n",
      " $ data_channel_is_tech         : num  0 0 0 0 1 1 0 1 1 0 ...\n",
      " $ data_channel_is_world        : num  0 0 0 0 0 0 0 0 0 1 ...\n",
      " $ kw_min_min                   : num  0 0 0 0 0 0 0 0 0 0 ...\n",
      " $ kw_max_min                   : num  0 0 0 0 0 0 0 0 0 0 ...\n",
      " $ kw_avg_min                   : num  0 0 0 0 0 0 0 0 0 0 ...\n",
      " $ kw_min_max                   : num  0 0 0 0 0 0 0 0 0 0 ...\n",
      " $ kw_max_max                   : num  0 0 0 0 0 0 0 0 0 0 ...\n",
      " $ kw_avg_max                   : num  0 0 0 0 0 0 0 0 0 0 ...\n",
      " $ kw_min_avg                   : num  0 0 0 0 0 0 0 0 0 0 ...\n",
      " $ kw_max_avg                   : num  0 0 0 0 0 0 0 0 0 0 ...\n",
      " $ kw_avg_avg                   : num  0 0 0 0 0 0 0 0 0 0 ...\n",
      " $ self_reference_min_shares    : num  496 0 918 0 545 8500 545 545 0 0 ...\n",
      " $ self_reference_max_shares    : num  496 0 918 0 16000 8500 16000 16000 0 0 ...\n",
      " $ self_reference_avg_sharess   : num  496 0 918 0 3151 ...\n",
      " $ weekday_is_monday            : num  1 1 1 1 1 1 1 1 1 1 ...\n",
      " $ weekday_is_tuesday           : num  0 0 0 0 0 0 0 0 0 0 ...\n",
      " $ weekday_is_wednesday         : num  0 0 0 0 0 0 0 0 0 0 ...\n",
      " $ weekday_is_thursday          : num  0 0 0 0 0 0 0 0 0 0 ...\n",
      " $ weekday_is_friday            : num  0 0 0 0 0 0 0 0 0 0 ...\n",
      " $ weekday_is_saturday          : num  0 0 0 0 0 0 0 0 0 0 ...\n",
      " $ weekday_is_sunday            : num  0 0 0 0 0 0 0 0 0 0 ...\n",
      " $ is_weekend                   : num  0 0 0 0 0 0 0 0 0 0 ...\n",
      " $ LDA_00                       : num  0.5003 0.7998 0.2178 0.0286 0.0286 ...\n",
      " $ LDA_01                       : num  0.3783 0.05 0.0333 0.4193 0.0288 ...\n",
      " $ LDA_02                       : num  0.04 0.0501 0.0334 0.4947 0.0286 ...\n",
      " $ LDA_03                       : num  0.0413 0.0501 0.0333 0.0289 0.0286 ...\n",
      " $ LDA_04                       : num  0.0401 0.05 0.6822 0.0286 0.8854 ...\n",
      " $ global_subjectivity          : num  0.522 0.341 0.702 0.43 0.514 ...\n",
      " $ global_sentiment_polarity    : num  0.0926 0.1489 0.3233 0.1007 0.281 ...\n",
      " $ global_rate_positive_words   : num  0.0457 0.0431 0.0569 0.0414 0.0746 ...\n",
      " $ global_rate_negative_words   : num  0.0137 0.01569 0.00948 0.02072 0.01213 ...\n",
      " $ rate_positive_words          : num  0.769 0.733 0.857 0.667 0.86 ...\n",
      " $ rate_negative_words          : num  0.231 0.267 0.143 0.333 0.14 ...\n",
      " $ avg_positive_polarity        : num  0.379 0.287 0.496 0.386 0.411 ...\n",
      " $ min_positive_polarity        : num  0.1 0.0333 0.1 0.1364 0.0333 ...\n",
      " $ max_positive_polarity        : num  0.7 0.7 1 0.8 1 0.6 1 1 0.8 0.5 ...\n",
      " $ avg_negative_polarity        : num  -0.35 -0.119 -0.467 -0.37 -0.22 ...\n",
      " $ min_negative_polarity        : num  -0.6 -0.125 -0.8 -0.6 -0.5 -0.4 -0.5 -0.5 -0.125 -0.5 ...\n",
      " $ max_negative_polarity        : num  -0.2 -0.1 -0.133 -0.167 -0.05 ...\n",
      " $ title_subjectivity           : num  0.5 0 0 0 0.455 ...\n",
      " $ title_sentiment_polarity     : num  -0.188 0 0 0 0.136 ...\n",
      " $ abs_title_subjectivity       : num  0 0.5 0.5 0.5 0.0455 ...\n",
      " $ abs_title_sentiment_polarity : num  0.188 0 0 0 0.136 ...\n",
      " $ shares                       : num  593 711 1500 1200 505 855 556 891 3600 710 ...\n",
      " - attr(*, \"spec\")=\n",
      "  .. cols(\n",
      "  ..   url = col_character(),\n",
      "  ..   timedelta = col_double(),\n",
      "  ..   n_tokens_title = col_double(),\n",
      "  ..   n_tokens_content = col_double(),\n",
      "  ..   n_unique_tokens = col_double(),\n",
      "  ..   n_non_stop_words = col_double(),\n",
      "  ..   n_non_stop_unique_tokens = col_double(),\n",
      "  ..   num_hrefs = col_double(),\n",
      "  ..   num_self_hrefs = col_double(),\n",
      "  ..   num_imgs = col_double(),\n",
      "  ..   num_videos = col_double(),\n",
      "  ..   average_token_length = col_double(),\n",
      "  ..   num_keywords = col_double(),\n",
      "  ..   data_channel_is_lifestyle = col_double(),\n",
      "  ..   data_channel_is_entertainment = col_double(),\n",
      "  ..   data_channel_is_bus = col_double(),\n",
      "  ..   data_channel_is_socmed = col_double(),\n",
      "  ..   data_channel_is_tech = col_double(),\n",
      "  ..   data_channel_is_world = col_double(),\n",
      "  ..   kw_min_min = col_double(),\n",
      "  ..   kw_max_min = col_double(),\n",
      "  ..   kw_avg_min = col_double(),\n",
      "  ..   kw_min_max = col_double(),\n",
      "  ..   kw_max_max = col_double(),\n",
      "  ..   kw_avg_max = col_double(),\n",
      "  ..   kw_min_avg = col_double(),\n",
      "  ..   kw_max_avg = col_double(),\n",
      "  ..   kw_avg_avg = col_double(),\n",
      "  ..   self_reference_min_shares = col_double(),\n",
      "  ..   self_reference_max_shares = col_double(),\n",
      "  ..   self_reference_avg_sharess = col_double(),\n",
      "  ..   weekday_is_monday = col_double(),\n",
      "  ..   weekday_is_tuesday = col_double(),\n",
      "  ..   weekday_is_wednesday = col_double(),\n",
      "  ..   weekday_is_thursday = col_double(),\n",
      "  ..   weekday_is_friday = col_double(),\n",
      "  ..   weekday_is_saturday = col_double(),\n",
      "  ..   weekday_is_sunday = col_double(),\n",
      "  ..   is_weekend = col_double(),\n",
      "  ..   LDA_00 = col_double(),\n",
      "  ..   LDA_01 = col_double(),\n",
      "  ..   LDA_02 = col_double(),\n",
      "  ..   LDA_03 = col_double(),\n",
      "  ..   LDA_04 = col_double(),\n",
      "  ..   global_subjectivity = col_double(),\n",
      "  ..   global_sentiment_polarity = col_double(),\n",
      "  ..   global_rate_positive_words = col_double(),\n",
      "  ..   global_rate_negative_words = col_double(),\n",
      "  ..   rate_positive_words = col_double(),\n",
      "  ..   rate_negative_words = col_double(),\n",
      "  ..   avg_positive_polarity = col_double(),\n",
      "  ..   min_positive_polarity = col_double(),\n",
      "  ..   max_positive_polarity = col_double(),\n",
      "  ..   avg_negative_polarity = col_double(),\n",
      "  ..   min_negative_polarity = col_double(),\n",
      "  ..   max_negative_polarity = col_double(),\n",
      "  ..   title_subjectivity = col_double(),\n",
      "  ..   title_sentiment_polarity = col_double(),\n",
      "  ..   abs_title_subjectivity = col_double(),\n",
      "  ..   abs_title_sentiment_polarity = col_double(),\n",
      "  ..   shares = col_double()\n",
      "  .. )\n"
     ]
    }
   ],
   "source": [
    "# View the features' names, data types, and the values of some first news articles.\n",
    "str(news)"
   ]
  },
  {
   "cell_type": "markdown",
   "metadata": {},
   "source": [
    "### Example\n",
    "Currently, there are 7 columns to record the weekday when the news article was published, i.e., \"weekday_is_monday\", ...,  \"weekday_is_sunday\". As each news article should only have one published weekday, this is dramatically redundant. We may avoid this by (1) gathering the 7 columns, and then (2) deleting the rows with value 0 in the new column formed by the gathering operator.\n"
   ]
  },
  {
   "cell_type": "code",
   "execution_count": 4,
   "metadata": {
    "scrolled": true
   },
   "outputs": [
    {
     "name": "stdout",
     "output_type": "stream",
     "text": [
      "Classes ‘tbl_df’, ‘tbl’ and 'data.frame':\t39644 obs. of  56 variables:\n",
      " $ url                          : chr  \"http://mashable.com/2013/01/07/amazon-instant-video-browser/\" \"http://mashable.com/2013/01/07/ap-samsung-sponsored-tweets/\" \"http://mashable.com/2013/01/07/apple-40-billion-app-downloads/\" \"http://mashable.com/2013/01/07/astronaut-notre-dame-bcs/\" ...\n",
      " $ timedelta                    : num  731 731 731 731 731 731 731 731 731 731 ...\n",
      " $ n_tokens_title               : num  12 9 9 9 13 10 8 12 11 10 ...\n",
      " $ n_tokens_content             : num  219 255 211 531 1072 ...\n",
      " $ n_unique_tokens              : num  0.664 0.605 0.575 0.504 0.416 ...\n",
      " $ n_non_stop_words             : num  1 1 1 1 1 ...\n",
      " $ n_non_stop_unique_tokens     : num  0.815 0.792 0.664 0.666 0.541 ...\n",
      " $ num_hrefs                    : num  4 3 3 9 19 2 21 20 2 4 ...\n",
      " $ num_self_hrefs               : num  2 1 1 0 19 2 20 20 0 1 ...\n",
      " $ num_imgs                     : num  1 1 1 1 20 0 20 20 0 1 ...\n",
      " $ num_videos                   : num  0 0 0 0 0 0 0 0 0 1 ...\n",
      " $ average_token_length         : num  4.68 4.91 4.39 4.4 4.68 ...\n",
      " $ num_keywords                 : num  5 4 6 7 7 9 10 9 7 5 ...\n",
      " $ data_channel_is_lifestyle    : num  0 0 0 0 0 0 1 0 0 0 ...\n",
      " $ data_channel_is_entertainment: num  1 0 0 1 0 0 0 0 0 0 ...\n",
      " $ data_channel_is_bus          : num  0 1 1 0 0 0 0 0 0 0 ...\n",
      " $ data_channel_is_socmed       : num  0 0 0 0 0 0 0 0 0 0 ...\n",
      " $ data_channel_is_tech         : num  0 0 0 0 1 1 0 1 1 0 ...\n",
      " $ data_channel_is_world        : num  0 0 0 0 0 0 0 0 0 1 ...\n",
      " $ kw_min_min                   : num  0 0 0 0 0 0 0 0 0 0 ...\n",
      " $ kw_max_min                   : num  0 0 0 0 0 0 0 0 0 0 ...\n",
      " $ kw_avg_min                   : num  0 0 0 0 0 0 0 0 0 0 ...\n",
      " $ kw_min_max                   : num  0 0 0 0 0 0 0 0 0 0 ...\n",
      " $ kw_max_max                   : num  0 0 0 0 0 0 0 0 0 0 ...\n",
      " $ kw_avg_max                   : num  0 0 0 0 0 0 0 0 0 0 ...\n",
      " $ kw_min_avg                   : num  0 0 0 0 0 0 0 0 0 0 ...\n",
      " $ kw_max_avg                   : num  0 0 0 0 0 0 0 0 0 0 ...\n",
      " $ kw_avg_avg                   : num  0 0 0 0 0 0 0 0 0 0 ...\n",
      " $ self_reference_min_shares    : num  496 0 918 0 545 8500 545 545 0 0 ...\n",
      " $ self_reference_max_shares    : num  496 0 918 0 16000 8500 16000 16000 0 0 ...\n",
      " $ self_reference_avg_sharess   : num  496 0 918 0 3151 ...\n",
      " $ is_weekend                   : num  0 0 0 0 0 0 0 0 0 0 ...\n",
      " $ LDA_00                       : num  0.5003 0.7998 0.2178 0.0286 0.0286 ...\n",
      " $ LDA_01                       : num  0.3783 0.05 0.0333 0.4193 0.0288 ...\n",
      " $ LDA_02                       : num  0.04 0.0501 0.0334 0.4947 0.0286 ...\n",
      " $ LDA_03                       : num  0.0413 0.0501 0.0333 0.0289 0.0286 ...\n",
      " $ LDA_04                       : num  0.0401 0.05 0.6822 0.0286 0.8854 ...\n",
      " $ global_subjectivity          : num  0.522 0.341 0.702 0.43 0.514 ...\n",
      " $ global_sentiment_polarity    : num  0.0926 0.1489 0.3233 0.1007 0.281 ...\n",
      " $ global_rate_positive_words   : num  0.0457 0.0431 0.0569 0.0414 0.0746 ...\n",
      " $ global_rate_negative_words   : num  0.0137 0.01569 0.00948 0.02072 0.01213 ...\n",
      " $ rate_positive_words          : num  0.769 0.733 0.857 0.667 0.86 ...\n",
      " $ rate_negative_words          : num  0.231 0.267 0.143 0.333 0.14 ...\n",
      " $ avg_positive_polarity        : num  0.379 0.287 0.496 0.386 0.411 ...\n",
      " $ min_positive_polarity        : num  0.1 0.0333 0.1 0.1364 0.0333 ...\n",
      " $ max_positive_polarity        : num  0.7 0.7 1 0.8 1 0.6 1 1 0.8 0.5 ...\n",
      " $ avg_negative_polarity        : num  -0.35 -0.119 -0.467 -0.37 -0.22 ...\n",
      " $ min_negative_polarity        : num  -0.6 -0.125 -0.8 -0.6 -0.5 -0.4 -0.5 -0.5 -0.125 -0.5 ...\n",
      " $ max_negative_polarity        : num  -0.2 -0.1 -0.133 -0.167 -0.05 ...\n",
      " $ title_subjectivity           : num  0.5 0 0 0 0.455 ...\n",
      " $ title_sentiment_polarity     : num  -0.188 0 0 0 0.136 ...\n",
      " $ abs_title_subjectivity       : num  0 0.5 0.5 0.5 0.0455 ...\n",
      " $ abs_title_sentiment_polarity : num  0.188 0 0 0 0.136 ...\n",
      " $ shares                       : num  593 711 1500 1200 505 855 556 891 3600 710 ...\n",
      " $ weekday                      : chr  \"weekday_is_monday\" \"weekday_is_monday\" \"weekday_is_monday\" \"weekday_is_monday\" ...\n",
      " $ published_in_this_day        : num  1 1 1 1 1 1 1 1 1 1 ...\n"
     ]
    },
    {
     "data": {
      "text/html": [
       "<ol class=list-inline>\n",
       "\t<li>39644</li>\n",
       "\t<li>56</li>\n",
       "</ol>\n"
      ],
      "text/latex": [
       "\\begin{enumerate*}\n",
       "\\item 39644\n",
       "\\item 56\n",
       "\\end{enumerate*}\n"
      ],
      "text/markdown": [
       "1. 39644\n",
       "2. 56\n",
       "\n",
       "\n"
      ],
      "text/plain": [
       "[1] 39644    56"
      ]
     },
     "metadata": {},
     "output_type": "display_data"
    }
   ],
   "source": [
    "# Remove news articles with inconsistency with respect to the published week day.\n",
    "x <- filter(news,weekday_is_monday + weekday_is_tuesday + weekday_is_wednesday + weekday_is_thursday + weekday_is_friday + weekday_is_saturday + weekday_is_sunday == 1)\n",
    "# Avoid redundancy.\n",
    "x <- x %>% gather(\"weekday_is_monday\", \"weekday_is_tuesday\", \"weekday_is_wednesday\", \"weekday_is_thursday\", \"weekday_is_friday\", \"weekday_is_saturday\", \"weekday_is_sunday\", key = \"weekday\", value = \"published_in_this_day\") %>% \n",
    "    filter(published_in_this_day == 1)\n",
    "str(x)\n",
    "# View the remaining number of news and number of features for each news.\n",
    "dim(x)"
   ]
  },
  {
   "cell_type": "markdown",
   "metadata": {},
   "source": [
    "**Question: Why do we have this number of features now?**"
   ]
  },
  {
   "cell_type": "markdown",
   "metadata": {},
   "source": [
    "### Exercise\n",
    "Currently, there are 6 columns for recording the news' channel (e.g. tech or entertainment). Each news article can belong to multiple channels. For our task, we only consider news articles that belong to a single channel. We now create such a sub-dataset and avoid the redundancy in storing news articles' channel information."
   ]
  },
  {
   "cell_type": "code",
   "execution_count": 5,
   "metadata": {},
   "outputs": [],
   "source": [
    "# YOUR CODE HERE\n",
    "\n",
    "# First, create a sub-dataset that only contains news articles that belong to a single channel.\n",
    "\n",
    "# Then, remove the redundancy (similarly to the example above).\n",
    "\n",
    "# View the remaining number of news and number of features for each news article."
   ]
  },
  {
   "cell_type": "markdown",
   "metadata": {},
   "source": [
    "## 2. Combining Observations\n",
    "In this section, we will use the **S&P 500** stock dataset in one year, that can downloaded from [here](https://www.kaggle.com/camnugent/sandp500/version/2)\n"
   ]
  },
  {
   "cell_type": "code",
   "execution_count": 6,
   "metadata": {
    "scrolled": true
   },
   "outputs": [
    {
     "name": "stderr",
     "output_type": "stream",
     "text": [
      "Parsed with column specification:\n",
      "cols(\n",
      "  Date = col_date(format = \"\"),\n",
      "  Open = col_double(),\n",
      "  High = col_double(),\n",
      "  Low = col_double(),\n",
      "  Close = col_double(),\n",
      "  Volume = col_double(),\n",
      "  Name = col_character()\n",
      ")\n"
     ]
    }
   ],
   "source": [
    "# Import the dataset.\n",
    "stock <- read_csv(\"all_stocks_1yr.csv\")"
   ]
  },
  {
   "cell_type": "code",
   "execution_count": 7,
   "metadata": {},
   "outputs": [
    {
     "data": {
      "text/html": [
       "<table>\n",
       "<thead><tr><th scope=col>Name</th><th scope=col>Year</th><th scope=col>avg_Volume</th></tr></thead>\n",
       "<tbody>\n",
       "\t<tr><td>A       </td><td>2016    </td><td> 2005638</td></tr>\n",
       "\t<tr><td>A       </td><td>2017    </td><td> 1921419</td></tr>\n",
       "\t<tr><td>AAL     </td><td>2016    </td><td> 7274368</td></tr>\n",
       "\t<tr><td>AAL     </td><td>2017    </td><td> 6409602</td></tr>\n",
       "\t<tr><td>AAP     </td><td>2016    </td><td> 1100843</td></tr>\n",
       "\t<tr><td>AAP     </td><td>2017    </td><td> 1377409</td></tr>\n",
       "\t<tr><td>AAPL    </td><td>2016    </td><td>34085067</td></tr>\n",
       "\t<tr><td>AAPL    </td><td>2017    </td><td>26871036</td></tr>\n",
       "\t<tr><td>ABBV    </td><td>2016    </td><td> 7290186</td></tr>\n",
       "\t<tr><td>ABBV    </td><td>2017    </td><td> 6027669</td></tr>\n",
       "</tbody>\n",
       "</table>\n"
      ],
      "text/latex": [
       "\\begin{tabular}{r|lll}\n",
       " Name & Year & avg\\_Volume\\\\\n",
       "\\hline\n",
       "\t A        & 2016     &  2005638\\\\\n",
       "\t A        & 2017     &  1921419\\\\\n",
       "\t AAL      & 2016     &  7274368\\\\\n",
       "\t AAL      & 2017     &  6409602\\\\\n",
       "\t AAP      & 2016     &  1100843\\\\\n",
       "\t AAP      & 2017     &  1377409\\\\\n",
       "\t AAPL     & 2016     & 34085067\\\\\n",
       "\t AAPL     & 2017     & 26871036\\\\\n",
       "\t ABBV     & 2016     &  7290186\\\\\n",
       "\t ABBV     & 2017     &  6027669\\\\\n",
       "\\end{tabular}\n"
      ],
      "text/markdown": [
       "\n",
       "| Name | Year | avg_Volume |\n",
       "|---|---|---|\n",
       "| A        | 2016     |  2005638 |\n",
       "| A        | 2017     |  1921419 |\n",
       "| AAL      | 2016     |  7274368 |\n",
       "| AAL      | 2017     |  6409602 |\n",
       "| AAP      | 2016     |  1100843 |\n",
       "| AAP      | 2017     |  1377409 |\n",
       "| AAPL     | 2016     | 34085067 |\n",
       "| AAPL     | 2017     | 26871036 |\n",
       "| ABBV     | 2016     |  7290186 |\n",
       "| ABBV     | 2017     |  6027669 |\n",
       "\n"
      ],
      "text/plain": [
       "   Name Year avg_Volume\n",
       "1  A    2016  2005638  \n",
       "2  A    2017  1921419  \n",
       "3  AAL  2016  7274368  \n",
       "4  AAL  2017  6409602  \n",
       "5  AAP  2016  1100843  \n",
       "6  AAP  2017  1377409  \n",
       "7  AAPL 2016 34085067  \n",
       "8  AAPL 2017 26871036  \n",
       "9  ABBV 2016  7290186  \n",
       "10 ABBV 2017  6027669  "
      ]
     },
     "metadata": {},
     "output_type": "display_data"
    }
   ],
   "source": [
    "# Build the statistic.\n",
    "x <- mutate(stock,Year = as.integer(format(as.Date(stock$Date, format=\"%YYYY/%mm/%dd\"),\"%Y\"))) %>%\n",
    "    group_by(Name, Year) %>%\n",
    "    summarise(avg_Volume = mean(Volume, na.rm = TRUE))\n",
    "# View the statistic.\n",
    "head(x,10)"
   ]
  },
  {
   "cell_type": "markdown",
   "metadata": {},
   "source": [
    "### Example\n",
    "Produce statistics of the average traded volume of different companies by years.\n",
    "This can be done by (1) computing the average of the companies by years, and then (2) spreading the \"Year\" column in the created table."
   ]
  },
  {
   "cell_type": "code",
   "execution_count": 8,
   "metadata": {},
   "outputs": [
    {
     "data": {
      "text/html": [
       "<table>\n",
       "<thead><tr><th scope=col>Name</th><th scope=col>2016</th><th scope=col>2017</th></tr></thead>\n",
       "<tbody>\n",
       "\t<tr><td>A       </td><td> 2005638</td><td> 1921419</td></tr>\n",
       "\t<tr><td>AAL     </td><td> 7274368</td><td> 6409602</td></tr>\n",
       "\t<tr><td>AAP     </td><td> 1100843</td><td> 1377409</td></tr>\n",
       "\t<tr><td>AAPL    </td><td>34085067</td><td>26871036</td></tr>\n",
       "\t<tr><td>ABBV    </td><td> 7290186</td><td> 6027669</td></tr>\n",
       "\t<tr><td>ABC     </td><td> 2479587</td><td> 1754708</td></tr>\n",
       "\t<tr><td>ABT     </td><td> 8837834</td><td> 7179487</td></tr>\n",
       "\t<tr><td>ACN     </td><td> 2432214</td><td> 2243384</td></tr>\n",
       "\t<tr><td>ADBE    </td><td> 2462956</td><td> 2351964</td></tr>\n",
       "\t<tr><td>ADI     </td><td> 2533864</td><td> 3263293</td></tr>\n",
       "</tbody>\n",
       "</table>\n"
      ],
      "text/latex": [
       "\\begin{tabular}{r|lll}\n",
       " Name & 2016 & 2017\\\\\n",
       "\\hline\n",
       "\t A        &  2005638 &  1921419\\\\\n",
       "\t AAL      &  7274368 &  6409602\\\\\n",
       "\t AAP      &  1100843 &  1377409\\\\\n",
       "\t AAPL     & 34085067 & 26871036\\\\\n",
       "\t ABBV     &  7290186 &  6027669\\\\\n",
       "\t ABC      &  2479587 &  1754708\\\\\n",
       "\t ABT      &  8837834 &  7179487\\\\\n",
       "\t ACN      &  2432214 &  2243384\\\\\n",
       "\t ADBE     &  2462956 &  2351964\\\\\n",
       "\t ADI      &  2533864 &  3263293\\\\\n",
       "\\end{tabular}\n"
      ],
      "text/markdown": [
       "\n",
       "| Name | 2016 | 2017 |\n",
       "|---|---|---|\n",
       "| A        |  2005638 |  1921419 |\n",
       "| AAL      |  7274368 |  6409602 |\n",
       "| AAP      |  1100843 |  1377409 |\n",
       "| AAPL     | 34085067 | 26871036 |\n",
       "| ABBV     |  7290186 |  6027669 |\n",
       "| ABC      |  2479587 |  1754708 |\n",
       "| ABT      |  8837834 |  7179487 |\n",
       "| ACN      |  2432214 |  2243384 |\n",
       "| ADBE     |  2462956 |  2351964 |\n",
       "| ADI      |  2533864 |  3263293 |\n",
       "\n"
      ],
      "text/plain": [
       "   Name 2016     2017    \n",
       "1  A     2005638  1921419\n",
       "2  AAL   7274368  6409602\n",
       "3  AAP   1100843  1377409\n",
       "4  AAPL 34085067 26871036\n",
       "5  ABBV  7290186  6027669\n",
       "6  ABC   2479587  1754708\n",
       "7  ABT   8837834  7179487\n",
       "8  ACN   2432214  2243384\n",
       "9  ADBE  2462956  2351964\n",
       "10 ADI   2533864  3263293"
      ]
     },
     "metadata": {},
     "output_type": "display_data"
    }
   ],
   "source": [
    "# Build the statistic.\n",
    "x <- mutate(stock,Year = as.integer(format(as.Date(stock$Date, format=\"%YYYY/%mm/%dd\"),\"%Y\"))) %>%\n",
    "    group_by(Name, Year) %>%\n",
    "    summarise(avg_Volume = mean(Volume, na.rm = TRUE)) %>%\n",
    "    spread(key = Year, value = avg_Volume)\n",
    "# View the statistic.\n",
    "head(x,10)"
   ]
  },
  {
   "cell_type": "markdown",
   "metadata": {},
   "source": [
    "### Exercise\n",
    "Produce statistics of the average traded volume of different companies by month."
   ]
  },
  {
   "cell_type": "code",
   "execution_count": 9,
   "metadata": {},
   "outputs": [],
   "source": [
    "#YOUR CODE HERE\n",
    "\n",
    "# Build the statistics.\n",
    "\n",
    "# View the statistics."
   ]
  },
  {
   "cell_type": "markdown",
   "metadata": {},
   "source": [
    "## 3. Examine a single feature\n",
    "In this section, we will again use the [\"Online News Popularity\"](https://archive.ics.uci.edu/ml/datasets/Online+News+Popularity) dataset."
   ]
  },
  {
   "cell_type": "code",
   "execution_count": 10,
   "metadata": {},
   "outputs": [
    {
     "name": "stderr",
     "output_type": "stream",
     "text": [
      "Parsed with column specification:\n",
      "cols(\n",
      "  .default = col_double(),\n",
      "  url = col_character()\n",
      ")\n",
      "See spec(...) for full column specifications.\n"
     ]
    },
    {
     "name": "stdout",
     "output_type": "stream",
     "text": [
      "Classes ‘spec_tbl_df’, ‘tbl_df’, ‘tbl’ and 'data.frame':\t39644 obs. of  61 variables:\n",
      " $ url                          : chr  \"http://mashable.com/2013/01/07/amazon-instant-video-browser/\" \"http://mashable.com/2013/01/07/ap-samsung-sponsored-tweets/\" \"http://mashable.com/2013/01/07/apple-40-billion-app-downloads/\" \"http://mashable.com/2013/01/07/astronaut-notre-dame-bcs/\" ...\n",
      " $ timedelta                    : num  731 731 731 731 731 731 731 731 731 731 ...\n",
      " $ n_tokens_title               : num  12 9 9 9 13 10 8 12 11 10 ...\n",
      " $ n_tokens_content             : num  219 255 211 531 1072 ...\n",
      " $ n_unique_tokens              : num  0.664 0.605 0.575 0.504 0.416 ...\n",
      " $ n_non_stop_words             : num  1 1 1 1 1 ...\n",
      " $ n_non_stop_unique_tokens     : num  0.815 0.792 0.664 0.666 0.541 ...\n",
      " $ num_hrefs                    : num  4 3 3 9 19 2 21 20 2 4 ...\n",
      " $ num_self_hrefs               : num  2 1 1 0 19 2 20 20 0 1 ...\n",
      " $ num_imgs                     : num  1 1 1 1 20 0 20 20 0 1 ...\n",
      " $ num_videos                   : num  0 0 0 0 0 0 0 0 0 1 ...\n",
      " $ average_token_length         : num  4.68 4.91 4.39 4.4 4.68 ...\n",
      " $ num_keywords                 : num  5 4 6 7 7 9 10 9 7 5 ...\n",
      " $ data_channel_is_lifestyle    : num  0 0 0 0 0 0 1 0 0 0 ...\n",
      " $ data_channel_is_entertainment: num  1 0 0 1 0 0 0 0 0 0 ...\n",
      " $ data_channel_is_bus          : num  0 1 1 0 0 0 0 0 0 0 ...\n",
      " $ data_channel_is_socmed       : num  0 0 0 0 0 0 0 0 0 0 ...\n",
      " $ data_channel_is_tech         : num  0 0 0 0 1 1 0 1 1 0 ...\n",
      " $ data_channel_is_world        : num  0 0 0 0 0 0 0 0 0 1 ...\n",
      " $ kw_min_min                   : num  0 0 0 0 0 0 0 0 0 0 ...\n",
      " $ kw_max_min                   : num  0 0 0 0 0 0 0 0 0 0 ...\n",
      " $ kw_avg_min                   : num  0 0 0 0 0 0 0 0 0 0 ...\n",
      " $ kw_min_max                   : num  0 0 0 0 0 0 0 0 0 0 ...\n",
      " $ kw_max_max                   : num  0 0 0 0 0 0 0 0 0 0 ...\n",
      " $ kw_avg_max                   : num  0 0 0 0 0 0 0 0 0 0 ...\n",
      " $ kw_min_avg                   : num  0 0 0 0 0 0 0 0 0 0 ...\n",
      " $ kw_max_avg                   : num  0 0 0 0 0 0 0 0 0 0 ...\n",
      " $ kw_avg_avg                   : num  0 0 0 0 0 0 0 0 0 0 ...\n",
      " $ self_reference_min_shares    : num  496 0 918 0 545 8500 545 545 0 0 ...\n",
      " $ self_reference_max_shares    : num  496 0 918 0 16000 8500 16000 16000 0 0 ...\n",
      " $ self_reference_avg_sharess   : num  496 0 918 0 3151 ...\n",
      " $ weekday_is_monday            : num  1 1 1 1 1 1 1 1 1 1 ...\n",
      " $ weekday_is_tuesday           : num  0 0 0 0 0 0 0 0 0 0 ...\n",
      " $ weekday_is_wednesday         : num  0 0 0 0 0 0 0 0 0 0 ...\n",
      " $ weekday_is_thursday          : num  0 0 0 0 0 0 0 0 0 0 ...\n",
      " $ weekday_is_friday            : num  0 0 0 0 0 0 0 0 0 0 ...\n",
      " $ weekday_is_saturday          : num  0 0 0 0 0 0 0 0 0 0 ...\n",
      " $ weekday_is_sunday            : num  0 0 0 0 0 0 0 0 0 0 ...\n",
      " $ is_weekend                   : num  0 0 0 0 0 0 0 0 0 0 ...\n",
      " $ LDA_00                       : num  0.5003 0.7998 0.2178 0.0286 0.0286 ...\n",
      " $ LDA_01                       : num  0.3783 0.05 0.0333 0.4193 0.0288 ...\n",
      " $ LDA_02                       : num  0.04 0.0501 0.0334 0.4947 0.0286 ...\n",
      " $ LDA_03                       : num  0.0413 0.0501 0.0333 0.0289 0.0286 ...\n",
      " $ LDA_04                       : num  0.0401 0.05 0.6822 0.0286 0.8854 ...\n",
      " $ global_subjectivity          : num  0.522 0.341 0.702 0.43 0.514 ...\n",
      " $ global_sentiment_polarity    : num  0.0926 0.1489 0.3233 0.1007 0.281 ...\n",
      " $ global_rate_positive_words   : num  0.0457 0.0431 0.0569 0.0414 0.0746 ...\n",
      " $ global_rate_negative_words   : num  0.0137 0.01569 0.00948 0.02072 0.01213 ...\n",
      " $ rate_positive_words          : num  0.769 0.733 0.857 0.667 0.86 ...\n",
      " $ rate_negative_words          : num  0.231 0.267 0.143 0.333 0.14 ...\n",
      " $ avg_positive_polarity        : num  0.379 0.287 0.496 0.386 0.411 ...\n",
      " $ min_positive_polarity        : num  0.1 0.0333 0.1 0.1364 0.0333 ...\n",
      " $ max_positive_polarity        : num  0.7 0.7 1 0.8 1 0.6 1 1 0.8 0.5 ...\n",
      " $ avg_negative_polarity        : num  -0.35 -0.119 -0.467 -0.37 -0.22 ...\n",
      " $ min_negative_polarity        : num  -0.6 -0.125 -0.8 -0.6 -0.5 -0.4 -0.5 -0.5 -0.125 -0.5 ...\n",
      " $ max_negative_polarity        : num  -0.2 -0.1 -0.133 -0.167 -0.05 ...\n",
      " $ title_subjectivity           : num  0.5 0 0 0 0.455 ...\n",
      " $ title_sentiment_polarity     : num  -0.188 0 0 0 0.136 ...\n",
      " $ abs_title_subjectivity       : num  0 0.5 0.5 0.5 0.0455 ...\n",
      " $ abs_title_sentiment_polarity : num  0.188 0 0 0 0.136 ...\n",
      " $ shares                       : num  593 711 1500 1200 505 855 556 891 3600 710 ...\n",
      " - attr(*, \"spec\")=\n",
      "  .. cols(\n",
      "  ..   url = col_character(),\n",
      "  ..   timedelta = col_double(),\n",
      "  ..   n_tokens_title = col_double(),\n",
      "  ..   n_tokens_content = col_double(),\n",
      "  ..   n_unique_tokens = col_double(),\n",
      "  ..   n_non_stop_words = col_double(),\n",
      "  ..   n_non_stop_unique_tokens = col_double(),\n",
      "  ..   num_hrefs = col_double(),\n",
      "  ..   num_self_hrefs = col_double(),\n",
      "  ..   num_imgs = col_double(),\n",
      "  ..   num_videos = col_double(),\n",
      "  ..   average_token_length = col_double(),\n",
      "  ..   num_keywords = col_double(),\n",
      "  ..   data_channel_is_lifestyle = col_double(),\n",
      "  ..   data_channel_is_entertainment = col_double(),\n",
      "  ..   data_channel_is_bus = col_double(),\n",
      "  ..   data_channel_is_socmed = col_double(),\n",
      "  ..   data_channel_is_tech = col_double(),\n",
      "  ..   data_channel_is_world = col_double(),\n",
      "  ..   kw_min_min = col_double(),\n",
      "  ..   kw_max_min = col_double(),\n",
      "  ..   kw_avg_min = col_double(),\n",
      "  ..   kw_min_max = col_double(),\n",
      "  ..   kw_max_max = col_double(),\n",
      "  ..   kw_avg_max = col_double(),\n",
      "  ..   kw_min_avg = col_double(),\n",
      "  ..   kw_max_avg = col_double(),\n",
      "  ..   kw_avg_avg = col_double(),\n",
      "  ..   self_reference_min_shares = col_double(),\n",
      "  ..   self_reference_max_shares = col_double(),\n",
      "  ..   self_reference_avg_sharess = col_double(),\n",
      "  ..   weekday_is_monday = col_double(),\n",
      "  ..   weekday_is_tuesday = col_double(),\n",
      "  ..   weekday_is_wednesday = col_double(),\n",
      "  ..   weekday_is_thursday = col_double(),\n",
      "  ..   weekday_is_friday = col_double(),\n",
      "  ..   weekday_is_saturday = col_double(),\n",
      "  ..   weekday_is_sunday = col_double(),\n",
      "  ..   is_weekend = col_double(),\n",
      "  ..   LDA_00 = col_double(),\n",
      "  ..   LDA_01 = col_double(),\n",
      "  ..   LDA_02 = col_double(),\n",
      "  ..   LDA_03 = col_double(),\n",
      "  ..   LDA_04 = col_double(),\n",
      "  ..   global_subjectivity = col_double(),\n",
      "  ..   global_sentiment_polarity = col_double(),\n",
      "  ..   global_rate_positive_words = col_double(),\n",
      "  ..   global_rate_negative_words = col_double(),\n",
      "  ..   rate_positive_words = col_double(),\n",
      "  ..   rate_negative_words = col_double(),\n",
      "  ..   avg_positive_polarity = col_double(),\n",
      "  ..   min_positive_polarity = col_double(),\n",
      "  ..   max_positive_polarity = col_double(),\n",
      "  ..   avg_negative_polarity = col_double(),\n",
      "  ..   min_negative_polarity = col_double(),\n",
      "  ..   max_negative_polarity = col_double(),\n",
      "  ..   title_subjectivity = col_double(),\n",
      "  ..   title_sentiment_polarity = col_double(),\n",
      "  ..   abs_title_subjectivity = col_double(),\n",
      "  ..   abs_title_sentiment_polarity = col_double(),\n",
      "  ..   shares = col_double()\n",
      "  .. )\n"
     ]
    }
   ],
   "source": [
    "# (Re)import the dataset.\n",
    "news <- read_csv(\"OnlineNewsPopularity.csv\")\n",
    "\n",
    "str(news)"
   ]
  },
  {
   "cell_type": "markdown",
   "metadata": {},
   "source": [
    "### Example\n",
    "Examine the age of the news, which is measured by \"timedelta\", i.e., the time difference (number of days) between the publication time of the news article and its crawl time."
   ]
  },
  {
   "cell_type": "code",
   "execution_count": 11,
   "metadata": {},
   "outputs": [
    {
     "data": {
      "text/plain": [
       "   Min. 1st Qu.  Median    Mean 3rd Qu.    Max. \n",
       "    8.0   164.0   339.0   354.5   542.0   731.0 "
      ]
     },
     "metadata": {},
     "output_type": "display_data"
    }
   ],
   "source": [
    "# First, look at the min, max, mean, median, and the quantiles.\n",
    "summary(news$timedelta)"
   ]
  },
  {
   "cell_type": "code",
   "execution_count": 12,
   "metadata": {
    "scrolled": true
   },
   "outputs": [
    {
     "data": {
      "image/png": "[encoded data removed]",
      "text/plain": [
       "plot without title"
      ]
     },
     "metadata": {},
     "output_type": "display_data"
    },
    {
     "data": {
      "image/png": "[encoded data removed]",
      "text/plain": [
       "plot without title"
      ]
     },
     "metadata": {},
     "output_type": "display_data"
    }
   ],
   "source": [
    "# Next, more insight into the title's length by plotting either:\n",
    "# histogram.\n",
    "ggplot(data = news, aes(x=timedelta)) + geom_histogram(bins=100)\n",
    "# or density.\n",
    "ggplot(data = news) + geom_density(mapping = aes(x = timedelta))"
   ]
  },
  {
   "cell_type": "code",
   "execution_count": 13,
   "metadata": {
    "scrolled": true
   },
   "outputs": [
    {
     "data": {
      "image/png": "[encoded data removed]",
      "text/plain": [
       "plot without title"
      ]
     },
     "metadata": {},
     "output_type": "display_data"
    }
   ],
   "source": [
    "# Next, check if there are exceptionally old news articles by inspecting the boxplot.\n",
    "boxplot(news$timedelta)"
   ]
  },
  {
   "cell_type": "markdown",
   "metadata": {},
   "source": [
    "### Exercise\n",
    "Examine the length of the news' title (i.e., \"n_tokens_title\" feature)."
   ]
  },
  {
   "cell_type": "code",
   "execution_count": 14,
   "metadata": {},
   "outputs": [],
   "source": [
    "#YOUR CODE HERE\n",
    "\n",
    "# How does the news' title vary in length?\n",
    "\n",
    "# Is there any exceptionally short/long title? Show them."
   ]
  },
  {
   "cell_type": "markdown",
   "metadata": {},
   "source": [
    "## 4. Examine features' covariation\n",
    "Again, we use the [\"Online News Popularity\" dataset](https://archive.ics.uci.edu/ml/datasets/Online+News+Popularity)."
   ]
  },
  {
   "cell_type": "markdown",
   "metadata": {},
   "source": [
    "### Example\n",
    "In this example, we will try to answer the question: Does the weekday when a news article is published affect its number of shares?\n",
    "We will use a boxplot to compare the number of shares for news articles published on different weekdays."
   ]
  },
  {
   "cell_type": "code",
   "execution_count": 15,
   "metadata": {},
   "outputs": [
    {
     "name": "stdout",
     "output_type": "stream",
     "text": [
      "Classes ‘grouped_df’, ‘tbl_df’, ‘tbl’ and 'data.frame':\t504 obs. of  3 variables:\n",
      " $ Name: chr  \"A\" \"AAL\" \"AAP\" \"AAPL\" ...\n",
      " $ 2016: num  2005638 7274368 1100843 34085067 7290186 ...\n",
      " $ 2017: num  1921419 6409602 1377409 26871036 6027669 ...\n",
      " - attr(*, \"groups\")=Classes ‘tbl_df’, ‘tbl’ and 'data.frame':\t504 obs. of  2 variables:\n",
      "  ..$ Name : chr  \"A\" \"AAL\" \"AAP\" \"AAPL\" ...\n",
      "  ..$ .rows:List of 504\n",
      "  .. ..$ : int 1\n",
      "  .. ..$ : int 2\n",
      "  .. ..$ : int 3\n",
      "  .. ..$ : int 4\n",
      "  .. ..$ : int 5\n",
      "  .. ..$ : int 6\n",
      "  .. ..$ : int 7\n",
      "  .. ..$ : int 8\n",
      "  .. ..$ : int 9\n",
      "  .. ..$ : int 10\n",
      "  .. ..$ : int 11\n",
      "  .. ..$ : int 12\n",
      "  .. ..$ : int 13\n",
      "  .. ..$ : int 14\n",
      "  .. ..$ : int 15\n",
      "  .. ..$ : int 16\n",
      "  .. ..$ : int 17\n",
      "  .. ..$ : int 18\n",
      "  .. ..$ : int 19\n",
      "  .. ..$ : int 20\n",
      "  .. ..$ : int 21\n",
      "  .. ..$ : int 22\n",
      "  .. ..$ : int 23\n",
      "  .. ..$ : int 24\n",
      "  .. ..$ : int 25\n",
      "  .. ..$ : int 26\n",
      "  .. ..$ : int 27\n",
      "  .. ..$ : int 28\n",
      "  .. ..$ : int 29\n",
      "  .. ..$ : int 30\n",
      "  .. ..$ : int 31\n",
      "  .. ..$ : int 32\n",
      "  .. ..$ : int 33\n",
      "  .. ..$ : int 34\n",
      "  .. ..$ : int 35\n",
      "  .. ..$ : int 36\n",
      "  .. ..$ : int 37\n",
      "  .. ..$ : int 38\n",
      "  .. ..$ : int 39\n",
      "  .. ..$ : int 40\n",
      "  .. ..$ : int 41\n",
      "  .. ..$ : int 42\n",
      "  .. ..$ : int 43\n",
      "  .. ..$ : int 44\n",
      "  .. ..$ : int 45\n",
      "  .. ..$ : int 46\n",
      "  .. ..$ : int 47\n",
      "  .. ..$ : int 48\n",
      "  .. ..$ : int 49\n",
      "  .. ..$ : int 50\n",
      "  .. ..$ : int 51\n",
      "  .. ..$ : int 52\n",
      "  .. ..$ : int 53\n",
      "  .. ..$ : int 54\n",
      "  .. ..$ : int 55\n",
      "  .. ..$ : int 56\n",
      "  .. ..$ : int 57\n",
      "  .. ..$ : int 58\n",
      "  .. ..$ : int 59\n",
      "  .. ..$ : int 60\n",
      "  .. ..$ : int 61\n",
      "  .. ..$ : int 62\n",
      "  .. ..$ : int 63\n",
      "  .. ..$ : int 64\n",
      "  .. ..$ : int 65\n",
      "  .. ..$ : int 66\n",
      "  .. ..$ : int 67\n",
      "  .. ..$ : int 68\n",
      "  .. ..$ : int 69\n",
      "  .. ..$ : int 70\n",
      "  .. ..$ : int 71\n",
      "  .. ..$ : int 72\n",
      "  .. ..$ : int 73\n",
      "  .. ..$ : int 74\n",
      "  .. ..$ : int 75\n",
      "  .. ..$ : int 76\n",
      "  .. ..$ : int 77\n",
      "  .. ..$ : int 78\n",
      "  .. ..$ : int 79\n",
      "  .. ..$ : int 80\n",
      "  .. ..$ : int 81\n",
      "  .. ..$ : int 82\n",
      "  .. ..$ : int 83\n",
      "  .. ..$ : int 84\n",
      "  .. ..$ : int 85\n",
      "  .. ..$ : int 86\n",
      "  .. ..$ : int 87\n",
      "  .. ..$ : int 88\n",
      "  .. ..$ : int 89\n",
      "  .. ..$ : int 90\n",
      "  .. ..$ : int 91\n",
      "  .. ..$ : int 92\n",
      "  .. ..$ : int 93\n",
      "  .. ..$ : int 94\n",
      "  .. ..$ : int 95\n",
      "  .. ..$ : int 96\n",
      "  .. ..$ : int 97\n",
      "  .. ..$ : int 98\n",
      "  .. ..$ : int 99\n",
      "  .. .. [list output truncated]\n",
      "  ..- attr(*, \".drop\")= logi FALSE\n",
      "Classes ‘tbl_df’, ‘tbl’ and 'data.frame':\t39644 obs. of  56 variables:\n",
      " $ url                          : chr  \"http://mashable.com/2013/01/07/amazon-instant-video-browser/\" \"http://mashable.com/2013/01/07/ap-samsung-sponsored-tweets/\" \"http://mashable.com/2013/01/07/apple-40-billion-app-downloads/\" \"http://mashable.com/2013/01/07/astronaut-notre-dame-bcs/\" ...\n",
      " $ timedelta                    : num  731 731 731 731 731 731 731 731 731 731 ...\n",
      " $ n_tokens_title               : num  12 9 9 9 13 10 8 12 11 10 ...\n",
      " $ n_tokens_content             : num  219 255 211 531 1072 ...\n",
      " $ n_unique_tokens              : num  0,664 0,605 0,575 0,504 0,416 ...\n",
      " $ n_non_stop_words             : num  1 1 1 1 1 ...\n",
      " $ n_non_stop_unique_tokens     : num  0,815 0,792 0,664 0,666 0,541 ...\n",
      " $ num_hrefs                    : num  4 3 3 9 19 2 21 20 2 4 ...\n",
      " $ num_self_hrefs               : num  2 1 1 0 19 2 20 20 0 1 ...\n",
      " $ num_imgs                     : num  1 1 1 1 20 0 20 20 0 1 ...\n",
      " $ num_videos                   : num  0 0 0 0 0 0 0 0 0 1 ...\n",
      " $ average_token_length         : num  4,68 4,91 4,39 4,40 4,68 ...\n",
      " $ num_keywords                 : num  5 4 6 7 7 9 10 9 7 5 ...\n",
      " $ data_channel_is_lifestyle    : num  0 0 0 0 0 0 1 0 0 0 ...\n",
      " $ data_channel_is_entertainment: num  1 0 0 1 0 0 0 0 0 0 ...\n",
      " $ data_channel_is_bus          : num  0 1 1 0 0 0 0 0 0 0 ...\n",
      " $ data_channel_is_socmed       : num  0 0 0 0 0 0 0 0 0 0 ...\n",
      " $ data_channel_is_tech         : num  0 0 0 0 1 1 0 1 1 0 ...\n",
      " $ data_channel_is_world        : num  0 0 0 0 0 0 0 0 0 1 ...\n",
      " $ kw_min_min                   : num  0 0 0 0 0 0 0 0 0 0 ...\n",
      " $ kw_max_min                   : num  0 0 0 0 0 0 0 0 0 0 ...\n",
      " $ kw_avg_min                   : num  0 0 0 0 0 0 0 0 0 0 ...\n",
      " $ kw_min_max                   : num  0 0 0 0 0 0 0 0 0 0 ...\n",
      " $ kw_max_max                   : num  0 0 0 0 0 0 0 0 0 0 ...\n",
      " $ kw_avg_max                   : num  0 0 0 0 0 0 0 0 0 0 ...\n",
      " $ kw_min_avg                   : num  0 0 0 0 0 0 0 0 0 0 ...\n",
      " $ kw_max_avg                   : num  0 0 0 0 0 0 0 0 0 0 ...\n",
      " $ kw_avg_avg                   : num  0 0 0 0 0 0 0 0 0 0 ...\n",
      " $ self_reference_min_shares    : num  496 0 918 0 545 8500 545 545 0 0 ...\n",
      " $ self_reference_max_shares    : num  496 0 918 0 16000 8500 16000 16000 0 0 ...\n",
      " $ self_reference_avg_sharess   : num  496 0 918 0 3151 ...\n",
      " $ is_weekend                   : num  0 0 0 0 0 0 0 0 0 0 ...\n",
      " $ LDA_00                       : num  0,5003 0,7998 0,2178 0,0286 0,0286 ...\n",
      " $ LDA_01                       : num  0,3783 0,0500 0,0333 0,4193 0,0288 ...\n",
      " $ LDA_02                       : num  0,0400 0,0501 0,0334 0,4947 0,0286 ...\n",
      " $ LDA_03                       : num  0,0413 0,0501 0,0333 0,0289 0,0286 ...\n",
      " $ LDA_04                       : num  0,0401 0,0500 0,6822 0,0286 0,8854 ...\n",
      " $ global_subjectivity          : num  0,522 0,341 0,702 0,430 0,514 ...\n",
      " $ global_sentiment_polarity    : num  0,0926 0,1489 0,3233 0,1007 0,2810 ...\n",
      " $ global_rate_positive_words   : num  0,0457 0,0431 0,0569 0,0414 0,0746 ...\n",
      " $ global_rate_negative_words   : num  0,01370 0,01569 0,00948 0,02072 0,01213 ...\n",
      " $ rate_positive_words          : num  0,769 0,733 0,857 0,667 0,860 ...\n",
      " $ rate_negative_words          : num  0,231 0,267 0,143 0,333 0,140 ...\n",
      " $ avg_positive_polarity        : num  0,379 0,287 0,496 0,386 0,411 ...\n",
      " $ min_positive_polarity        : num  0,1000 0,0333 0,1000 0,1364 0,0333 ...\n",
      " $ max_positive_polarity        : num  0,7 0,7 1,0 0,8 1,0 0,6 1,0 1,0 0,8 0,5 ...\n",
      " $ avg_negative_polarity        : num  -0,350 -0,119 -0,467 -0,370 -0,220 ...\n",
      " $ min_negative_polarity        : num  -0,600 -0,125 -0,800 -0,600 -0,500 -0,400 -0,500 -0,500 -0,125 -0,500 ...\n",
      " $ max_negative_polarity        : num  -0,200 -0,100 -0,133 -0,167 -0,050 ...\n",
      " $ title_subjectivity           : num  0,500 0,000 0,000 0,000 0,455 ...\n",
      " $ title_sentiment_polarity     : num  -0,188 0,000 0,000 0,000 0,136 ...\n",
      " $ abs_title_subjectivity       : num  0,0000 0,5000 0,5000 0,5000 0,0455 ...\n",
      " $ abs_title_sentiment_polarity : num  0,188 0,000 0,000 0,000 0,136 ...\n",
      " $ shares                       : num  593 711 1500 1200 505 855 556 891 3600 710 ...\n",
      " $ weekday                      : chr  \"weekday_is_monday\" \"weekday_is_monday\" \"weekday_is_monday\" \"weekday_is_monday\" ...\n",
      " $ published_in_this_day        : num  1 1 1 1 1 1 1 1 1 1 ...\n"
     ]
    },
    {
     "data": {
      "image/png": "[encoded data removed]",
      "text/plain": [
       "plot without title"
      ]
     },
     "metadata": {},
     "output_type": "display_data"
    }
   ],
   "source": [
    "str(x)\n",
    "# Published weekday vs number of shares.\n",
    "x <- filter(news,weekday_is_monday + weekday_is_tuesday + weekday_is_wednesday + weekday_is_thursday\n",
    "            + weekday_is_friday + weekday_is_saturday + weekday_is_sunday == 1) %>%\n",
    "    gather(\"weekday_is_monday\", \"weekday_is_tuesday\", \"weekday_is_wednesday\", \"weekday_is_thursday\", \"weekday_is_friday\", \"weekday_is_saturday\", \"weekday_is_sunday\", key = \"weekday\", value = \"published_in_this_day\") %>% \n",
    "    filter(published_in_this_day == 1)\n",
    "str(x)\n",
    "ggplot (data = x, mapping = aes(x = weekday, y = shares)) +\n",
    "    geom_boxplot()"
   ]
  },
  {
   "cell_type": "code",
   "execution_count": 16,
   "metadata": {
    "scrolled": true
   },
   "outputs": [
    {
     "name": "stderr",
     "output_type": "stream",
     "text": [
      "Warning message:\n",
      "“Removed 2185 rows containing non-finite values (stat_boxplot).”"
     ]
    },
    {
     "data": {
      "image/png": "[encoded data removed]",
      "text/plain": [
       "plot without title"
      ]
     },
     "metadata": {},
     "output_type": "display_data"
    }
   ],
   "source": [
    "# A better box-plot:\n",
    "x$weekday[x$weekday == \"weekday_is_monday\"] <- \"Monday\"\n",
    "x$weekday[x$weekday == \"weekday_is_tuesday\"] <- \"Tuesday\"\n",
    "x$weekday[x$weekday == \"weekday_is_wednesday\"] <- \"Wednesday\"\n",
    "x$weekday[x$weekday == \"weekday_is_thursday\"] <- \"Thursday\"\n",
    "x$weekday[x$weekday == \"weekday_is_friday\"] <- \"Friday\"\n",
    "x$weekday[x$weekday == \"weekday_is_saturday\"] <- \"Saturday\"\n",
    "x$weekday[x$weekday == \"weekday_is_sunday\"] <- \"Sunday\"\n",
    "ggplot (data = x, mapping = aes(x = weekday, y = shares)) +\n",
    "    geom_boxplot()+\n",
    "     scale_y_continuous(limits = c(0, 10000))"
   ]
  },
  {
   "cell_type": "markdown",
   "metadata": {},
   "source": [
    "**Which conclusion can you make based on the above box-plot?**"
   ]
  },
  {
   "cell_type": "markdown",
   "metadata": {},
   "source": [
    "### Exercise\n",
    "Examine the dataset to answer the question: Does the topic of a news article affect its number of shares? Similarly, what about the article length (i.e., \"n_tokens_content\" feature) and sentimal polarity (i.e., \"global_sentiment_polarity\" feature)?"
   ]
  },
  {
   "cell_type": "code",
   "execution_count": 17,
   "metadata": {},
   "outputs": [],
   "source": [
    "# YOUR CODE HERE\n",
    "\n",
    "# First, create a sub-dataset that contains only news that belong to a single channel.\n",
    "\n",
    "# Then, remove the redundancy as similar to the example above.\n",
    "\n",
    "# Improve features names.\n",
    "\n",
    "# Now, draw the boxplots.\n",
    "\n",
    "# Article length:\n",
    "\n",
    "# Sentiment polarity:"
   ]
  },
  {
   "cell_type": "markdown",
   "metadata": {},
   "source": [
    "**Which conclusion can you make based on the above box-plots?**"
   ]
  },
  {
   "cell_type": "markdown",
   "metadata": {},
   "source": [
    "## 5. Examining the variation of a feature with respect to two other features\n",
    "In this section, we will use the [\"Census Income\"](https://archive.ics.uci.edu/ml/datasets/census+income) dataset."
   ]
  },
  {
   "cell_type": "code",
   "execution_count": 18,
   "metadata": {},
   "outputs": [
    {
     "data": {
      "text/html": [
       "<table>\n",
       "<thead><tr><th scope=col>age</th><th scope=col>workclass</th><th scope=col>fnlwgt</th><th scope=col>education</th><th scope=col>education-num</th><th scope=col>marital-status</th><th scope=col>occupation</th><th scope=col>relationship</th><th scope=col>race</th><th scope=col>sex</th><th scope=col>capital-gain</th><th scope=col>capital-loss</th><th scope=col>hours-per-week</th><th scope=col>native-country</th><th scope=col>income</th></tr></thead>\n",
       "<tbody>\n",
       "\t<tr><td>39                                                           </td><td><span style=white-space:pre-wrap>State-gov       </span>     </td><td> 77516                                                       </td><td><span style=white-space:pre-wrap>Bachelors   </span>         </td><td>13                                                           </td><td><span style=white-space:pre-wrap>Never-married        </span></td><td><span style=white-space:pre-wrap>Adm-clerical     </span>    </td><td>Not-in-family                                                </td><td><span style=white-space:pre-wrap>White             </span>   </td><td><span style=white-space:pre-wrap>Male  </span>               </td><td> 2174                                                        </td><td><span style=white-space:pre-wrap>   0</span>                 </td><td>40                                                           </td><td>United-States                                                </td><td>&lt;=50K                                                     </td></tr>\n",
       "\t<tr><td>50                                                           </td><td>Self-emp-not-inc                                             </td><td> 83311                                                       </td><td><span style=white-space:pre-wrap>Bachelors   </span>         </td><td>13                                                           </td><td><span style=white-space:pre-wrap>Married-civ-spouse   </span></td><td><span style=white-space:pre-wrap>Exec-managerial  </span>    </td><td><span style=white-space:pre-wrap>Husband      </span>        </td><td><span style=white-space:pre-wrap>White             </span>   </td><td><span style=white-space:pre-wrap>Male  </span>               </td><td><span style=white-space:pre-wrap>    0</span>                </td><td><span style=white-space:pre-wrap>   0</span>                 </td><td>13                                                           </td><td>United-States                                                </td><td>&lt;=50K                                                     </td></tr>\n",
       "\t<tr><td>38                                                           </td><td><span style=white-space:pre-wrap>Private         </span>     </td><td>215646                                                       </td><td><span style=white-space:pre-wrap>HS-grad     </span>         </td><td> 9                                                           </td><td><span style=white-space:pre-wrap>Divorced             </span></td><td>Handlers-cleaners                                            </td><td>Not-in-family                                                </td><td><span style=white-space:pre-wrap>White             </span>   </td><td><span style=white-space:pre-wrap>Male  </span>               </td><td><span style=white-space:pre-wrap>    0</span>                </td><td><span style=white-space:pre-wrap>   0</span>                 </td><td>40                                                           </td><td>United-States                                                </td><td>&lt;=50K                                                     </td></tr>\n",
       "\t<tr><td>53                                                           </td><td><span style=white-space:pre-wrap>Private         </span>     </td><td>234721                                                       </td><td><span style=white-space:pre-wrap>11th        </span>         </td><td> 7                                                           </td><td><span style=white-space:pre-wrap>Married-civ-spouse   </span></td><td>Handlers-cleaners                                            </td><td><span style=white-space:pre-wrap>Husband      </span>        </td><td><span style=white-space:pre-wrap>Black             </span>   </td><td><span style=white-space:pre-wrap>Male  </span>               </td><td><span style=white-space:pre-wrap>    0</span>                </td><td><span style=white-space:pre-wrap>   0</span>                 </td><td>40                                                           </td><td>United-States                                                </td><td>&lt;=50K                                                     </td></tr>\n",
       "\t<tr><td>28                                                           </td><td><span style=white-space:pre-wrap>Private         </span>     </td><td>338409                                                       </td><td><span style=white-space:pre-wrap>Bachelors   </span>         </td><td>13                                                           </td><td><span style=white-space:pre-wrap>Married-civ-spouse   </span></td><td><span style=white-space:pre-wrap>Prof-specialty   </span>    </td><td><span style=white-space:pre-wrap>Wife         </span>        </td><td><span style=white-space:pre-wrap>Black             </span>   </td><td>Female                                                       </td><td><span style=white-space:pre-wrap>    0</span>                </td><td><span style=white-space:pre-wrap>   0</span>                 </td><td>40                                                           </td><td><span style=white-space:pre-wrap>Cuba         </span>        </td><td>&lt;=50K                                                     </td></tr>\n",
       "\t<tr><td>37                                                           </td><td><span style=white-space:pre-wrap>Private         </span>     </td><td>284582                                                       </td><td><span style=white-space:pre-wrap>Masters     </span>         </td><td>14                                                           </td><td><span style=white-space:pre-wrap>Married-civ-spouse   </span></td><td><span style=white-space:pre-wrap>Exec-managerial  </span>    </td><td><span style=white-space:pre-wrap>Wife         </span>        </td><td><span style=white-space:pre-wrap>White             </span>   </td><td>Female                                                       </td><td><span style=white-space:pre-wrap>    0</span>                </td><td><span style=white-space:pre-wrap>   0</span>                 </td><td>40                                                           </td><td>United-States                                                </td><td>&lt;=50K                                                     </td></tr>\n",
       "\t<tr><td>49                                                        </td><td><span style=white-space:pre-wrap>Private         </span>  </td><td>160187                                                    </td><td><span style=white-space:pre-wrap>9th         </span>      </td><td> 5                                                        </td><td>Married-spouse-absent                                     </td><td><span style=white-space:pre-wrap>Other-service    </span> </td><td>Not-in-family                                             </td><td><span style=white-space:pre-wrap>Black             </span></td><td>Female                                                    </td><td><span style=white-space:pre-wrap>    0</span>             </td><td><span style=white-space:pre-wrap>   0</span>              </td><td>16                                                        </td><td><span style=white-space:pre-wrap>Jamaica      </span>     </td><td>&lt;=50K                                                  </td></tr>\n",
       "\t<tr><td>52                                                           </td><td>Self-emp-not-inc                                             </td><td>209642                                                       </td><td><span style=white-space:pre-wrap>HS-grad     </span>         </td><td> 9                                                           </td><td><span style=white-space:pre-wrap>Married-civ-spouse   </span></td><td><span style=white-space:pre-wrap>Exec-managerial  </span>    </td><td><span style=white-space:pre-wrap>Husband      </span>        </td><td><span style=white-space:pre-wrap>White             </span>   </td><td><span style=white-space:pre-wrap>Male  </span>               </td><td><span style=white-space:pre-wrap>    0</span>                </td><td><span style=white-space:pre-wrap>   0</span>                 </td><td>45                                                           </td><td>United-States                                                </td><td>&gt;50K                                                      </td></tr>\n",
       "\t<tr><td>31                                                           </td><td><span style=white-space:pre-wrap>Private         </span>     </td><td> 45781                                                       </td><td><span style=white-space:pre-wrap>Masters     </span>         </td><td>14                                                           </td><td><span style=white-space:pre-wrap>Never-married        </span></td><td><span style=white-space:pre-wrap>Prof-specialty   </span>    </td><td>Not-in-family                                                </td><td><span style=white-space:pre-wrap>White             </span>   </td><td>Female                                                       </td><td>14084                                                        </td><td><span style=white-space:pre-wrap>   0</span>                 </td><td>50                                                           </td><td>United-States                                                </td><td>&gt;50K                                                      </td></tr>\n",
       "\t<tr><td>42                                                           </td><td><span style=white-space:pre-wrap>Private         </span>     </td><td>159449                                                       </td><td><span style=white-space:pre-wrap>Bachelors   </span>         </td><td>13                                                           </td><td><span style=white-space:pre-wrap>Married-civ-spouse   </span></td><td><span style=white-space:pre-wrap>Exec-managerial  </span>    </td><td><span style=white-space:pre-wrap>Husband      </span>        </td><td><span style=white-space:pre-wrap>White             </span>   </td><td><span style=white-space:pre-wrap>Male  </span>               </td><td> 5178                                                        </td><td><span style=white-space:pre-wrap>   0</span>                 </td><td>40                                                           </td><td>United-States                                                </td><td>&gt;50K                                                      </td></tr>\n",
       "\t<tr><td>37                                                           </td><td><span style=white-space:pre-wrap>Private         </span>     </td><td>280464                                                       </td><td>Some-college                                                 </td><td>10                                                           </td><td><span style=white-space:pre-wrap>Married-civ-spouse   </span></td><td><span style=white-space:pre-wrap>Exec-managerial  </span>    </td><td><span style=white-space:pre-wrap>Husband      </span>        </td><td><span style=white-space:pre-wrap>Black             </span>   </td><td><span style=white-space:pre-wrap>Male  </span>               </td><td><span style=white-space:pre-wrap>    0</span>                </td><td><span style=white-space:pre-wrap>   0</span>                 </td><td>80                                                           </td><td>United-States                                                </td><td>&gt;50K                                                      </td></tr>\n",
       "\t<tr><td>30                                                           </td><td><span style=white-space:pre-wrap>State-gov       </span>     </td><td>141297                                                       </td><td><span style=white-space:pre-wrap>Bachelors   </span>         </td><td>13                                                           </td><td><span style=white-space:pre-wrap>Married-civ-spouse   </span></td><td><span style=white-space:pre-wrap>Prof-specialty   </span>    </td><td><span style=white-space:pre-wrap>Husband      </span>        </td><td>Asian-Pac-Islander                                           </td><td><span style=white-space:pre-wrap>Male  </span>               </td><td><span style=white-space:pre-wrap>    0</span>                </td><td><span style=white-space:pre-wrap>   0</span>                 </td><td>40                                                           </td><td><span style=white-space:pre-wrap>India        </span>        </td><td>&gt;50K                                                      </td></tr>\n",
       "\t<tr><td>23                                                           </td><td><span style=white-space:pre-wrap>Private         </span>     </td><td>122272                                                       </td><td><span style=white-space:pre-wrap>Bachelors   </span>         </td><td>13                                                           </td><td><span style=white-space:pre-wrap>Never-married        </span></td><td><span style=white-space:pre-wrap>Adm-clerical     </span>    </td><td><span style=white-space:pre-wrap>Own-child    </span>        </td><td><span style=white-space:pre-wrap>White             </span>   </td><td>Female                                                       </td><td><span style=white-space:pre-wrap>    0</span>                </td><td><span style=white-space:pre-wrap>   0</span>                 </td><td>30                                                           </td><td>United-States                                                </td><td>&lt;=50K                                                     </td></tr>\n",
       "\t<tr><td>32                                                           </td><td><span style=white-space:pre-wrap>Private         </span>     </td><td>205019                                                       </td><td><span style=white-space:pre-wrap>Assoc-acdm  </span>         </td><td>12                                                           </td><td><span style=white-space:pre-wrap>Never-married        </span></td><td><span style=white-space:pre-wrap>Sales            </span>    </td><td>Not-in-family                                                </td><td><span style=white-space:pre-wrap>Black             </span>   </td><td><span style=white-space:pre-wrap>Male  </span>               </td><td><span style=white-space:pre-wrap>    0</span>                </td><td><span style=white-space:pre-wrap>   0</span>                 </td><td>50                                                           </td><td>United-States                                                </td><td>&lt;=50K                                                     </td></tr>\n",
       "\t<tr><td>40                                                           </td><td><span style=white-space:pre-wrap>Private         </span>     </td><td>121772                                                       </td><td><span style=white-space:pre-wrap>Assoc-voc   </span>         </td><td>11                                                           </td><td><span style=white-space:pre-wrap>Married-civ-spouse   </span></td><td><span style=white-space:pre-wrap>Craft-repair     </span>    </td><td><span style=white-space:pre-wrap>Husband      </span>        </td><td>Asian-Pac-Islander                                           </td><td><span style=white-space:pre-wrap>Male  </span>               </td><td><span style=white-space:pre-wrap>    0</span>                </td><td><span style=white-space:pre-wrap>   0</span>                 </td><td>40                                                           </td><td><span style=white-space:pre-wrap>?            </span>        </td><td>&gt;50K                                                      </td></tr>\n",
       "\t<tr><td>34                                                           </td><td><span style=white-space:pre-wrap>Private         </span>     </td><td>245487                                                       </td><td><span style=white-space:pre-wrap>7th-8th     </span>         </td><td> 4                                                           </td><td><span style=white-space:pre-wrap>Married-civ-spouse   </span></td><td>Transport-moving                                             </td><td><span style=white-space:pre-wrap>Husband      </span>        </td><td>Amer-Indian-Eskimo                                           </td><td><span style=white-space:pre-wrap>Male  </span>               </td><td><span style=white-space:pre-wrap>    0</span>                </td><td><span style=white-space:pre-wrap>   0</span>                 </td><td>45                                                           </td><td><span style=white-space:pre-wrap>Mexico       </span>        </td><td>&lt;=50K                                                     </td></tr>\n",
       "\t<tr><td>25                                                           </td><td>Self-emp-not-inc                                             </td><td>176756                                                       </td><td><span style=white-space:pre-wrap>HS-grad     </span>         </td><td> 9                                                           </td><td><span style=white-space:pre-wrap>Never-married        </span></td><td><span style=white-space:pre-wrap>Farming-fishing  </span>    </td><td><span style=white-space:pre-wrap>Own-child    </span>        </td><td><span style=white-space:pre-wrap>White             </span>   </td><td><span style=white-space:pre-wrap>Male  </span>               </td><td><span style=white-space:pre-wrap>    0</span>                </td><td><span style=white-space:pre-wrap>   0</span>                 </td><td>35                                                           </td><td>United-States                                                </td><td>&lt;=50K                                                     </td></tr>\n",
       "\t<tr><td>32                                                           </td><td><span style=white-space:pre-wrap>Private         </span>     </td><td>186824                                                       </td><td><span style=white-space:pre-wrap>HS-grad     </span>         </td><td> 9                                                           </td><td><span style=white-space:pre-wrap>Never-married        </span></td><td>Machine-op-inspct                                            </td><td><span style=white-space:pre-wrap>Unmarried    </span>        </td><td><span style=white-space:pre-wrap>White             </span>   </td><td><span style=white-space:pre-wrap>Male  </span>               </td><td><span style=white-space:pre-wrap>    0</span>                </td><td><span style=white-space:pre-wrap>   0</span>                 </td><td>40                                                           </td><td>United-States                                                </td><td>&lt;=50K                                                     </td></tr>\n",
       "\t<tr><td>38                                                           </td><td><span style=white-space:pre-wrap>Private         </span>     </td><td> 28887                                                       </td><td><span style=white-space:pre-wrap>11th        </span>         </td><td> 7                                                           </td><td><span style=white-space:pre-wrap>Married-civ-spouse   </span></td><td><span style=white-space:pre-wrap>Sales            </span>    </td><td><span style=white-space:pre-wrap>Husband      </span>        </td><td><span style=white-space:pre-wrap>White             </span>   </td><td><span style=white-space:pre-wrap>Male  </span>               </td><td><span style=white-space:pre-wrap>    0</span>                </td><td><span style=white-space:pre-wrap>   0</span>                 </td><td>50                                                           </td><td>United-States                                                </td><td>&lt;=50K                                                     </td></tr>\n",
       "\t<tr><td>43                                                           </td><td>Self-emp-not-inc                                             </td><td>292175                                                       </td><td><span style=white-space:pre-wrap>Masters     </span>         </td><td>14                                                           </td><td><span style=white-space:pre-wrap>Divorced             </span></td><td><span style=white-space:pre-wrap>Exec-managerial  </span>    </td><td><span style=white-space:pre-wrap>Unmarried    </span>        </td><td><span style=white-space:pre-wrap>White             </span>   </td><td>Female                                                       </td><td><span style=white-space:pre-wrap>    0</span>                </td><td><span style=white-space:pre-wrap>   0</span>                 </td><td>45                                                           </td><td>United-States                                                </td><td>&gt;50K                                                      </td></tr>\n",
       "\t<tr><td>40                                                           </td><td><span style=white-space:pre-wrap>Private         </span>     </td><td>193524                                                       </td><td><span style=white-space:pre-wrap>Doctorate   </span>         </td><td>16                                                           </td><td><span style=white-space:pre-wrap>Married-civ-spouse   </span></td><td><span style=white-space:pre-wrap>Prof-specialty   </span>    </td><td><span style=white-space:pre-wrap>Husband      </span>        </td><td><span style=white-space:pre-wrap>White             </span>   </td><td><span style=white-space:pre-wrap>Male  </span>               </td><td><span style=white-space:pre-wrap>    0</span>                </td><td><span style=white-space:pre-wrap>   0</span>                 </td><td>60                                                           </td><td>United-States                                                </td><td>&gt;50K                                                      </td></tr>\n",
       "\t<tr><td>54                                                           </td><td><span style=white-space:pre-wrap>Private         </span>     </td><td>302146                                                       </td><td><span style=white-space:pre-wrap>HS-grad     </span>         </td><td> 9                                                           </td><td><span style=white-space:pre-wrap>Separated            </span></td><td><span style=white-space:pre-wrap>Other-service    </span>    </td><td><span style=white-space:pre-wrap>Unmarried    </span>        </td><td><span style=white-space:pre-wrap>Black             </span>   </td><td>Female                                                       </td><td><span style=white-space:pre-wrap>    0</span>                </td><td><span style=white-space:pre-wrap>   0</span>                 </td><td>20                                                           </td><td>United-States                                                </td><td>&lt;=50K                                                     </td></tr>\n",
       "\t<tr><td>35                                                           </td><td><span style=white-space:pre-wrap>Federal-gov     </span>     </td><td> 76845                                                       </td><td><span style=white-space:pre-wrap>9th         </span>         </td><td> 5                                                           </td><td><span style=white-space:pre-wrap>Married-civ-spouse   </span></td><td><span style=white-space:pre-wrap>Farming-fishing  </span>    </td><td><span style=white-space:pre-wrap>Husband      </span>        </td><td><span style=white-space:pre-wrap>Black             </span>   </td><td><span style=white-space:pre-wrap>Male  </span>               </td><td><span style=white-space:pre-wrap>    0</span>                </td><td><span style=white-space:pre-wrap>   0</span>                 </td><td>40                                                           </td><td>United-States                                                </td><td>&lt;=50K                                                     </td></tr>\n",
       "\t<tr><td>43                                                           </td><td><span style=white-space:pre-wrap>Private         </span>     </td><td>117037                                                       </td><td><span style=white-space:pre-wrap>11th        </span>         </td><td> 7                                                           </td><td><span style=white-space:pre-wrap>Married-civ-spouse   </span></td><td>Transport-moving                                             </td><td><span style=white-space:pre-wrap>Husband      </span>        </td><td><span style=white-space:pre-wrap>White             </span>   </td><td><span style=white-space:pre-wrap>Male  </span>               </td><td><span style=white-space:pre-wrap>    0</span>                </td><td>2042                                                         </td><td>40                                                           </td><td>United-States                                                </td><td>&lt;=50K                                                     </td></tr>\n",
       "\t<tr><td>59                                                           </td><td><span style=white-space:pre-wrap>Private         </span>     </td><td>109015                                                       </td><td><span style=white-space:pre-wrap>HS-grad     </span>         </td><td> 9                                                           </td><td><span style=white-space:pre-wrap>Divorced             </span></td><td><span style=white-space:pre-wrap>Tech-support     </span>    </td><td><span style=white-space:pre-wrap>Unmarried    </span>        </td><td><span style=white-space:pre-wrap>White             </span>   </td><td>Female                                                       </td><td><span style=white-space:pre-wrap>    0</span>                </td><td><span style=white-space:pre-wrap>   0</span>                 </td><td>40                                                           </td><td>United-States                                                </td><td>&lt;=50K                                                     </td></tr>\n",
       "\t<tr><td>56                                                           </td><td><span style=white-space:pre-wrap>Local-gov       </span>     </td><td>216851                                                       </td><td><span style=white-space:pre-wrap>Bachelors   </span>         </td><td>13                                                           </td><td><span style=white-space:pre-wrap>Married-civ-spouse   </span></td><td><span style=white-space:pre-wrap>Tech-support     </span>    </td><td><span style=white-space:pre-wrap>Husband      </span>        </td><td><span style=white-space:pre-wrap>White             </span>   </td><td><span style=white-space:pre-wrap>Male  </span>               </td><td><span style=white-space:pre-wrap>    0</span>                </td><td><span style=white-space:pre-wrap>   0</span>                 </td><td>40                                                           </td><td>United-States                                                </td><td>&gt;50K                                                      </td></tr>\n",
       "\t<tr><td>19                                                           </td><td><span style=white-space:pre-wrap>Private         </span>     </td><td>168294                                                       </td><td><span style=white-space:pre-wrap>HS-grad     </span>         </td><td> 9                                                           </td><td><span style=white-space:pre-wrap>Never-married        </span></td><td><span style=white-space:pre-wrap>Craft-repair     </span>    </td><td><span style=white-space:pre-wrap>Own-child    </span>        </td><td><span style=white-space:pre-wrap>White             </span>   </td><td><span style=white-space:pre-wrap>Male  </span>               </td><td><span style=white-space:pre-wrap>    0</span>                </td><td><span style=white-space:pre-wrap>   0</span>                 </td><td>40                                                           </td><td>United-States                                                </td><td>&lt;=50K                                                     </td></tr>\n",
       "\t<tr><td>54                                                           </td><td><span style=white-space:pre-wrap>?               </span>     </td><td>180211                                                       </td><td>Some-college                                                 </td><td>10                                                           </td><td><span style=white-space:pre-wrap>Married-civ-spouse   </span></td><td><span style=white-space:pre-wrap>?                </span>    </td><td><span style=white-space:pre-wrap>Husband      </span>        </td><td>Asian-Pac-Islander                                           </td><td><span style=white-space:pre-wrap>Male  </span>               </td><td><span style=white-space:pre-wrap>    0</span>                </td><td><span style=white-space:pre-wrap>   0</span>                 </td><td>60                                                           </td><td><span style=white-space:pre-wrap>South        </span>        </td><td>&gt;50K                                                      </td></tr>\n",
       "\t<tr><td>39                                                           </td><td><span style=white-space:pre-wrap>Private         </span>     </td><td>367260                                                       </td><td><span style=white-space:pre-wrap>HS-grad     </span>         </td><td> 9                                                           </td><td><span style=white-space:pre-wrap>Divorced             </span></td><td><span style=white-space:pre-wrap>Exec-managerial  </span>    </td><td>Not-in-family                                                </td><td><span style=white-space:pre-wrap>White             </span>   </td><td><span style=white-space:pre-wrap>Male  </span>               </td><td><span style=white-space:pre-wrap>    0</span>                </td><td><span style=white-space:pre-wrap>   0</span>                 </td><td>80                                                           </td><td>United-States                                                </td><td>&lt;=50K                                                     </td></tr>\n",
       "\t<tr><td>49                                                           </td><td><span style=white-space:pre-wrap>Private         </span>     </td><td>193366                                                       </td><td><span style=white-space:pre-wrap>HS-grad     </span>         </td><td> 9                                                           </td><td><span style=white-space:pre-wrap>Married-civ-spouse   </span></td><td><span style=white-space:pre-wrap>Craft-repair     </span>    </td><td><span style=white-space:pre-wrap>Husband      </span>        </td><td><span style=white-space:pre-wrap>White             </span>   </td><td><span style=white-space:pre-wrap>Male  </span>               </td><td><span style=white-space:pre-wrap>    0</span>                </td><td><span style=white-space:pre-wrap>   0</span>                 </td><td>40                                                           </td><td>United-States                                                </td><td>&lt;=50K                                                     </td></tr>\n",
       "\t<tr><td>...</td><td>...</td><td>...</td><td>...</td><td>...</td><td>...</td><td>...</td><td>...</td><td>...</td><td>...</td><td>...</td><td>...</td><td>...</td><td>...</td><td>...</td></tr>\n",
       "\t<tr><td>30                                                        </td><td><span style=white-space:pre-wrap>?               </span>  </td><td> 33811                                                    </td><td><span style=white-space:pre-wrap>Bachelors   </span>      </td><td>13                                                        </td><td><span style=white-space:pre-wrap>Never-married     </span></td><td><span style=white-space:pre-wrap>?                </span> </td><td>Not-in-family                                             </td><td>Asian-Pac-Islander                                        </td><td>Female                                                    </td><td><span style=white-space:pre-wrap>    0</span>             </td><td>0                                                         </td><td>99                                                        </td><td>United-States                                             </td><td>&lt;=50K                                                  </td></tr>\n",
       "\t<tr><td>34                                                        </td><td><span style=white-space:pre-wrap>Private         </span>  </td><td>204461                                                    </td><td><span style=white-space:pre-wrap>Doctorate   </span>      </td><td>16                                                        </td><td>Married-civ-spouse                                        </td><td><span style=white-space:pre-wrap>Prof-specialty   </span> </td><td><span style=white-space:pre-wrap>Husband       </span>    </td><td><span style=white-space:pre-wrap>White             </span></td><td><span style=white-space:pre-wrap>Male  </span>            </td><td><span style=white-space:pre-wrap>    0</span>             </td><td>0                                                         </td><td>60                                                        </td><td>United-States                                             </td><td>&gt;50K                                                   </td></tr>\n",
       "\t<tr><td>54                                                       </td><td><span style=white-space:pre-wrap>Private         </span> </td><td>337992                                                   </td><td><span style=white-space:pre-wrap>Bachelors   </span>     </td><td>13                                                       </td><td>Married-civ-spouse                                       </td><td><span style=white-space:pre-wrap>Exec-managerial  </span></td><td><span style=white-space:pre-wrap>Husband       </span>   </td><td>Asian-Pac-Islander                                       </td><td><span style=white-space:pre-wrap>Male  </span>           </td><td><span style=white-space:pre-wrap>    0</span>            </td><td>0                                                        </td><td>50                                                       </td><td><span style=white-space:pre-wrap>Japan        </span>    </td><td>&gt;50K                                                  </td></tr>\n",
       "\t<tr><td>37                                                        </td><td><span style=white-space:pre-wrap>Private         </span>  </td><td>179137                                                    </td><td>Some-college                                              </td><td>10                                                        </td><td><span style=white-space:pre-wrap>Divorced          </span></td><td><span style=white-space:pre-wrap>Adm-clerical     </span> </td><td><span style=white-space:pre-wrap>Unmarried     </span>    </td><td><span style=white-space:pre-wrap>White             </span></td><td>Female                                                    </td><td><span style=white-space:pre-wrap>    0</span>             </td><td>0                                                         </td><td>39                                                        </td><td>United-States                                             </td><td>&lt;=50K                                                  </td></tr>\n",
       "\t<tr><td>22                                                        </td><td><span style=white-space:pre-wrap>Private         </span>  </td><td>325033                                                    </td><td><span style=white-space:pre-wrap>12th        </span>      </td><td> 8                                                        </td><td><span style=white-space:pre-wrap>Never-married     </span></td><td><span style=white-space:pre-wrap>Protective-serv  </span> </td><td><span style=white-space:pre-wrap>Own-child     </span>    </td><td><span style=white-space:pre-wrap>Black             </span></td><td><span style=white-space:pre-wrap>Male  </span>            </td><td><span style=white-space:pre-wrap>    0</span>             </td><td>0                                                         </td><td>35                                                        </td><td>United-States                                             </td><td>&lt;=50K                                                  </td></tr>\n",
       "\t<tr><td>34                                                        </td><td><span style=white-space:pre-wrap>Private         </span>  </td><td>160216                                                    </td><td><span style=white-space:pre-wrap>Bachelors   </span>      </td><td>13                                                        </td><td><span style=white-space:pre-wrap>Never-married     </span></td><td><span style=white-space:pre-wrap>Exec-managerial  </span> </td><td>Not-in-family                                             </td><td><span style=white-space:pre-wrap>White             </span></td><td>Female                                                    </td><td><span style=white-space:pre-wrap>    0</span>             </td><td>0                                                         </td><td>55                                                        </td><td>United-States                                             </td><td>&gt;50K                                                   </td></tr>\n",
       "\t<tr><td>30                                                        </td><td><span style=white-space:pre-wrap>Private         </span>  </td><td>345898                                                    </td><td><span style=white-space:pre-wrap>HS-grad     </span>      </td><td> 9                                                        </td><td><span style=white-space:pre-wrap>Never-married     </span></td><td><span style=white-space:pre-wrap>Craft-repair     </span> </td><td>Not-in-family                                             </td><td><span style=white-space:pre-wrap>Black             </span></td><td><span style=white-space:pre-wrap>Male  </span>            </td><td><span style=white-space:pre-wrap>    0</span>             </td><td>0                                                         </td><td>46                                                        </td><td>United-States                                             </td><td>&lt;=50K                                                  </td></tr>\n",
       "\t<tr><td>38                                                        </td><td><span style=white-space:pre-wrap>Private         </span>  </td><td>139180                                                    </td><td><span style=white-space:pre-wrap>Bachelors   </span>      </td><td>13                                                        </td><td><span style=white-space:pre-wrap>Divorced          </span></td><td><span style=white-space:pre-wrap>Prof-specialty   </span> </td><td><span style=white-space:pre-wrap>Unmarried     </span>    </td><td><span style=white-space:pre-wrap>Black             </span></td><td>Female                                                    </td><td>15020                                                     </td><td>0                                                         </td><td>45                                                        </td><td>United-States                                             </td><td>&gt;50K                                                   </td></tr>\n",
       "\t<tr><td>71                                                        </td><td><span style=white-space:pre-wrap>?               </span>  </td><td>287372                                                    </td><td><span style=white-space:pre-wrap>Doctorate   </span>      </td><td>16                                                        </td><td>Married-civ-spouse                                        </td><td><span style=white-space:pre-wrap>?                </span> </td><td><span style=white-space:pre-wrap>Husband       </span>    </td><td><span style=white-space:pre-wrap>White             </span></td><td><span style=white-space:pre-wrap>Male  </span>            </td><td><span style=white-space:pre-wrap>    0</span>             </td><td>0                                                         </td><td>10                                                        </td><td>United-States                                             </td><td>&gt;50K                                                   </td></tr>\n",
       "\t<tr><td>45                                                        </td><td><span style=white-space:pre-wrap>State-gov       </span>  </td><td>252208                                                    </td><td><span style=white-space:pre-wrap>HS-grad     </span>      </td><td> 9                                                        </td><td><span style=white-space:pre-wrap>Separated         </span></td><td><span style=white-space:pre-wrap>Adm-clerical     </span> </td><td><span style=white-space:pre-wrap>Own-child     </span>    </td><td><span style=white-space:pre-wrap>White             </span></td><td>Female                                                    </td><td><span style=white-space:pre-wrap>    0</span>             </td><td>0                                                         </td><td>40                                                        </td><td>United-States                                             </td><td>&lt;=50K                                                  </td></tr>\n",
       "\t<tr><td>41                                                        </td><td><span style=white-space:pre-wrap>?               </span>  </td><td>202822                                                    </td><td><span style=white-space:pre-wrap>HS-grad     </span>      </td><td> 9                                                        </td><td><span style=white-space:pre-wrap>Separated         </span></td><td><span style=white-space:pre-wrap>?                </span> </td><td>Not-in-family                                             </td><td><span style=white-space:pre-wrap>Black             </span></td><td>Female                                                    </td><td><span style=white-space:pre-wrap>    0</span>             </td><td>0                                                         </td><td>32                                                        </td><td>United-States                                             </td><td>&lt;=50K                                                  </td></tr>\n",
       "\t<tr><td>72                                                        </td><td><span style=white-space:pre-wrap>?               </span>  </td><td>129912                                                    </td><td><span style=white-space:pre-wrap>HS-grad     </span>      </td><td> 9                                                        </td><td>Married-civ-spouse                                        </td><td><span style=white-space:pre-wrap>?                </span> </td><td><span style=white-space:pre-wrap>Husband       </span>    </td><td><span style=white-space:pre-wrap>White             </span></td><td><span style=white-space:pre-wrap>Male  </span>            </td><td><span style=white-space:pre-wrap>    0</span>             </td><td>0                                                         </td><td>25                                                        </td><td>United-States                                             </td><td>&lt;=50K                                                  </td></tr>\n",
       "\t<tr><td>45                                                        </td><td><span style=white-space:pre-wrap>Local-gov       </span>  </td><td>119199                                                    </td><td><span style=white-space:pre-wrap>Assoc-acdm  </span>      </td><td>12                                                        </td><td><span style=white-space:pre-wrap>Divorced          </span></td><td><span style=white-space:pre-wrap>Prof-specialty   </span> </td><td><span style=white-space:pre-wrap>Unmarried     </span>    </td><td><span style=white-space:pre-wrap>White             </span></td><td>Female                                                    </td><td><span style=white-space:pre-wrap>    0</span>             </td><td>0                                                         </td><td>48                                                        </td><td>United-States                                             </td><td>&lt;=50K                                                  </td></tr>\n",
       "\t<tr><td>31                                                        </td><td><span style=white-space:pre-wrap>Private         </span>  </td><td>199655                                                    </td><td><span style=white-space:pre-wrap>Masters     </span>      </td><td>14                                                        </td><td><span style=white-space:pre-wrap>Divorced          </span></td><td><span style=white-space:pre-wrap>Other-service    </span> </td><td>Not-in-family                                             </td><td><span style=white-space:pre-wrap>Other             </span></td><td>Female                                                    </td><td><span style=white-space:pre-wrap>    0</span>             </td><td>0                                                         </td><td>30                                                        </td><td>United-States                                             </td><td>&lt;=50K                                                  </td></tr>\n",
       "\t<tr><td>39                                                        </td><td><span style=white-space:pre-wrap>Local-gov       </span>  </td><td>111499                                                    </td><td><span style=white-space:pre-wrap>Assoc-acdm  </span>      </td><td>12                                                        </td><td>Married-civ-spouse                                        </td><td><span style=white-space:pre-wrap>Adm-clerical     </span> </td><td><span style=white-space:pre-wrap>Wife          </span>    </td><td><span style=white-space:pre-wrap>White             </span></td><td>Female                                                    </td><td><span style=white-space:pre-wrap>    0</span>             </td><td>0                                                         </td><td>20                                                        </td><td>United-States                                             </td><td>&gt;50K                                                   </td></tr>\n",
       "\t<tr><td>37                                                        </td><td><span style=white-space:pre-wrap>Private         </span>  </td><td>198216                                                    </td><td><span style=white-space:pre-wrap>Assoc-acdm  </span>      </td><td>12                                                        </td><td><span style=white-space:pre-wrap>Divorced          </span></td><td><span style=white-space:pre-wrap>Tech-support     </span> </td><td>Not-in-family                                             </td><td><span style=white-space:pre-wrap>White             </span></td><td>Female                                                    </td><td><span style=white-space:pre-wrap>    0</span>             </td><td>0                                                         </td><td>40                                                        </td><td>United-States                                             </td><td>&lt;=50K                                                  </td></tr>\n",
       "\t<tr><td>43                                                        </td><td><span style=white-space:pre-wrap>Private         </span>  </td><td>260761                                                    </td><td><span style=white-space:pre-wrap>HS-grad     </span>      </td><td> 9                                                        </td><td>Married-civ-spouse                                        </td><td>Machine-op-inspct                                         </td><td><span style=white-space:pre-wrap>Husband       </span>    </td><td><span style=white-space:pre-wrap>White             </span></td><td><span style=white-space:pre-wrap>Male  </span>            </td><td><span style=white-space:pre-wrap>    0</span>             </td><td>0                                                         </td><td>40                                                        </td><td><span style=white-space:pre-wrap>Mexico       </span>     </td><td>&lt;=50K                                                  </td></tr>\n",
       "\t<tr><td>65                                                        </td><td>Self-emp-not-inc                                          </td><td> 99359                                                    </td><td>Prof-school                                               </td><td>15                                                        </td><td><span style=white-space:pre-wrap>Never-married     </span></td><td><span style=white-space:pre-wrap>Prof-specialty   </span> </td><td>Not-in-family                                             </td><td><span style=white-space:pre-wrap>White             </span></td><td><span style=white-space:pre-wrap>Male  </span>            </td><td> 1086                                                     </td><td>0                                                         </td><td>60                                                        </td><td>United-States                                             </td><td>&lt;=50K                                                  </td></tr>\n",
       "\t<tr><td>43                                                        </td><td><span style=white-space:pre-wrap>State-gov       </span>  </td><td>255835                                                    </td><td>Some-college                                              </td><td>10                                                        </td><td><span style=white-space:pre-wrap>Divorced          </span></td><td><span style=white-space:pre-wrap>Adm-clerical     </span> </td><td>Other-relative                                            </td><td><span style=white-space:pre-wrap>White             </span></td><td>Female                                                    </td><td><span style=white-space:pre-wrap>    0</span>             </td><td>0                                                         </td><td>40                                                        </td><td>United-States                                             </td><td>&lt;=50K                                                  </td></tr>\n",
       "\t<tr><td>43                                                        </td><td>Self-emp-not-inc                                          </td><td> 27242                                                    </td><td>Some-college                                              </td><td>10                                                        </td><td>Married-civ-spouse                                        </td><td><span style=white-space:pre-wrap>Craft-repair     </span> </td><td><span style=white-space:pre-wrap>Husband       </span>    </td><td><span style=white-space:pre-wrap>White             </span></td><td><span style=white-space:pre-wrap>Male  </span>            </td><td><span style=white-space:pre-wrap>    0</span>             </td><td>0                                                         </td><td>50                                                        </td><td>United-States                                             </td><td>&lt;=50K                                                  </td></tr>\n",
       "\t<tr><td>32                                                      </td><td><span style=white-space:pre-wrap>Private         </span></td><td> 34066                                                  </td><td><span style=white-space:pre-wrap>10th        </span>    </td><td> 6                                                      </td><td>Married-civ-spouse                                      </td><td>Handlers-cleaners                                       </td><td><span style=white-space:pre-wrap>Husband       </span>  </td><td>Amer-Indian-Eskimo                                      </td><td><span style=white-space:pre-wrap>Male  </span>          </td><td><span style=white-space:pre-wrap>    0</span>           </td><td>0                                                       </td><td>40                                                      </td><td>United-States                                           </td><td>&lt;=50K                                                </td></tr>\n",
       "\t<tr><td>43                                                        </td><td><span style=white-space:pre-wrap>Private         </span>  </td><td> 84661                                                    </td><td><span style=white-space:pre-wrap>Assoc-voc   </span>      </td><td>11                                                        </td><td>Married-civ-spouse                                        </td><td><span style=white-space:pre-wrap>Sales            </span> </td><td><span style=white-space:pre-wrap>Husband       </span>    </td><td><span style=white-space:pre-wrap>White             </span></td><td><span style=white-space:pre-wrap>Male  </span>            </td><td><span style=white-space:pre-wrap>    0</span>             </td><td>0                                                         </td><td>45                                                        </td><td>United-States                                             </td><td>&lt;=50K                                                  </td></tr>\n",
       "\t<tr><td>32                                                        </td><td><span style=white-space:pre-wrap>Private         </span>  </td><td>116138                                                    </td><td><span style=white-space:pre-wrap>Masters     </span>      </td><td>14                                                        </td><td><span style=white-space:pre-wrap>Never-married     </span></td><td><span style=white-space:pre-wrap>Tech-support     </span> </td><td>Not-in-family                                             </td><td>Asian-Pac-Islander                                        </td><td><span style=white-space:pre-wrap>Male  </span>            </td><td><span style=white-space:pre-wrap>    0</span>             </td><td>0                                                         </td><td>11                                                        </td><td><span style=white-space:pre-wrap>Taiwan       </span>     </td><td>&lt;=50K                                                  </td></tr>\n",
       "\t<tr><td>53                                                        </td><td><span style=white-space:pre-wrap>Private         </span>  </td><td>321865                                                    </td><td><span style=white-space:pre-wrap>Masters     </span>      </td><td>14                                                        </td><td>Married-civ-spouse                                        </td><td><span style=white-space:pre-wrap>Exec-managerial  </span> </td><td><span style=white-space:pre-wrap>Husband       </span>    </td><td><span style=white-space:pre-wrap>White             </span></td><td><span style=white-space:pre-wrap>Male  </span>            </td><td><span style=white-space:pre-wrap>    0</span>             </td><td>0                                                         </td><td>40                                                        </td><td>United-States                                             </td><td>&gt;50K                                                   </td></tr>\n",
       "\t<tr><td>22                                                        </td><td><span style=white-space:pre-wrap>Private         </span>  </td><td>310152                                                    </td><td>Some-college                                              </td><td>10                                                        </td><td><span style=white-space:pre-wrap>Never-married     </span></td><td><span style=white-space:pre-wrap>Protective-serv  </span> </td><td>Not-in-family                                             </td><td><span style=white-space:pre-wrap>White             </span></td><td><span style=white-space:pre-wrap>Male  </span>            </td><td><span style=white-space:pre-wrap>    0</span>             </td><td>0                                                         </td><td>40                                                        </td><td>United-States                                             </td><td>&lt;=50K                                                  </td></tr>\n",
       "\t<tr><td>27                                                        </td><td><span style=white-space:pre-wrap>Private         </span>  </td><td>257302                                                    </td><td><span style=white-space:pre-wrap>Assoc-acdm  </span>      </td><td>12                                                        </td><td>Married-civ-spouse                                        </td><td><span style=white-space:pre-wrap>Tech-support     </span> </td><td><span style=white-space:pre-wrap>Wife          </span>    </td><td><span style=white-space:pre-wrap>White             </span></td><td>Female                                                    </td><td><span style=white-space:pre-wrap>    0</span>             </td><td>0                                                         </td><td>38                                                        </td><td>United-States                                             </td><td>&lt;=50K                                                  </td></tr>\n",
       "\t<tr><td>40                                                        </td><td><span style=white-space:pre-wrap>Private         </span>  </td><td>154374                                                    </td><td><span style=white-space:pre-wrap>HS-grad     </span>      </td><td> 9                                                        </td><td>Married-civ-spouse                                        </td><td>Machine-op-inspct                                         </td><td><span style=white-space:pre-wrap>Husband       </span>    </td><td><span style=white-space:pre-wrap>White             </span></td><td><span style=white-space:pre-wrap>Male  </span>            </td><td><span style=white-space:pre-wrap>    0</span>             </td><td>0                                                         </td><td>40                                                        </td><td>United-States                                             </td><td>&gt;50K                                                   </td></tr>\n",
       "\t<tr><td>58                                                        </td><td><span style=white-space:pre-wrap>Private         </span>  </td><td>151910                                                    </td><td><span style=white-space:pre-wrap>HS-grad     </span>      </td><td> 9                                                        </td><td><span style=white-space:pre-wrap>Widowed           </span></td><td><span style=white-space:pre-wrap>Adm-clerical     </span> </td><td><span style=white-space:pre-wrap>Unmarried     </span>    </td><td><span style=white-space:pre-wrap>White             </span></td><td>Female                                                    </td><td><span style=white-space:pre-wrap>    0</span>             </td><td>0                                                         </td><td>40                                                        </td><td>United-States                                             </td><td>&lt;=50K                                                  </td></tr>\n",
       "\t<tr><td>22                                                        </td><td><span style=white-space:pre-wrap>Private         </span>  </td><td>201490                                                    </td><td><span style=white-space:pre-wrap>HS-grad     </span>      </td><td> 9                                                        </td><td><span style=white-space:pre-wrap>Never-married     </span></td><td><span style=white-space:pre-wrap>Adm-clerical     </span> </td><td><span style=white-space:pre-wrap>Own-child     </span>    </td><td><span style=white-space:pre-wrap>White             </span></td><td><span style=white-space:pre-wrap>Male  </span>            </td><td><span style=white-space:pre-wrap>    0</span>             </td><td>0                                                         </td><td>20                                                        </td><td>United-States                                             </td><td>&lt;=50K                                                  </td></tr>\n",
       "\t<tr><td>52                                                        </td><td><span style=white-space:pre-wrap>Self-emp-inc    </span>  </td><td>287927                                                    </td><td><span style=white-space:pre-wrap>HS-grad     </span>      </td><td> 9                                                        </td><td>Married-civ-spouse                                        </td><td><span style=white-space:pre-wrap>Exec-managerial  </span> </td><td><span style=white-space:pre-wrap>Wife          </span>    </td><td><span style=white-space:pre-wrap>White             </span></td><td>Female                                                    </td><td>15024                                                     </td><td>0                                                         </td><td>40                                                        </td><td>United-States                                             </td><td>&gt;50K                                                   </td></tr>\n",
       "</tbody>\n",
       "</table>\n"
      ],
      "text/latex": [
       "\\begin{tabular}{r|lllllllllllllll}\n",
       " age & workclass & fnlwgt & education & education-num & marital-status & occupation & relationship & race & sex & capital-gain & capital-loss & hours-per-week & native-country & income\\\\\n",
       "\\hline\n",
       "\t 39                    & State-gov             &  77516                & Bachelors             & 13                    & Never-married         & Adm-clerical          & Not-in-family         & White                 & Male                  &  2174                 &    0                  & 40                    & United-States         & <=50K                \\\\\n",
       "\t 50                    & Self-emp-not-inc      &  83311                & Bachelors             & 13                    & Married-civ-spouse    & Exec-managerial       & Husband               & White                 & Male                  &     0                 &    0                  & 13                    & United-States         & <=50K                \\\\\n",
       "\t 38                    & Private               & 215646                & HS-grad               &  9                    & Divorced              & Handlers-cleaners     & Not-in-family         & White                 & Male                  &     0                 &    0                  & 40                    & United-States         & <=50K                \\\\\n",
       "\t 53                    & Private               & 234721                & 11th                  &  7                    & Married-civ-spouse    & Handlers-cleaners     & Husband               & Black                 & Male                  &     0                 &    0                  & 40                    & United-States         & <=50K                \\\\\n",
       "\t 28                    & Private               & 338409                & Bachelors             & 13                    & Married-civ-spouse    & Prof-specialty        & Wife                  & Black                 & Female                &     0                 &    0                  & 40                    & Cuba                  & <=50K                \\\\\n",
       "\t 37                    & Private               & 284582                & Masters               & 14                    & Married-civ-spouse    & Exec-managerial       & Wife                  & White                 & Female                &     0                 &    0                  & 40                    & United-States         & <=50K                \\\\\n",
       "\t 49                    & Private               & 160187                & 9th                   &  5                    & Married-spouse-absent & Other-service         & Not-in-family         & Black                 & Female                &     0                 &    0                  & 16                    & Jamaica               & <=50K                \\\\\n",
       "\t 52                    & Self-emp-not-inc      & 209642                & HS-grad               &  9                    & Married-civ-spouse    & Exec-managerial       & Husband               & White                 & Male                  &     0                 &    0                  & 45                    & United-States         & >50K                 \\\\\n",
       "\t 31                    & Private               &  45781                & Masters               & 14                    & Never-married         & Prof-specialty        & Not-in-family         & White                 & Female                & 14084                 &    0                  & 50                    & United-States         & >50K                 \\\\\n",
       "\t 42                    & Private               & 159449                & Bachelors             & 13                    & Married-civ-spouse    & Exec-managerial       & Husband               & White                 & Male                  &  5178                 &    0                  & 40                    & United-States         & >50K                 \\\\\n",
       "\t 37                    & Private               & 280464                & Some-college          & 10                    & Married-civ-spouse    & Exec-managerial       & Husband               & Black                 & Male                  &     0                 &    0                  & 80                    & United-States         & >50K                 \\\\\n",
       "\t 30                    & State-gov             & 141297                & Bachelors             & 13                    & Married-civ-spouse    & Prof-specialty        & Husband               & Asian-Pac-Islander    & Male                  &     0                 &    0                  & 40                    & India                 & >50K                 \\\\\n",
       "\t 23                    & Private               & 122272                & Bachelors             & 13                    & Never-married         & Adm-clerical          & Own-child             & White                 & Female                &     0                 &    0                  & 30                    & United-States         & <=50K                \\\\\n",
       "\t 32                    & Private               & 205019                & Assoc-acdm            & 12                    & Never-married         & Sales                 & Not-in-family         & Black                 & Male                  &     0                 &    0                  & 50                    & United-States         & <=50K                \\\\\n",
       "\t 40                    & Private               & 121772                & Assoc-voc             & 11                    & Married-civ-spouse    & Craft-repair          & Husband               & Asian-Pac-Islander    & Male                  &     0                 &    0                  & 40                    & ?                     & >50K                 \\\\\n",
       "\t 34                    & Private               & 245487                & 7th-8th               &  4                    & Married-civ-spouse    & Transport-moving      & Husband               & Amer-Indian-Eskimo    & Male                  &     0                 &    0                  & 45                    & Mexico                & <=50K                \\\\\n",
       "\t 25                    & Self-emp-not-inc      & 176756                & HS-grad               &  9                    & Never-married         & Farming-fishing       & Own-child             & White                 & Male                  &     0                 &    0                  & 35                    & United-States         & <=50K                \\\\\n",
       "\t 32                    & Private               & 186824                & HS-grad               &  9                    & Never-married         & Machine-op-inspct     & Unmarried             & White                 & Male                  &     0                 &    0                  & 40                    & United-States         & <=50K                \\\\\n",
       "\t 38                    & Private               &  28887                & 11th                  &  7                    & Married-civ-spouse    & Sales                 & Husband               & White                 & Male                  &     0                 &    0                  & 50                    & United-States         & <=50K                \\\\\n",
       "\t 43                    & Self-emp-not-inc      & 292175                & Masters               & 14                    & Divorced              & Exec-managerial       & Unmarried             & White                 & Female                &     0                 &    0                  & 45                    & United-States         & >50K                 \\\\\n",
       "\t 40                    & Private               & 193524                & Doctorate             & 16                    & Married-civ-spouse    & Prof-specialty        & Husband               & White                 & Male                  &     0                 &    0                  & 60                    & United-States         & >50K                 \\\\\n",
       "\t 54                    & Private               & 302146                & HS-grad               &  9                    & Separated             & Other-service         & Unmarried             & Black                 & Female                &     0                 &    0                  & 20                    & United-States         & <=50K                \\\\\n",
       "\t 35                    & Federal-gov           &  76845                & 9th                   &  5                    & Married-civ-spouse    & Farming-fishing       & Husband               & Black                 & Male                  &     0                 &    0                  & 40                    & United-States         & <=50K                \\\\\n",
       "\t 43                    & Private               & 117037                & 11th                  &  7                    & Married-civ-spouse    & Transport-moving      & Husband               & White                 & Male                  &     0                 & 2042                  & 40                    & United-States         & <=50K                \\\\\n",
       "\t 59                    & Private               & 109015                & HS-grad               &  9                    & Divorced              & Tech-support          & Unmarried             & White                 & Female                &     0                 &    0                  & 40                    & United-States         & <=50K                \\\\\n",
       "\t 56                    & Local-gov             & 216851                & Bachelors             & 13                    & Married-civ-spouse    & Tech-support          & Husband               & White                 & Male                  &     0                 &    0                  & 40                    & United-States         & >50K                 \\\\\n",
       "\t 19                    & Private               & 168294                & HS-grad               &  9                    & Never-married         & Craft-repair          & Own-child             & White                 & Male                  &     0                 &    0                  & 40                    & United-States         & <=50K                \\\\\n",
       "\t 54                    & ?                     & 180211                & Some-college          & 10                    & Married-civ-spouse    & ?                     & Husband               & Asian-Pac-Islander    & Male                  &     0                 &    0                  & 60                    & South                 & >50K                 \\\\\n",
       "\t 39                    & Private               & 367260                & HS-grad               &  9                    & Divorced              & Exec-managerial       & Not-in-family         & White                 & Male                  &     0                 &    0                  & 80                    & United-States         & <=50K                \\\\\n",
       "\t 49                    & Private               & 193366                & HS-grad               &  9                    & Married-civ-spouse    & Craft-repair          & Husband               & White                 & Male                  &     0                 &    0                  & 40                    & United-States         & <=50K                \\\\\n",
       "\t ... & ... & ... & ... & ... & ... & ... & ... & ... & ... & ... & ... & ... & ... & ...\\\\\n",
       "\t 30                 & ?                  &  33811             & Bachelors          & 13                 & Never-married      & ?                  & Not-in-family      & Asian-Pac-Islander & Female             &     0              & 0                  & 99                 & United-States      & <=50K             \\\\\n",
       "\t 34                 & Private            & 204461             & Doctorate          & 16                 & Married-civ-spouse & Prof-specialty     & Husband            & White              & Male               &     0              & 0                  & 60                 & United-States      & >50K              \\\\\n",
       "\t 54                 & Private            & 337992             & Bachelors          & 13                 & Married-civ-spouse & Exec-managerial    & Husband            & Asian-Pac-Islander & Male               &     0              & 0                  & 50                 & Japan              & >50K              \\\\\n",
       "\t 37                 & Private            & 179137             & Some-college       & 10                 & Divorced           & Adm-clerical       & Unmarried          & White              & Female             &     0              & 0                  & 39                 & United-States      & <=50K             \\\\\n",
       "\t 22                 & Private            & 325033             & 12th               &  8                 & Never-married      & Protective-serv    & Own-child          & Black              & Male               &     0              & 0                  & 35                 & United-States      & <=50K             \\\\\n",
       "\t 34                 & Private            & 160216             & Bachelors          & 13                 & Never-married      & Exec-managerial    & Not-in-family      & White              & Female             &     0              & 0                  & 55                 & United-States      & >50K              \\\\\n",
       "\t 30                 & Private            & 345898             & HS-grad            &  9                 & Never-married      & Craft-repair       & Not-in-family      & Black              & Male               &     0              & 0                  & 46                 & United-States      & <=50K             \\\\\n",
       "\t 38                 & Private            & 139180             & Bachelors          & 13                 & Divorced           & Prof-specialty     & Unmarried          & Black              & Female             & 15020              & 0                  & 45                 & United-States      & >50K              \\\\\n",
       "\t 71                 & ?                  & 287372             & Doctorate          & 16                 & Married-civ-spouse & ?                  & Husband            & White              & Male               &     0              & 0                  & 10                 & United-States      & >50K              \\\\\n",
       "\t 45                 & State-gov          & 252208             & HS-grad            &  9                 & Separated          & Adm-clerical       & Own-child          & White              & Female             &     0              & 0                  & 40                 & United-States      & <=50K             \\\\\n",
       "\t 41                 & ?                  & 202822             & HS-grad            &  9                 & Separated          & ?                  & Not-in-family      & Black              & Female             &     0              & 0                  & 32                 & United-States      & <=50K             \\\\\n",
       "\t 72                 & ?                  & 129912             & HS-grad            &  9                 & Married-civ-spouse & ?                  & Husband            & White              & Male               &     0              & 0                  & 25                 & United-States      & <=50K             \\\\\n",
       "\t 45                 & Local-gov          & 119199             & Assoc-acdm         & 12                 & Divorced           & Prof-specialty     & Unmarried          & White              & Female             &     0              & 0                  & 48                 & United-States      & <=50K             \\\\\n",
       "\t 31                 & Private            & 199655             & Masters            & 14                 & Divorced           & Other-service      & Not-in-family      & Other              & Female             &     0              & 0                  & 30                 & United-States      & <=50K             \\\\\n",
       "\t 39                 & Local-gov          & 111499             & Assoc-acdm         & 12                 & Married-civ-spouse & Adm-clerical       & Wife               & White              & Female             &     0              & 0                  & 20                 & United-States      & >50K              \\\\\n",
       "\t 37                 & Private            & 198216             & Assoc-acdm         & 12                 & Divorced           & Tech-support       & Not-in-family      & White              & Female             &     0              & 0                  & 40                 & United-States      & <=50K             \\\\\n",
       "\t 43                 & Private            & 260761             & HS-grad            &  9                 & Married-civ-spouse & Machine-op-inspct  & Husband            & White              & Male               &     0              & 0                  & 40                 & Mexico             & <=50K             \\\\\n",
       "\t 65                 & Self-emp-not-inc   &  99359             & Prof-school        & 15                 & Never-married      & Prof-specialty     & Not-in-family      & White              & Male               &  1086              & 0                  & 60                 & United-States      & <=50K             \\\\\n",
       "\t 43                 & State-gov          & 255835             & Some-college       & 10                 & Divorced           & Adm-clerical       & Other-relative     & White              & Female             &     0              & 0                  & 40                 & United-States      & <=50K             \\\\\n",
       "\t 43                 & Self-emp-not-inc   &  27242             & Some-college       & 10                 & Married-civ-spouse & Craft-repair       & Husband            & White              & Male               &     0              & 0                  & 50                 & United-States      & <=50K             \\\\\n",
       "\t 32                 & Private            &  34066             & 10th               &  6                 & Married-civ-spouse & Handlers-cleaners  & Husband            & Amer-Indian-Eskimo & Male               &     0              & 0                  & 40                 & United-States      & <=50K             \\\\\n",
       "\t 43                 & Private            &  84661             & Assoc-voc          & 11                 & Married-civ-spouse & Sales              & Husband            & White              & Male               &     0              & 0                  & 45                 & United-States      & <=50K             \\\\\n",
       "\t 32                 & Private            & 116138             & Masters            & 14                 & Never-married      & Tech-support       & Not-in-family      & Asian-Pac-Islander & Male               &     0              & 0                  & 11                 & Taiwan             & <=50K             \\\\\n",
       "\t 53                 & Private            & 321865             & Masters            & 14                 & Married-civ-spouse & Exec-managerial    & Husband            & White              & Male               &     0              & 0                  & 40                 & United-States      & >50K              \\\\\n",
       "\t 22                 & Private            & 310152             & Some-college       & 10                 & Never-married      & Protective-serv    & Not-in-family      & White              & Male               &     0              & 0                  & 40                 & United-States      & <=50K             \\\\\n",
       "\t 27                 & Private            & 257302             & Assoc-acdm         & 12                 & Married-civ-spouse & Tech-support       & Wife               & White              & Female             &     0              & 0                  & 38                 & United-States      & <=50K             \\\\\n",
       "\t 40                 & Private            & 154374             & HS-grad            &  9                 & Married-civ-spouse & Machine-op-inspct  & Husband            & White              & Male               &     0              & 0                  & 40                 & United-States      & >50K              \\\\\n",
       "\t 58                 & Private            & 151910             & HS-grad            &  9                 & Widowed            & Adm-clerical       & Unmarried          & White              & Female             &     0              & 0                  & 40                 & United-States      & <=50K             \\\\\n",
       "\t 22                 & Private            & 201490             & HS-grad            &  9                 & Never-married      & Adm-clerical       & Own-child          & White              & Male               &     0              & 0                  & 20                 & United-States      & <=50K             \\\\\n",
       "\t 52                 & Self-emp-inc       & 287927             & HS-grad            &  9                 & Married-civ-spouse & Exec-managerial    & Wife               & White              & Female             & 15024              & 0                  & 40                 & United-States      & >50K              \\\\\n",
       "\\end{tabular}\n"
      ],
      "text/markdown": [
       "\n",
       "| age | workclass | fnlwgt | education | education-num | marital-status | occupation | relationship | race | sex | capital-gain | capital-loss | hours-per-week | native-country | income |\n",
       "|---|---|---|---|---|---|---|---|---|---|---|---|---|---|---|\n",
       "| 39                    | State-gov             |  77516                | Bachelors             | 13                    | Never-married         | Adm-clerical          | Not-in-family         | White                 | Male                  |  2174                 |    0                  | 40                    | United-States         | <=50K                 |\n",
       "| 50                    | Self-emp-not-inc      |  83311                | Bachelors             | 13                    | Married-civ-spouse    | Exec-managerial       | Husband               | White                 | Male                  |     0                 |    0                  | 13                    | United-States         | <=50K                 |\n",
       "| 38                    | Private               | 215646                | HS-grad               |  9                    | Divorced              | Handlers-cleaners     | Not-in-family         | White                 | Male                  |     0                 |    0                  | 40                    | United-States         | <=50K                 |\n",
       "| 53                    | Private               | 234721                | 11th                  |  7                    | Married-civ-spouse    | Handlers-cleaners     | Husband               | Black                 | Male                  |     0                 |    0                  | 40                    | United-States         | <=50K                 |\n",
       "| 28                    | Private               | 338409                | Bachelors             | 13                    | Married-civ-spouse    | Prof-specialty        | Wife                  | Black                 | Female                |     0                 |    0                  | 40                    | Cuba                  | <=50K                 |\n",
       "| 37                    | Private               | 284582                | Masters               | 14                    | Married-civ-spouse    | Exec-managerial       | Wife                  | White                 | Female                |     0                 |    0                  | 40                    | United-States         | <=50K                 |\n",
       "| 49                    | Private               | 160187                | 9th                   |  5                    | Married-spouse-absent | Other-service         | Not-in-family         | Black                 | Female                |     0                 |    0                  | 16                    | Jamaica               | <=50K                 |\n",
       "| 52                    | Self-emp-not-inc      | 209642                | HS-grad               |  9                    | Married-civ-spouse    | Exec-managerial       | Husband               | White                 | Male                  |     0                 |    0                  | 45                    | United-States         | >50K                  |\n",
       "| 31                    | Private               |  45781                | Masters               | 14                    | Never-married         | Prof-specialty        | Not-in-family         | White                 | Female                | 14084                 |    0                  | 50                    | United-States         | >50K                  |\n",
       "| 42                    | Private               | 159449                | Bachelors             | 13                    | Married-civ-spouse    | Exec-managerial       | Husband               | White                 | Male                  |  5178                 |    0                  | 40                    | United-States         | >50K                  |\n",
       "| 37                    | Private               | 280464                | Some-college          | 10                    | Married-civ-spouse    | Exec-managerial       | Husband               | Black                 | Male                  |     0                 |    0                  | 80                    | United-States         | >50K                  |\n",
       "| 30                    | State-gov             | 141297                | Bachelors             | 13                    | Married-civ-spouse    | Prof-specialty        | Husband               | Asian-Pac-Islander    | Male                  |     0                 |    0                  | 40                    | India                 | >50K                  |\n",
       "| 23                    | Private               | 122272                | Bachelors             | 13                    | Never-married         | Adm-clerical          | Own-child             | White                 | Female                |     0                 |    0                  | 30                    | United-States         | <=50K                 |\n",
       "| 32                    | Private               | 205019                | Assoc-acdm            | 12                    | Never-married         | Sales                 | Not-in-family         | Black                 | Male                  |     0                 |    0                  | 50                    | United-States         | <=50K                 |\n",
       "| 40                    | Private               | 121772                | Assoc-voc             | 11                    | Married-civ-spouse    | Craft-repair          | Husband               | Asian-Pac-Islander    | Male                  |     0                 |    0                  | 40                    | ?                     | >50K                  |\n",
       "| 34                    | Private               | 245487                | 7th-8th               |  4                    | Married-civ-spouse    | Transport-moving      | Husband               | Amer-Indian-Eskimo    | Male                  |     0                 |    0                  | 45                    | Mexico                | <=50K                 |\n",
       "| 25                    | Self-emp-not-inc      | 176756                | HS-grad               |  9                    | Never-married         | Farming-fishing       | Own-child             | White                 | Male                  |     0                 |    0                  | 35                    | United-States         | <=50K                 |\n",
       "| 32                    | Private               | 186824                | HS-grad               |  9                    | Never-married         | Machine-op-inspct     | Unmarried             | White                 | Male                  |     0                 |    0                  | 40                    | United-States         | <=50K                 |\n",
       "| 38                    | Private               |  28887                | 11th                  |  7                    | Married-civ-spouse    | Sales                 | Husband               | White                 | Male                  |     0                 |    0                  | 50                    | United-States         | <=50K                 |\n",
       "| 43                    | Self-emp-not-inc      | 292175                | Masters               | 14                    | Divorced              | Exec-managerial       | Unmarried             | White                 | Female                |     0                 |    0                  | 45                    | United-States         | >50K                  |\n",
       "| 40                    | Private               | 193524                | Doctorate             | 16                    | Married-civ-spouse    | Prof-specialty        | Husband               | White                 | Male                  |     0                 |    0                  | 60                    | United-States         | >50K                  |\n",
       "| 54                    | Private               | 302146                | HS-grad               |  9                    | Separated             | Other-service         | Unmarried             | Black                 | Female                |     0                 |    0                  | 20                    | United-States         | <=50K                 |\n",
       "| 35                    | Federal-gov           |  76845                | 9th                   |  5                    | Married-civ-spouse    | Farming-fishing       | Husband               | Black                 | Male                  |     0                 |    0                  | 40                    | United-States         | <=50K                 |\n",
       "| 43                    | Private               | 117037                | 11th                  |  7                    | Married-civ-spouse    | Transport-moving      | Husband               | White                 | Male                  |     0                 | 2042                  | 40                    | United-States         | <=50K                 |\n",
       "| 59                    | Private               | 109015                | HS-grad               |  9                    | Divorced              | Tech-support          | Unmarried             | White                 | Female                |     0                 |    0                  | 40                    | United-States         | <=50K                 |\n",
       "| 56                    | Local-gov             | 216851                | Bachelors             | 13                    | Married-civ-spouse    | Tech-support          | Husband               | White                 | Male                  |     0                 |    0                  | 40                    | United-States         | >50K                  |\n",
       "| 19                    | Private               | 168294                | HS-grad               |  9                    | Never-married         | Craft-repair          | Own-child             | White                 | Male                  |     0                 |    0                  | 40                    | United-States         | <=50K                 |\n",
       "| 54                    | ?                     | 180211                | Some-college          | 10                    | Married-civ-spouse    | ?                     | Husband               | Asian-Pac-Islander    | Male                  |     0                 |    0                  | 60                    | South                 | >50K                  |\n",
       "| 39                    | Private               | 367260                | HS-grad               |  9                    | Divorced              | Exec-managerial       | Not-in-family         | White                 | Male                  |     0                 |    0                  | 80                    | United-States         | <=50K                 |\n",
       "| 49                    | Private               | 193366                | HS-grad               |  9                    | Married-civ-spouse    | Craft-repair          | Husband               | White                 | Male                  |     0                 |    0                  | 40                    | United-States         | <=50K                 |\n",
       "| ... | ... | ... | ... | ... | ... | ... | ... | ... | ... | ... | ... | ... | ... | ... |\n",
       "| 30                 | ?                  |  33811             | Bachelors          | 13                 | Never-married      | ?                  | Not-in-family      | Asian-Pac-Islander | Female             |     0              | 0                  | 99                 | United-States      | <=50K              |\n",
       "| 34                 | Private            | 204461             | Doctorate          | 16                 | Married-civ-spouse | Prof-specialty     | Husband            | White              | Male               |     0              | 0                  | 60                 | United-States      | >50K               |\n",
       "| 54                 | Private            | 337992             | Bachelors          | 13                 | Married-civ-spouse | Exec-managerial    | Husband            | Asian-Pac-Islander | Male               |     0              | 0                  | 50                 | Japan              | >50K               |\n",
       "| 37                 | Private            | 179137             | Some-college       | 10                 | Divorced           | Adm-clerical       | Unmarried          | White              | Female             |     0              | 0                  | 39                 | United-States      | <=50K              |\n",
       "| 22                 | Private            | 325033             | 12th               |  8                 | Never-married      | Protective-serv    | Own-child          | Black              | Male               |     0              | 0                  | 35                 | United-States      | <=50K              |\n",
       "| 34                 | Private            | 160216             | Bachelors          | 13                 | Never-married      | Exec-managerial    | Not-in-family      | White              | Female             |     0              | 0                  | 55                 | United-States      | >50K               |\n",
       "| 30                 | Private            | 345898             | HS-grad            |  9                 | Never-married      | Craft-repair       | Not-in-family      | Black              | Male               |     0              | 0                  | 46                 | United-States      | <=50K              |\n",
       "| 38                 | Private            | 139180             | Bachelors          | 13                 | Divorced           | Prof-specialty     | Unmarried          | Black              | Female             | 15020              | 0                  | 45                 | United-States      | >50K               |\n",
       "| 71                 | ?                  | 287372             | Doctorate          | 16                 | Married-civ-spouse | ?                  | Husband            | White              | Male               |     0              | 0                  | 10                 | United-States      | >50K               |\n",
       "| 45                 | State-gov          | 252208             | HS-grad            |  9                 | Separated          | Adm-clerical       | Own-child          | White              | Female             |     0              | 0                  | 40                 | United-States      | <=50K              |\n",
       "| 41                 | ?                  | 202822             | HS-grad            |  9                 | Separated          | ?                  | Not-in-family      | Black              | Female             |     0              | 0                  | 32                 | United-States      | <=50K              |\n",
       "| 72                 | ?                  | 129912             | HS-grad            |  9                 | Married-civ-spouse | ?                  | Husband            | White              | Male               |     0              | 0                  | 25                 | United-States      | <=50K              |\n",
       "| 45                 | Local-gov          | 119199             | Assoc-acdm         | 12                 | Divorced           | Prof-specialty     | Unmarried          | White              | Female             |     0              | 0                  | 48                 | United-States      | <=50K              |\n",
       "| 31                 | Private            | 199655             | Masters            | 14                 | Divorced           | Other-service      | Not-in-family      | Other              | Female             |     0              | 0                  | 30                 | United-States      | <=50K              |\n",
       "| 39                 | Local-gov          | 111499             | Assoc-acdm         | 12                 | Married-civ-spouse | Adm-clerical       | Wife               | White              | Female             |     0              | 0                  | 20                 | United-States      | >50K               |\n",
       "| 37                 | Private            | 198216             | Assoc-acdm         | 12                 | Divorced           | Tech-support       | Not-in-family      | White              | Female             |     0              | 0                  | 40                 | United-States      | <=50K              |\n",
       "| 43                 | Private            | 260761             | HS-grad            |  9                 | Married-civ-spouse | Machine-op-inspct  | Husband            | White              | Male               |     0              | 0                  | 40                 | Mexico             | <=50K              |\n",
       "| 65                 | Self-emp-not-inc   |  99359             | Prof-school        | 15                 | Never-married      | Prof-specialty     | Not-in-family      | White              | Male               |  1086              | 0                  | 60                 | United-States      | <=50K              |\n",
       "| 43                 | State-gov          | 255835             | Some-college       | 10                 | Divorced           | Adm-clerical       | Other-relative     | White              | Female             |     0              | 0                  | 40                 | United-States      | <=50K              |\n",
       "| 43                 | Self-emp-not-inc   |  27242             | Some-college       | 10                 | Married-civ-spouse | Craft-repair       | Husband            | White              | Male               |     0              | 0                  | 50                 | United-States      | <=50K              |\n",
       "| 32                 | Private            |  34066             | 10th               |  6                 | Married-civ-spouse | Handlers-cleaners  | Husband            | Amer-Indian-Eskimo | Male               |     0              | 0                  | 40                 | United-States      | <=50K              |\n",
       "| 43                 | Private            |  84661             | Assoc-voc          | 11                 | Married-civ-spouse | Sales              | Husband            | White              | Male               |     0              | 0                  | 45                 | United-States      | <=50K              |\n",
       "| 32                 | Private            | 116138             | Masters            | 14                 | Never-married      | Tech-support       | Not-in-family      | Asian-Pac-Islander | Male               |     0              | 0                  | 11                 | Taiwan             | <=50K              |\n",
       "| 53                 | Private            | 321865             | Masters            | 14                 | Married-civ-spouse | Exec-managerial    | Husband            | White              | Male               |     0              | 0                  | 40                 | United-States      | >50K               |\n",
       "| 22                 | Private            | 310152             | Some-college       | 10                 | Never-married      | Protective-serv    | Not-in-family      | White              | Male               |     0              | 0                  | 40                 | United-States      | <=50K              |\n",
       "| 27                 | Private            | 257302             | Assoc-acdm         | 12                 | Married-civ-spouse | Tech-support       | Wife               | White              | Female             |     0              | 0                  | 38                 | United-States      | <=50K              |\n",
       "| 40                 | Private            | 154374             | HS-grad            |  9                 | Married-civ-spouse | Machine-op-inspct  | Husband            | White              | Male               |     0              | 0                  | 40                 | United-States      | >50K               |\n",
       "| 58                 | Private            | 151910             | HS-grad            |  9                 | Widowed            | Adm-clerical       | Unmarried          | White              | Female             |     0              | 0                  | 40                 | United-States      | <=50K              |\n",
       "| 22                 | Private            | 201490             | HS-grad            |  9                 | Never-married      | Adm-clerical       | Own-child          | White              | Male               |     0              | 0                  | 20                 | United-States      | <=50K              |\n",
       "| 52                 | Self-emp-inc       | 287927             | HS-grad            |  9                 | Married-civ-spouse | Exec-managerial    | Wife               | White              | Female             | 15024              | 0                  | 40                 | United-States      | >50K               |\n",
       "\n"
      ],
      "text/plain": [
       "      age workclass        fnlwgt education    education-num\n",
       "1     39  State-gov         77516 Bachelors    13           \n",
       "2     50  Self-emp-not-inc  83311 Bachelors    13           \n",
       "3     38  Private          215646 HS-grad       9           \n",
       "4     53  Private          234721 11th          7           \n",
       "5     28  Private          338409 Bachelors    13           \n",
       "6     37  Private          284582 Masters      14           \n",
       "7     49  Private          160187 9th           5           \n",
       "8     52  Self-emp-not-inc 209642 HS-grad       9           \n",
       "9     31  Private           45781 Masters      14           \n",
       "10    42  Private          159449 Bachelors    13           \n",
       "11    37  Private          280464 Some-college 10           \n",
       "12    30  State-gov        141297 Bachelors    13           \n",
       "13    23  Private          122272 Bachelors    13           \n",
       "14    32  Private          205019 Assoc-acdm   12           \n",
       "15    40  Private          121772 Assoc-voc    11           \n",
       "16    34  Private          245487 7th-8th       4           \n",
       "17    25  Self-emp-not-inc 176756 HS-grad       9           \n",
       "18    32  Private          186824 HS-grad       9           \n",
       "19    38  Private           28887 11th          7           \n",
       "20    43  Self-emp-not-inc 292175 Masters      14           \n",
       "21    40  Private          193524 Doctorate    16           \n",
       "22    54  Private          302146 HS-grad       9           \n",
       "23    35  Federal-gov       76845 9th           5           \n",
       "24    43  Private          117037 11th          7           \n",
       "25    59  Private          109015 HS-grad       9           \n",
       "26    56  Local-gov        216851 Bachelors    13           \n",
       "27    19  Private          168294 HS-grad       9           \n",
       "28    54  ?                180211 Some-college 10           \n",
       "29    39  Private          367260 HS-grad       9           \n",
       "30    49  Private          193366 HS-grad       9           \n",
       "...   ... ...              ...    ...          ...          \n",
       "32532 30  ?                 33811 Bachelors    13           \n",
       "32533 34  Private          204461 Doctorate    16           \n",
       "32534 54  Private          337992 Bachelors    13           \n",
       "32535 37  Private          179137 Some-college 10           \n",
       "32536 22  Private          325033 12th          8           \n",
       "32537 34  Private          160216 Bachelors    13           \n",
       "32538 30  Private          345898 HS-grad       9           \n",
       "32539 38  Private          139180 Bachelors    13           \n",
       "32540 71  ?                287372 Doctorate    16           \n",
       "32541 45  State-gov        252208 HS-grad       9           \n",
       "32542 41  ?                202822 HS-grad       9           \n",
       "32543 72  ?                129912 HS-grad       9           \n",
       "32544 45  Local-gov        119199 Assoc-acdm   12           \n",
       "32545 31  Private          199655 Masters      14           \n",
       "32546 39  Local-gov        111499 Assoc-acdm   12           \n",
       "32547 37  Private          198216 Assoc-acdm   12           \n",
       "32548 43  Private          260761 HS-grad       9           \n",
       "32549 65  Self-emp-not-inc  99359 Prof-school  15           \n",
       "32550 43  State-gov        255835 Some-college 10           \n",
       "32551 43  Self-emp-not-inc  27242 Some-college 10           \n",
       "32552 32  Private           34066 10th          6           \n",
       "32553 43  Private           84661 Assoc-voc    11           \n",
       "32554 32  Private          116138 Masters      14           \n",
       "32555 53  Private          321865 Masters      14           \n",
       "32556 22  Private          310152 Some-college 10           \n",
       "32557 27  Private          257302 Assoc-acdm   12           \n",
       "32558 40  Private          154374 HS-grad       9           \n",
       "32559 58  Private          151910 HS-grad       9           \n",
       "32560 22  Private          201490 HS-grad       9           \n",
       "32561 52  Self-emp-inc     287927 HS-grad       9           \n",
       "      marital-status        occupation        relationship   race              \n",
       "1     Never-married         Adm-clerical      Not-in-family  White             \n",
       "2     Married-civ-spouse    Exec-managerial   Husband        White             \n",
       "3     Divorced              Handlers-cleaners Not-in-family  White             \n",
       "4     Married-civ-spouse    Handlers-cleaners Husband        Black             \n",
       "5     Married-civ-spouse    Prof-specialty    Wife           Black             \n",
       "6     Married-civ-spouse    Exec-managerial   Wife           White             \n",
       "7     Married-spouse-absent Other-service     Not-in-family  Black             \n",
       "8     Married-civ-spouse    Exec-managerial   Husband        White             \n",
       "9     Never-married         Prof-specialty    Not-in-family  White             \n",
       "10    Married-civ-spouse    Exec-managerial   Husband        White             \n",
       "11    Married-civ-spouse    Exec-managerial   Husband        Black             \n",
       "12    Married-civ-spouse    Prof-specialty    Husband        Asian-Pac-Islander\n",
       "13    Never-married         Adm-clerical      Own-child      White             \n",
       "14    Never-married         Sales             Not-in-family  Black             \n",
       "15    Married-civ-spouse    Craft-repair      Husband        Asian-Pac-Islander\n",
       "16    Married-civ-spouse    Transport-moving  Husband        Amer-Indian-Eskimo\n",
       "17    Never-married         Farming-fishing   Own-child      White             \n",
       "18    Never-married         Machine-op-inspct Unmarried      White             \n",
       "19    Married-civ-spouse    Sales             Husband        White             \n",
       "20    Divorced              Exec-managerial   Unmarried      White             \n",
       "21    Married-civ-spouse    Prof-specialty    Husband        White             \n",
       "22    Separated             Other-service     Unmarried      Black             \n",
       "23    Married-civ-spouse    Farming-fishing   Husband        Black             \n",
       "24    Married-civ-spouse    Transport-moving  Husband        White             \n",
       "25    Divorced              Tech-support      Unmarried      White             \n",
       "26    Married-civ-spouse    Tech-support      Husband        White             \n",
       "27    Never-married         Craft-repair      Own-child      White             \n",
       "28    Married-civ-spouse    ?                 Husband        Asian-Pac-Islander\n",
       "29    Divorced              Exec-managerial   Not-in-family  White             \n",
       "30    Married-civ-spouse    Craft-repair      Husband        White             \n",
       "...   ...                   ...               ...            ...               \n",
       "32532 Never-married         ?                 Not-in-family  Asian-Pac-Islander\n",
       "32533 Married-civ-spouse    Prof-specialty    Husband        White             \n",
       "32534 Married-civ-spouse    Exec-managerial   Husband        Asian-Pac-Islander\n",
       "32535 Divorced              Adm-clerical      Unmarried      White             \n",
       "32536 Never-married         Protective-serv   Own-child      Black             \n",
       "32537 Never-married         Exec-managerial   Not-in-family  White             \n",
       "32538 Never-married         Craft-repair      Not-in-family  Black             \n",
       "32539 Divorced              Prof-specialty    Unmarried      Black             \n",
       "32540 Married-civ-spouse    ?                 Husband        White             \n",
       "32541 Separated             Adm-clerical      Own-child      White             \n",
       "32542 Separated             ?                 Not-in-family  Black             \n",
       "32543 Married-civ-spouse    ?                 Husband        White             \n",
       "32544 Divorced              Prof-specialty    Unmarried      White             \n",
       "32545 Divorced              Other-service     Not-in-family  Other             \n",
       "32546 Married-civ-spouse    Adm-clerical      Wife           White             \n",
       "32547 Divorced              Tech-support      Not-in-family  White             \n",
       "32548 Married-civ-spouse    Machine-op-inspct Husband        White             \n",
       "32549 Never-married         Prof-specialty    Not-in-family  White             \n",
       "32550 Divorced              Adm-clerical      Other-relative White             \n",
       "32551 Married-civ-spouse    Craft-repair      Husband        White             \n",
       "32552 Married-civ-spouse    Handlers-cleaners Husband        Amer-Indian-Eskimo\n",
       "32553 Married-civ-spouse    Sales             Husband        White             \n",
       "32554 Never-married         Tech-support      Not-in-family  Asian-Pac-Islander\n",
       "32555 Married-civ-spouse    Exec-managerial   Husband        White             \n",
       "32556 Never-married         Protective-serv   Not-in-family  White             \n",
       "32557 Married-civ-spouse    Tech-support      Wife           White             \n",
       "32558 Married-civ-spouse    Machine-op-inspct Husband        White             \n",
       "32559 Widowed               Adm-clerical      Unmarried      White             \n",
       "32560 Never-married         Adm-clerical      Own-child      White             \n",
       "32561 Married-civ-spouse    Exec-managerial   Wife           White             \n",
       "      sex    capital-gain capital-loss hours-per-week native-country income\n",
       "1     Male    2174           0         40             United-States  <=50K \n",
       "2     Male       0           0         13             United-States  <=50K \n",
       "3     Male       0           0         40             United-States  <=50K \n",
       "4     Male       0           0         40             United-States  <=50K \n",
       "5     Female     0           0         40             Cuba           <=50K \n",
       "6     Female     0           0         40             United-States  <=50K \n",
       "7     Female     0           0         16             Jamaica        <=50K \n",
       "8     Male       0           0         45             United-States  >50K  \n",
       "9     Female 14084           0         50             United-States  >50K  \n",
       "10    Male    5178           0         40             United-States  >50K  \n",
       "11    Male       0           0         80             United-States  >50K  \n",
       "12    Male       0           0         40             India          >50K  \n",
       "13    Female     0           0         30             United-States  <=50K \n",
       "14    Male       0           0         50             United-States  <=50K \n",
       "15    Male       0           0         40             ?              >50K  \n",
       "16    Male       0           0         45             Mexico         <=50K \n",
       "17    Male       0           0         35             United-States  <=50K \n",
       "18    Male       0           0         40             United-States  <=50K \n",
       "19    Male       0           0         50             United-States  <=50K \n",
       "20    Female     0           0         45             United-States  >50K  \n",
       "21    Male       0           0         60             United-States  >50K  \n",
       "22    Female     0           0         20             United-States  <=50K \n",
       "23    Male       0           0         40             United-States  <=50K \n",
       "24    Male       0        2042         40             United-States  <=50K \n",
       "25    Female     0           0         40             United-States  <=50K \n",
       "26    Male       0           0         40             United-States  >50K  \n",
       "27    Male       0           0         40             United-States  <=50K \n",
       "28    Male       0           0         60             South          >50K  \n",
       "29    Male       0           0         80             United-States  <=50K \n",
       "30    Male       0           0         40             United-States  <=50K \n",
       "...   ...    ...          ...          ...            ...            ...   \n",
       "32532 Female     0        0            99             United-States  <=50K \n",
       "32533 Male       0        0            60             United-States  >50K  \n",
       "32534 Male       0        0            50             Japan          >50K  \n",
       "32535 Female     0        0            39             United-States  <=50K \n",
       "32536 Male       0        0            35             United-States  <=50K \n",
       "32537 Female     0        0            55             United-States  >50K  \n",
       "32538 Male       0        0            46             United-States  <=50K \n",
       "32539 Female 15020        0            45             United-States  >50K  \n",
       "32540 Male       0        0            10             United-States  >50K  \n",
       "32541 Female     0        0            40             United-States  <=50K \n",
       "32542 Female     0        0            32             United-States  <=50K \n",
       "32543 Male       0        0            25             United-States  <=50K \n",
       "32544 Female     0        0            48             United-States  <=50K \n",
       "32545 Female     0        0            30             United-States  <=50K \n",
       "32546 Female     0        0            20             United-States  >50K  \n",
       "32547 Female     0        0            40             United-States  <=50K \n",
       "32548 Male       0        0            40             Mexico         <=50K \n",
       "32549 Male    1086        0            60             United-States  <=50K \n",
       "32550 Female     0        0            40             United-States  <=50K \n",
       "32551 Male       0        0            50             United-States  <=50K \n",
       "32552 Male       0        0            40             United-States  <=50K \n",
       "32553 Male       0        0            45             United-States  <=50K \n",
       "32554 Male       0        0            11             Taiwan         <=50K \n",
       "32555 Male       0        0            40             United-States  >50K  \n",
       "32556 Male       0        0            40             United-States  <=50K \n",
       "32557 Female     0        0            38             United-States  <=50K \n",
       "32558 Male       0        0            40             United-States  >50K  \n",
       "32559 Female     0        0            40             United-States  <=50K \n",
       "32560 Male       0        0            20             United-States  <=50K \n",
       "32561 Female 15024        0            40             United-States  >50K  "
      ]
     },
     "metadata": {},
     "output_type": "display_data"
    }
   ],
   "source": [
    "# Import the dataset (note the argument strip.white=TRUE).\n",
    "incomes <- read.csv(\"adult.data\", header = FALSE, strip.white=TRUE)\n",
    "\n",
    "# In this dataset, the columns do not have names yet. Therefore, we name the columns for easier reference.\n",
    "# The columns are named according to the attribute information provided on the dataset's webpage.\n",
    "col_headers <- c(\"age\", \"workclass\", \"fnlwgt\",\"education\", \"education-num\",\"marital-status\",\"occupation\",\"relationship\",\n",
    "                \"race\",\"sex\",\"capital-gain\",\"capital-loss\",\"hours-per-week\",\"native-country\",\"income\")\n",
    "names(incomes) <- col_headers\n",
    "# View the datset after naming the columns.\n",
    "incomes"
   ]
  },
  {
   "cell_type": "code",
   "execution_count": 19,
   "metadata": {},
   "outputs": [
    {
     "data": {
      "text/html": [
       "<ol class=list-inline>\n",
       "\t<li>&lt;=50K</li>\n",
       "\t<li>&gt;50K</li>\n",
       "</ol>\n",
       "\n",
       "<details>\n",
       "\t<summary style=display:list-item;cursor:pointer>\n",
       "\t\t<strong>Levels</strong>:\n",
       "\t</summary>\n",
       "\t<ol class=list-inline>\n",
       "\t\t<li>'&lt;=50K'</li>\n",
       "\t\t<li>'&gt;50K'</li>\n",
       "\t</ol>\n",
       "</details>"
      ],
      "text/latex": [
       "\\begin{enumerate*}\n",
       "\\item <=50K\n",
       "\\item >50K\n",
       "\\end{enumerate*}\n",
       "\n",
       "\\emph{Levels}: \\begin{enumerate*}\n",
       "\\item '<=50K'\n",
       "\\item '>50K'\n",
       "\\end{enumerate*}\n"
      ],
      "text/markdown": [
       "1. &lt;=50K\n",
       "2. &gt;50K\n",
       "\n",
       "\n",
       "\n",
       "**Levels**: 1. '&lt;=50K'\n",
       "2. '&gt;50K'\n",
       "\n",
       "\n"
      ],
      "text/plain": [
       "[1] <=50K >50K \n",
       "Levels: <=50K >50K"
      ]
     },
     "metadata": {},
     "output_type": "display_data"
    },
    {
     "name": "stdout",
     "output_type": "stream",
     "text": [
      "'data.frame':\t32561 obs. of  15 variables:\n",
      " $ age           : int  39 50 38 53 28 37 49 52 31 42 ...\n",
      " $ workclass     : Factor w/ 9 levels \"?\",\"Federal-gov\",..: 8 7 5 5 5 5 5 7 5 5 ...\n",
      " $ fnlwgt        : int  77516 83311 215646 234721 338409 284582 160187 209642 45781 159449 ...\n",
      " $ education     : Factor w/ 16 levels \"10th\",\"11th\",..: 10 10 12 2 10 13 7 12 13 10 ...\n",
      " $ education-num : int  13 13 9 7 13 14 5 9 14 13 ...\n",
      " $ marital-status: Factor w/ 7 levels \"Divorced\",\"Married-AF-spouse\",..: 5 3 1 3 3 3 4 3 5 3 ...\n",
      " $ occupation    : Factor w/ 15 levels \"?\",\"Adm-clerical\",..: 2 5 7 7 11 5 9 5 11 5 ...\n",
      " $ relationship  : Factor w/ 6 levels \"Husband\",\"Not-in-family\",..: 2 1 2 1 6 6 2 1 2 1 ...\n",
      " $ race          : Factor w/ 5 levels \"Amer-Indian-Eskimo\",..: 5 5 5 3 3 5 3 5 5 5 ...\n",
      " $ sex           : Factor w/ 2 levels \"Female\",\"Male\": 2 2 2 2 1 1 1 2 1 2 ...\n",
      " $ capital-gain  : int  2174 0 0 0 0 0 0 0 14084 5178 ...\n",
      " $ capital-loss  : int  0 0 0 0 0 0 0 0 0 0 ...\n",
      " $ hours-per-week: int  40 13 40 40 40 40 16 45 50 40 ...\n",
      " $ native-country: Factor w/ 42 levels \"?\",\"Cambodia\",..: 40 40 40 40 6 40 24 40 40 40 ...\n",
      " $ income        : Factor w/ 2 levels \"<=50K\",\">50K\": 1 1 1 1 1 1 1 2 2 2 ...\n"
     ]
    }
   ],
   "source": [
    "# Currently, the income column consists of two string values:\n",
    "unique(incomes$income)\n",
    "str(incomes)"
   ]
  },
  {
   "cell_type": "code",
   "execution_count": 20,
   "metadata": {
    "scrolled": false
   },
   "outputs": [
    {
     "data": {
      "text/html": [
       "<table>\n",
       "<thead><tr><th scope=col>age</th><th scope=col>workclass</th><th scope=col>fnlwgt</th><th scope=col>education</th><th scope=col>education-num</th><th scope=col>marital-status</th><th scope=col>occupation</th><th scope=col>relationship</th><th scope=col>race</th><th scope=col>sex</th><th scope=col>capital-gain</th><th scope=col>capital-loss</th><th scope=col>hours-per-week</th><th scope=col>native-country</th><th scope=col>income</th><th scope=col>exceed_50K</th></tr></thead>\n",
       "<tbody>\n",
       "\t<tr><td>39                                                        </td><td><span style=white-space:pre-wrap>State-gov       </span>  </td><td> 77516                                                    </td><td>Bachelors                                                 </td><td>13                                                        </td><td><span style=white-space:pre-wrap>Never-married     </span></td><td><span style=white-space:pre-wrap>Adm-clerical     </span> </td><td>Not-in-family                                             </td><td>White                                                     </td><td><span style=white-space:pre-wrap>Male  </span>            </td><td>2174                                                      </td><td>0                                                         </td><td>40                                                        </td><td>United-States                                             </td><td>&lt;=50K                                                  </td><td>0                                                         </td></tr>\n",
       "\t<tr><td>50                                                       </td><td>Self-emp-not-inc                                         </td><td> 83311                                                   </td><td>Bachelors                                                </td><td>13                                                       </td><td>Married-civ-spouse                                       </td><td><span style=white-space:pre-wrap>Exec-managerial  </span></td><td><span style=white-space:pre-wrap>Husband      </span>    </td><td>White                                                    </td><td><span style=white-space:pre-wrap>Male  </span>           </td><td><span style=white-space:pre-wrap>   0</span>             </td><td>0                                                        </td><td>13                                                       </td><td>United-States                                            </td><td>&lt;=50K                                                 </td><td>0                                                        </td></tr>\n",
       "\t<tr><td>38                                                        </td><td><span style=white-space:pre-wrap>Private         </span>  </td><td>215646                                                    </td><td><span style=white-space:pre-wrap>HS-grad  </span>         </td><td> 9                                                        </td><td><span style=white-space:pre-wrap>Divorced          </span></td><td>Handlers-cleaners                                         </td><td>Not-in-family                                             </td><td>White                                                     </td><td><span style=white-space:pre-wrap>Male  </span>            </td><td><span style=white-space:pre-wrap>   0</span>              </td><td>0                                                         </td><td>40                                                        </td><td>United-States                                             </td><td>&lt;=50K                                                  </td><td>0                                                         </td></tr>\n",
       "\t<tr><td>53                                                      </td><td><span style=white-space:pre-wrap>Private         </span></td><td>234721                                                  </td><td><span style=white-space:pre-wrap>11th     </span>       </td><td> 7                                                      </td><td>Married-civ-spouse                                      </td><td>Handlers-cleaners                                       </td><td><span style=white-space:pre-wrap>Husband      </span>   </td><td>Black                                                   </td><td><span style=white-space:pre-wrap>Male  </span>          </td><td><span style=white-space:pre-wrap>   0</span>            </td><td>0                                                       </td><td>40                                                      </td><td>United-States                                           </td><td>&lt;=50K                                                </td><td>0                                                       </td></tr>\n",
       "\t<tr><td>28                                                       </td><td><span style=white-space:pre-wrap>Private         </span> </td><td>338409                                                   </td><td>Bachelors                                                </td><td>13                                                       </td><td>Married-civ-spouse                                       </td><td><span style=white-space:pre-wrap>Prof-specialty   </span></td><td><span style=white-space:pre-wrap>Wife         </span>    </td><td>Black                                                    </td><td>Female                                                   </td><td><span style=white-space:pre-wrap>   0</span>             </td><td>0                                                        </td><td>40                                                       </td><td><span style=white-space:pre-wrap>Cuba         </span>    </td><td>&lt;=50K                                                 </td><td>0                                                        </td></tr>\n",
       "\t<tr><td>37                                                       </td><td><span style=white-space:pre-wrap>Private         </span> </td><td>284582                                                   </td><td><span style=white-space:pre-wrap>Masters  </span>        </td><td>14                                                       </td><td>Married-civ-spouse                                       </td><td><span style=white-space:pre-wrap>Exec-managerial  </span></td><td><span style=white-space:pre-wrap>Wife         </span>    </td><td>White                                                    </td><td>Female                                                   </td><td><span style=white-space:pre-wrap>   0</span>             </td><td>0                                                        </td><td>40                                                       </td><td>United-States                                            </td><td>&lt;=50K                                                 </td><td>0                                                        </td></tr>\n",
       "</tbody>\n",
       "</table>\n"
      ],
      "text/latex": [
       "\\begin{tabular}{r|llllllllllllllll}\n",
       " age & workclass & fnlwgt & education & education-num & marital-status & occupation & relationship & race & sex & capital-gain & capital-loss & hours-per-week & native-country & income & exceed\\_50K\\\\\n",
       "\\hline\n",
       "\t 39                 & State-gov          &  77516             & Bachelors          & 13                 & Never-married      & Adm-clerical       & Not-in-family      & White              & Male               & 2174               & 0                  & 40                 & United-States      & <=50K              & 0                 \\\\\n",
       "\t 50                 & Self-emp-not-inc   &  83311             & Bachelors          & 13                 & Married-civ-spouse & Exec-managerial    & Husband            & White              & Male               &    0               & 0                  & 13                 & United-States      & <=50K              & 0                 \\\\\n",
       "\t 38                 & Private            & 215646             & HS-grad            &  9                 & Divorced           & Handlers-cleaners  & Not-in-family      & White              & Male               &    0               & 0                  & 40                 & United-States      & <=50K              & 0                 \\\\\n",
       "\t 53                 & Private            & 234721             & 11th               &  7                 & Married-civ-spouse & Handlers-cleaners  & Husband            & Black              & Male               &    0               & 0                  & 40                 & United-States      & <=50K              & 0                 \\\\\n",
       "\t 28                 & Private            & 338409             & Bachelors          & 13                 & Married-civ-spouse & Prof-specialty     & Wife               & Black              & Female             &    0               & 0                  & 40                 & Cuba               & <=50K              & 0                 \\\\\n",
       "\t 37                 & Private            & 284582             & Masters            & 14                 & Married-civ-spouse & Exec-managerial    & Wife               & White              & Female             &    0               & 0                  & 40                 & United-States      & <=50K              & 0                 \\\\\n",
       "\\end{tabular}\n"
      ],
      "text/markdown": [
       "\n",
       "| age | workclass | fnlwgt | education | education-num | marital-status | occupation | relationship | race | sex | capital-gain | capital-loss | hours-per-week | native-country | income | exceed_50K |\n",
       "|---|---|---|---|---|---|---|---|---|---|---|---|---|---|---|---|\n",
       "| 39                 | State-gov          |  77516             | Bachelors          | 13                 | Never-married      | Adm-clerical       | Not-in-family      | White              | Male               | 2174               | 0                  | 40                 | United-States      | <=50K              | 0                  |\n",
       "| 50                 | Self-emp-not-inc   |  83311             | Bachelors          | 13                 | Married-civ-spouse | Exec-managerial    | Husband            | White              | Male               |    0               | 0                  | 13                 | United-States      | <=50K              | 0                  |\n",
       "| 38                 | Private            | 215646             | HS-grad            |  9                 | Divorced           | Handlers-cleaners  | Not-in-family      | White              | Male               |    0               | 0                  | 40                 | United-States      | <=50K              | 0                  |\n",
       "| 53                 | Private            | 234721             | 11th               |  7                 | Married-civ-spouse | Handlers-cleaners  | Husband            | Black              | Male               |    0               | 0                  | 40                 | United-States      | <=50K              | 0                  |\n",
       "| 28                 | Private            | 338409             | Bachelors          | 13                 | Married-civ-spouse | Prof-specialty     | Wife               | Black              | Female             |    0               | 0                  | 40                 | Cuba               | <=50K              | 0                  |\n",
       "| 37                 | Private            | 284582             | Masters            | 14                 | Married-civ-spouse | Exec-managerial    | Wife               | White              | Female             |    0               | 0                  | 40                 | United-States      | <=50K              | 0                  |\n",
       "\n"
      ],
      "text/plain": [
       "  age workclass        fnlwgt education education-num marital-status    \n",
       "1 39  State-gov         77516 Bachelors 13            Never-married     \n",
       "2 50  Self-emp-not-inc  83311 Bachelors 13            Married-civ-spouse\n",
       "3 38  Private          215646 HS-grad    9            Divorced          \n",
       "4 53  Private          234721 11th       7            Married-civ-spouse\n",
       "5 28  Private          338409 Bachelors 13            Married-civ-spouse\n",
       "6 37  Private          284582 Masters   14            Married-civ-spouse\n",
       "  occupation        relationship  race  sex    capital-gain capital-loss\n",
       "1 Adm-clerical      Not-in-family White Male   2174         0           \n",
       "2 Exec-managerial   Husband       White Male      0         0           \n",
       "3 Handlers-cleaners Not-in-family White Male      0         0           \n",
       "4 Handlers-cleaners Husband       Black Male      0         0           \n",
       "5 Prof-specialty    Wife          Black Female    0         0           \n",
       "6 Exec-managerial   Wife          White Female    0         0           \n",
       "  hours-per-week native-country income exceed_50K\n",
       "1 40             United-States  <=50K  0         \n",
       "2 13             United-States  <=50K  0         \n",
       "3 40             United-States  <=50K  0         \n",
       "4 40             United-States  <=50K  0         \n",
       "5 40             Cuba           <=50K  0         \n",
       "6 40             United-States  <=50K  0         "
      ]
     },
     "metadata": {},
     "output_type": "display_data"
    }
   ],
   "source": [
    "# To allow numerical operations, we create a new column with value *0* or *1*, respectively\n",
    "x <- mutate(incomes, exceed_50K = ifelse(income ==\"<=50K\",0,1))\n",
    "# Now view x and pay attention to the \"income\" and \"exceed_50K\" columns.\n",
    "head(x)"
   ]
  },
  {
   "cell_type": "markdown",
   "metadata": {},
   "source": [
    "### Example\n",
    "Are men working in public sector (i.e., workclass is \"Federal-gov\" or \"Local-gov\") more likely to have an income that exceeds 50K than in the private sector, and also more likely than women working in the same sector?"
   ]
  },
  {
   "cell_type": "code",
   "execution_count": 21,
   "metadata": {},
   "outputs": [
    {
     "data": {
      "image/png": "[encoded data removed]",
      "text/plain": [
       "plot without title"
      ]
     },
     "metadata": {},
     "output_type": "display_data"
    }
   ],
   "source": [
    "# Create a dataset of people grouped by working class and sex, with mean probability of income > 50K.\n",
    "y <- filter(x,workclass %in% c(\"Federal-gov\", \"Local-gov\", \"Private\" )) %>%\n",
    "    group_by(workclass, sex) %>%\n",
    "    summarise(prob_exceed_50K = mean(exceed_50K, na.rm = TRUE))\n",
    "\n",
    "# Plot a heat map with tiles.\n",
    "ggplot(data = y, aes(x = workclass, y = sex)) + \n",
    "    geom_tile(aes(fill = prob_exceed_50K))"
   ]
  },
  {
   "cell_type": "markdown",
   "metadata": {},
   "source": [
    "**Which conclusion you can make based on the above heat map?**"
   ]
  },
  {
   "cell_type": "markdown",
   "metadata": {},
   "source": [
    "### Exercise\n",
    "Are white people with higher education (i.e., education is \"Bachelors\" or \"Masters\") more likely to have an income that exceeds 50K than those with lower education (i.e., education is \"HS-grad\"), and also more likely than other races with the same level of education?"
   ]
  },
  {
   "cell_type": "code",
   "execution_count": 22,
   "metadata": {},
   "outputs": [],
   "source": [
    "# YOUR CODE HERE\n",
    "\n",
    "# Create a dataset of people grouped by education and race, with mean probability of income > 50K.\n",
    "\n",
    "# Plot a heat map with tiles."
   ]
  },
  {
   "cell_type": "markdown",
   "metadata": {},
   "source": [
    "**Which conclusion you can make based on the above heat map?**"
   ]
  },
  {
   "cell_type": "markdown",
   "metadata": {},
   "source": [
    "## 6. Combining related datasets\n",
    "In this section, we will use the \"nycflights13\" dataset."
   ]
  },
  {
   "cell_type": "code",
   "execution_count": 23,
   "metadata": {},
   "outputs": [],
   "source": [
    "# Load the library that contains the dataset.\n",
    "library(nycflights13)"
   ]
  },
  {
   "cell_type": "markdown",
   "metadata": {},
   "source": [
    "## Example\n",
    "In this example, we will try to find if there is any correlation between the planes' age and their delays: Are flights with older planes more likely be delayed?"
   ]
  },
  {
   "cell_type": "code",
   "execution_count": 24,
   "metadata": {
    "scrolled": true
   },
   "outputs": [
    {
     "name": "stderr",
     "output_type": "stream",
     "text": [
      "Updating HTML index of packages in '.Library'\n",
      "Making 'packages.html' ... done\n",
      "\n",
      "Attaching package: ‘lubridate’\n",
      "\n",
      "The following object is masked from ‘package:base’:\n",
      "\n",
      "    date\n",
      "\n"
     ]
    }
   ],
   "source": [
    "# Install the package for datetime processing if needed.\n",
    "install.packages(\"lubridate\",repos = \"https://cran.uni-muenster.de/\")\n",
    "# Load the library.\n",
    "library(lubridate)"
   ]
  },
  {
   "cell_type": "code",
   "execution_count": 25,
   "metadata": {},
   "outputs": [
    {
     "data": {
      "text/html": [
       "<table>\n",
       "<thead><tr><th scope=col>age</th><th scope=col>count</th><th scope=col>delayed_prop</th></tr></thead>\n",
       "<tbody>\n",
       "\t<tr><td> 6       </td><td> 4621    </td><td>0,3962346</td></tr>\n",
       "\t<tr><td> 7       </td><td> 7214    </td><td>0,4114222</td></tr>\n",
       "\t<tr><td> 8       </td><td> 6017    </td><td>0,3874024</td></tr>\n",
       "\t<tr><td> 9       </td><td> 3777    </td><td>0,4278528</td></tr>\n",
       "\t<tr><td>10       </td><td> 6584    </td><td>0,3900365</td></tr>\n",
       "\t<tr><td>11       </td><td>17809    </td><td>0,4156887</td></tr>\n",
       "\t<tr><td>12       </td><td>15207    </td><td>0,3933057</td></tr>\n",
       "\t<tr><td>13       </td><td>13030    </td><td>0,4311589</td></tr>\n",
       "\t<tr><td>14       </td><td>14112    </td><td>0,4143991</td></tr>\n",
       "\t<tr><td>15       </td><td>15339    </td><td>0,4359476</td></tr>\n",
       "</tbody>\n",
       "</table>\n"
      ],
      "text/latex": [
       "\\begin{tabular}{r|lll}\n",
       " age & count & delayed\\_prop\\\\\n",
       "\\hline\n",
       "\t  6        &  4621     & 0,3962346\\\\\n",
       "\t  7        &  7214     & 0,4114222\\\\\n",
       "\t  8        &  6017     & 0,3874024\\\\\n",
       "\t  9        &  3777     & 0,4278528\\\\\n",
       "\t 10        &  6584     & 0,3900365\\\\\n",
       "\t 11        & 17809     & 0,4156887\\\\\n",
       "\t 12        & 15207     & 0,3933057\\\\\n",
       "\t 13        & 13030     & 0,4311589\\\\\n",
       "\t 14        & 14112     & 0,4143991\\\\\n",
       "\t 15        & 15339     & 0,4359476\\\\\n",
       "\\end{tabular}\n"
      ],
      "text/markdown": [
       "\n",
       "| age | count | delayed_prop |\n",
       "|---|---|---|\n",
       "|  6        |  4621     | 0,3962346 |\n",
       "|  7        |  7214     | 0,4114222 |\n",
       "|  8        |  6017     | 0,3874024 |\n",
       "|  9        |  3777     | 0,4278528 |\n",
       "| 10        |  6584     | 0,3900365 |\n",
       "| 11        | 17809     | 0,4156887 |\n",
       "| 12        | 15207     | 0,3933057 |\n",
       "| 13        | 13030     | 0,4311589 |\n",
       "| 14        | 14112     | 0,4143991 |\n",
       "| 15        | 15339     | 0,4359476 |\n",
       "\n"
      ],
      "text/plain": [
       "   age count delayed_prop\n",
       "1   6   4621 0,3962346   \n",
       "2   7   7214 0,4114222   \n",
       "3   8   6017 0,3874024   \n",
       "4   9   3777 0,4278528   \n",
       "5  10   6584 0,3900365   \n",
       "6  11  17809 0,4156887   \n",
       "7  12  15207 0,3933057   \n",
       "8  13  13030 0,4311589   \n",
       "9  14  14112 0,4143991   \n",
       "10 15  15339 0,4359476   "
      ]
     },
     "metadata": {},
     "output_type": "display_data"
    },
    {
     "data": {
      "text/html": [
       "-0,261216944262741"
      ],
      "text/latex": [
       "-0,261216944262741"
      ],
      "text/markdown": [
       "-0,261216944262741"
      ],
      "text/plain": [
       "[1] -0,2612169"
      ]
     },
     "metadata": {},
     "output_type": "display_data"
    }
   ],
   "source": [
    "# Produce a table that consists of 3 columns: the airplanes' age, the number of fligts, and the likelihood that a flight with plane of that age is delayed\n",
    "delays <- flights %>% select(dep_delay, tailnum) %>% \n",
    "            left_join (select(planes, tailnum, year), by = \"tailnum\") %>%\n",
    "            mutate(age = year(now()) - year) %>%\n",
    "            filter(is.na(dep_delay) == FALSE & is.na(age) == FALSE) %>%\n",
    "            group_by(age) %>%\n",
    "            summarise(count = n(), delayed_prop = sum(dep_delay>0)/ n())\n",
    "\n",
    "# View the new dataset.\n",
    "head(delays,10)\n",
    "\n",
    "# Now, compute the correlation.\n",
    "cor(delays$age, delays$delayed_prop)"
   ]
  },
  {
   "cell_type": "markdown",
   "metadata": {},
   "source": [
    "**Which conclusion can you can make based on this correlation?**"
   ]
  },
  {
   "cell_type": "markdown",
   "metadata": {},
   "source": [
    "## Exercise\n",
    "Examine the correlation between weather and delays: Are flights on days with bad weather more likely be delayed?"
   ]
  },
  {
   "cell_type": "code",
   "execution_count": 26,
   "metadata": {},
   "outputs": [],
   "source": [
    "#YOUR CODE HERE\n",
    "\n",
    "# We will measure the goodness of weather by the visibility in miles (the \"visib\" column of weather table).\n",
    "# Produce a table that consists of 3 columns: the visibility, the number of flights and the likelihood that a flight with that visibility is delayed\n",
    "\n",
    "# View the new dataset.\n",
    "\n",
    "# Now, compute the correlation."
   ]
  },
  {
   "cell_type": "markdown",
   "metadata": {},
   "source": [
    "## References\n",
    "\n",
    "[Plots for Exploratory Data Analysis: Engineering Statistics](http://www.itl.nist.gov/div898/handbook/eda/eda.htm)\n",
    "\n",
    "[Exploratory Data Analysis using R: R for Data Science](http://r4ds.had.co.nz/data-import.html)"
   ]
  }
 ],
 "metadata": {
  "kernelspec": {
   "display_name": "R",
   "language": "R",
   "name": "ir"
  },
  "language_info": {
   "codemirror_mode": "r",
   "file_extension": ".r",
   "mimetype": "text/x-r-source",
   "name": "R",
   "pygments_lexer": "r",
   "version": "3.6.1"
  }
 },
 "nbformat": 4,
 "nbformat_minor": 2
}
