{
 "cells": [
  {
   "cell_type": "markdown",
   "metadata": {},
   "source": [
    "# Introduction to R"
   ]
  },
  {
   "cell_type": "markdown",
   "metadata": {},
   "source": [
    "<font color='blue'> keywords:<font color='black'>  \n",
    "**Visualization:** scatter plot, bar graph, line graph, box plot  \n",
    "**transformations:** select, filter, arrange, mutate, group by, summarize "
   ]
  },
  {
   "cell_type": "markdown",
   "metadata": {},
   "source": [
    "<font color='blue'>Learning outcomes<font color='black'> \n",
    "- data visualization with ggplot2\n",
    "- data transformation with the dplyr"
   ]
  },
  {
   "cell_type": "code",
   "execution_count": null,
   "metadata": {},
   "outputs": [],
   "source": [
    "# load required packages\n",
    "library(tidyverse) # a group of packages for the functions to load, transform, analyze, and visualize data\n",
    "# these packages also contain some built-in datasets\n",
    "# visit https://www.tidyverse.org/ for more information about"
   ]
  },
  {
   "cell_type": "markdown",
   "metadata": {},
   "source": [
    "## Visualization"
   ]
  },
  {
   "cell_type": "markdown",
   "metadata": {},
   "source": [
    "In the lecture, we saw the following template to generate plots with **ggplot2**\n",
    "\n",
    "    ggplot(data = <DATA>) +\n",
    "        <GEOM_FUNCTION>(mapping = aes(<MAPPINGS>))\n",
    "\n",
    "Type `?geom_` followed by `TAB` to get a list of `<GEOM_FUNCTION>`s. Here are some examples:\n",
    " - Scatterplot - geom_point()\n",
    " - Bar chart - geom_bar()\n",
    " - Line chart - geom_line()\n",
    " - Boxplot - geom_boxplot()\n",
    " - Histogram - geom_histogram()"
   ]
  },
  {
   "cell_type": "code",
   "execution_count": null,
   "metadata": {},
   "outputs": [],
   "source": [
    "# for the following few plots we will use the mpg dataset\n",
    "# mpg dataset is included in ggplot2 package\n",
    "# visit https://ggplot2.tidyverse.org/reference/mpg.html for more information\n",
    "# (use: data() command to list out all the loaded datasets, listed by package)\n",
    "# first, let view columns of the dataset \n",
    "str(mpg)"
   ]
  },
  {
   "cell_type": "markdown",
   "metadata": {},
   "source": [
    "### Scatter plot"
   ]
  },
  {
   "cell_type": "code",
   "execution_count": null,
   "metadata": {},
   "outputs": [],
   "source": [
    "# Here is an example scatter plot to show the correlation between `cty` and `hwy`\n",
    "ggplot(data = mpg) +\n",
    "    geom_point(mapping = aes(x = cty, y = hwy))"
   ]
  },
  {
   "cell_type": "code",
   "execution_count": null,
   "metadata": {},
   "outputs": [],
   "source": [
    "# The above figure may be a bit too large, we can change the display size of the figures as follows\n",
    "options(repr.plot.width=5, repr.plot.height=3)\n",
    "\n",
    "# Now plot the figure again and see the difference\n",
    "ggplot(data = mpg) +\n",
    "    geom_point(mapping = aes(x = cty, y = hwy))"
   ]
  },
  {
   "cell_type": "markdown",
   "metadata": {},
   "source": [
    "#### Practice\n",
    "We can add more options to change `colour`, `fill`, `size`, `shape`, and transpancey (`alpha`) of points in the figure. Change the values of those options in the following command to see the effects."
   ]
  },
  {
   "cell_type": "code",
   "execution_count": null,
   "metadata": {},
   "outputs": [],
   "source": [
    "ggplot(data = mpg) +\n",
    "    geom_point(mapping = aes(x = cty, y = hwy), color='red', size = 2, shape = 21, alpha=1, fill='blue')"
   ]
  },
  {
   "cell_type": "code",
   "execution_count": null,
   "metadata": {},
   "outputs": [],
   "source": [
    "# Be reminded that by adding `color=class` inside aes as follows, we can distinguish between types of car\n",
    "ggplot(data = mpg) +\n",
    "    geom_point(mapping = aes(x = hwy, y = cty, color=class), size = 2)"
   ]
  },
  {
   "cell_type": "markdown",
   "metadata": {},
   "source": [
    "#### Excercise\n",
    "\n",
    "Draw the scatter plot to show the relationship between `displ` and `hwy` where  \n",
    "- points' colors are distinguished by fuel type (`fl`)\n",
    "- points' size is set to 2\n",
    "- points have star shape ([here](https://www.datanovia.com/en/blog/ggplot-point-shapes-best-tips/) is more information on setting shape)"
   ]
  },
  {
   "cell_type": "code",
   "execution_count": null,
   "metadata": {},
   "outputs": [],
   "source": [
    "### YOUR SOLUTION GOES HERE\n",
    "ggplot(data = mpg) +\n",
    "    geom_point(mapping = aes(x = displ, y = hwy, color=fl), size = 2, shape = 8)"
   ]
  },
  {
   "cell_type": "markdown",
   "metadata": {},
   "source": [
    "### Bar plot"
   ]
  },
  {
   "cell_type": "code",
   "execution_count": null,
   "metadata": {},
   "outputs": [],
   "source": [
    "# Let us look at another dataset - diamonds\n",
    "str(diamonds)"
   ]
  },
  {
   "cell_type": "code",
   "execution_count": null,
   "metadata": {},
   "outputs": [],
   "source": [
    "# Generate a bar graph to display counts of diamonds by cut\n",
    "ggplot(data = diamonds) +\n",
    "    geom_bar(mapping = aes(x = cut))"
   ]
  },
  {
   "cell_type": "code",
   "execution_count": null,
   "metadata": {},
   "outputs": [],
   "source": [
    "# We can further decompose the bars by both cut and then clarity using the `fill` option inside `aes` as follows\n",
    "ggplot(data = diamonds) +\n",
    "    geom_bar(mapping = aes(x = cut, fill = clarity), position = 'dodge', color='gray')"
   ]
  },
  {
   "cell_type": "markdown",
   "metadata": {},
   "source": [
    "#### Practice\n",
    "\n",
    "- In the following command, note that `position` is set to `identity` and the sub-bars are vertically stacked\n",
    "- Change the value for `color`, `width`, and `show.legend` to see their effects"
   ]
  },
  {
   "cell_type": "code",
   "execution_count": null,
   "metadata": {},
   "outputs": [],
   "source": [
    "ggplot(data = diamonds) +\n",
    "    geom_bar(mapping = aes(x = cut, fill = clarity), position = 'identity', \n",
    "                 color='gray', width=0.1, show.legend=FALSE)"
   ]
  },
  {
   "cell_type": "markdown",
   "metadata": {},
   "source": [
    "## Data Transformation"
   ]
  },
  {
   "cell_type": "code",
   "execution_count": null,
   "metadata": {},
   "outputs": [],
   "source": [
    "# For the subsequent plots we will use the flights dataset as mentioned in the lecture\n",
    "\n",
    "# First, load the package that contains dataset\n",
    "# install.packages('nycflights13') # may be required if you have not yet installed the package\n",
    "library(nycflights13)   # for the \"nycflights13: Flights that Departed NYC in 2013\" dataset, \n",
    "# visit https://cran.r-project.org/web/packages/nycflights13/index.html for more information\n",
    "\n",
    "# Again, view the columns in the dataset \n",
    "str(flights)"
   ]
  },
  {
   "cell_type": "markdown",
   "metadata": {},
   "source": [
    "#### Example\n",
    "Let's be reminded about some steps for tranforming data through an example"
   ]
  },
  {
   "cell_type": "markdown",
   "metadata": {},
   "source": [
    "**Projecting a subset of variables via select**"
   ]
  },
  {
   "cell_type": "code",
   "execution_count": null,
   "metadata": {},
   "outputs": [],
   "source": [
    "# Create a subset of the flights data set for carrier and the delay\n",
    "flights_carrier_day <- select(flights, carrier, arr_delay, dep_delay)"
   ]
  },
  {
   "cell_type": "markdown",
   "metadata": {},
   "source": [
    "**Selecting a subset of observations via filter**"
   ]
  },
  {
   "cell_type": "code",
   "execution_count": null,
   "metadata": {},
   "outputs": [],
   "source": [
    "# Create a subset of the flights data set with details for Winter\n",
    "winter_flights <- filter(flights, month == 1 | month == 2 | month == 12 & day > 21 | month == 3 & day < 22)"
   ]
  },
  {
   "cell_type": "markdown",
   "metadata": {},
   "source": [
    "**Sorting of observations via arrange**"
   ]
  },
  {
   "cell_type": "code",
   "execution_count": null,
   "metadata": {},
   "outputs": [],
   "source": [
    "# Find the least delayed flights. Which are the top delayed flights?\n",
    "flights_sorted <- arrange(flights, dep_delay, arr_delay)\n",
    "flights_sorted <- arrange(flights, desc(dep_delay), desc(arr_delay))"
   ]
  },
  {
   "cell_type": "markdown",
   "metadata": {},
   "source": [
    "**Adding new computed variables via mutate**"
   ]
  },
  {
   "cell_type": "code",
   "execution_count": null,
   "metadata": {},
   "outputs": [],
   "source": [
    "# Sort planes (tailnum) by their average speed in descending order\n",
    "# where speed is defined as distance / air_time\n",
    "# Check where NANs come from\n",
    "flights_by_speed <- mutate(flights, speed = distance / air_time) %>%\n",
    "                    group_by(tailnum) %>%\n",
    "                    summarise(ave_speed = mean(speed, na.rm = TRUE)) %>%\n",
    "                    arrange(desc(ave_speed))"
   ]
  },
  {
   "cell_type": "markdown",
   "metadata": {},
   "source": [
    "**Grouping observiations via group by and aggregation of groups via summarize**"
   ]
  },
  {
   "cell_type": "code",
   "execution_count": null,
   "metadata": {},
   "outputs": [],
   "source": [
    "# Find the carriers with the worst arrival delays\n",
    "delays <- flights %>%\n",
    "    group_by(dest) %>%\n",
    "    summarise(\n",
    "        count = n(),\n",
    "        dist = mean(distance, na.rm = TRUE),\n",
    "        delay = mean(arr_delay, na.rm = TRUE)\n",
    "    ) %>%\n",
    "    filter(count > 20, dest != 'HNL')"
   ]
  },
  {
   "cell_type": "markdown",
   "metadata": {},
   "source": [
    "**Drawing a scatter plot to examine the relationship between `dist` and `delay`**"
   ]
  },
  {
   "cell_type": "code",
   "execution_count": null,
   "metadata": {},
   "outputs": [],
   "source": [
    "ggplot(data = delays, mapping = aes(x = dist, y = delay)) +\n",
    "    geom_point() +\n",
    "    geom_smooth()"
   ]
  },
  {
   "cell_type": "markdown",
   "metadata": {
    "collapsed": true
   },
   "source": [
    "#### Exercise  \n",
    "Draw a bar chart or a pie-chart of delayed flights by different airlines on January 1st. Hint: use `coord_polar` as `<GEOM_FUNCTION>`"
   ]
  },
  {
   "cell_type": "code",
   "execution_count": null,
   "metadata": {
    "scrolled": false
   },
   "outputs": [],
   "source": [
    "### YOUR SOLUTION GOES HERE\n",
    "\n",
    "#filter the flights for Jan 1st\n",
    "\n",
    "#get delay frequency of airlines\n",
    "\n",
    "#re-names the columns' header in delayFrequency to carrier and frequency\n",
    "\n",
    "# sort the airlines by delay frequency, from most to least\n",
    "\n",
    "#plot a bar / pie chart\n"
   ]
  },
  {
   "cell_type": "markdown",
   "metadata": {},
   "source": [
    "#### Exercise \n",
    "\n",
    "Draw a box-plot of delay time with respect to the original airport"
   ]
  },
  {
   "cell_type": "code",
   "execution_count": null,
   "metadata": {},
   "outputs": [],
   "source": [
    "# YOUR SOLUTION GOES HERE\n",
    "\n",
    "#select delayed time and original airport, then filter out missing values\n",
    "\n",
    "\n",
    "# make a box plot of departure delay (dep_delay) for each origin (origin)\n",
    "\n",
    "#What if we limit the delay time between the range -180 and 180\n"
   ]
  },
  {
   "cell_type": "markdown",
   "metadata": {},
   "source": [
    "#### Exercise\n",
    "\n",
    "Draw a scatter-plot between daily averages of delayed time and flight time (air_time)"
   ]
  },
  {
   "cell_type": "code",
   "execution_count": null,
   "metadata": {},
   "outputs": [],
   "source": [
    "# YOUR SOLUTION GOES HERE\n",
    "\n",
    "#group flight records by day\n",
    "\n",
    "\n",
    "#compute daily averages' delayed time and flying time\n",
    "\n",
    "#draw the scatter-plot of average delay (avg_delay) by average flight time (avg_fly)\n",
    "\n",
    "# What if we add a smoothing line to interprete the plot\n"
   ]
  },
  {
   "cell_type": "markdown",
   "metadata": {},
   "source": [
    "#### More excercises"
   ]
  },
  {
   "cell_type": "markdown",
   "metadata": {
    "collapsed": true
   },
   "source": [
    "**Plot the frequency of delayed flights by month**"
   ]
  },
  {
   "cell_type": "code",
   "execution_count": null,
   "metadata": {},
   "outputs": [],
   "source": [
    "### YOUR SOLUTION GOES HERE"
   ]
  },
  {
   "cell_type": "markdown",
   "metadata": {
    "collapsed": true
   },
   "source": [
    "**Plot the box-plot of delay time with respect to airlines**"
   ]
  },
  {
   "cell_type": "code",
   "execution_count": null,
   "metadata": {},
   "outputs": [],
   "source": [
    "### YOUR SOLUTION GOES HERE"
   ]
  },
  {
   "cell_type": "markdown",
   "metadata": {
    "collapsed": true
   },
   "source": [
    "**Plot the scatter-plot between hourly average of flying distance and flying time**"
   ]
  },
  {
   "cell_type": "code",
   "execution_count": null,
   "metadata": {},
   "outputs": [],
   "source": [
    "### YOUR SOLUTION GOES HERE"
   ]
  },
  {
   "cell_type": "markdown",
   "metadata": {},
   "source": [
    "<font color='green'> Congratulations! <font color='black'>You have seen:<font color='green'>  \n",
    "**Visualization:** pie chart, box plot, scatter plot \n",
    "\n",
    "**transformations:** select, filter, arrange, mutate, group by, summarize "
   ]
  },
  {
   "cell_type": "markdown",
   "metadata": {},
   "source": [
    "## References"
   ]
  },
  {
   "cell_type": "markdown",
   "metadata": {},
   "source": [
    "[R for Data Science](http://r4ds.had.co.nz/)\n",
    "\n",
    "[R Graphics Cookbook](http://www.cookbook-r.com/Graphs/)\n",
    "\n",
    "[NIST/SEMATECH e-Handbook of Statistical Methods, http://www.itl.nist.gov/div898/handbook/, 26-10-2017](http://www.itl.nist.gov/div898/handbook/eda/section3/eda34.htm)\n",
    "\n",
    "[Data Visualization Cheat Sheet](https://github.com/rstudio/cheatsheets/raw/master/data-visualization-2.1.pdf)\n",
    "\n",
    "[Data Transformation Cheat Sheet](https://github.com/rstudio/cheatsheets/raw/master/data-transformation.pdf)"
   ]
  }
 ],
 "metadata": {
  "kernelspec": {
   "display_name": "R",
   "language": "R",
   "name": "ir"
  },
  "language_info": {
   "codemirror_mode": "r",
   "file_extension": ".r",
   "mimetype": "text/x-r-source",
   "name": "R",
   "pygments_lexer": "r",
   "version": "3.6.1"
  }
 },
 "nbformat": 4,
 "nbformat_minor": 2
}
