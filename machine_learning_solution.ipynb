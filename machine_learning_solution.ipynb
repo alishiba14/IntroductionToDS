{
 "cells": [
  {
   "cell_type": "markdown",
   "metadata": {},
   "source": [
    "# Machine Learning"
   ]
  },
  {
   "cell_type": "markdown",
   "metadata": {},
   "source": [
    "<font color='blue'> keywords:<font color='black'> \n",
    "    \n",
    "**Tasks:** regression, classification, clustering  \n",
    "**Algorithms:** linear regression, logistic regression, random forest, SVM, k-means  \n",
    "**Evaluation Measures:** RMSE, precision, recall, F1-score  \n",
    "**Concepts:** training and testing, overfitting and underfitting, cross-validation  \n",
    "**R packages used:** tidyverse, rpart, randomForest, e1071, caret, mice, mltest  \n",
    "  \n",
    "  \n",
    "    \n",
    "The goal of this lab session is to get familar with various machine learning based tasks in R. Many packages in R have similar interface that uses a formula and other parameters.\n",
    "\n",
    "**formula:** is a the to express the form of a model. For example, suppose you have a response variable y and independent variables x1, x2 and x3. To express that y depends linearly on x1, x2 and x3 you would use the formula `y ~ x1 + x2 + x3.`"
   ]
  },
  {
   "cell_type": "markdown",
   "metadata": {},
   "source": [
    "# Supervised Learning\n",
    "\n",
    "[Supervised learning](https://en.wikipedia.org/wiki/Supervised_learning) is the machine learning task of inferring a function from labeled data."
   ]
  },
  {
   "cell_type": "markdown",
   "metadata": {},
   "source": [
    "## Regression\n",
    "[Regression](https://en.wikipedia.org/wiki/Regression_analysis) is the processes to estimate the relationships between a dependent variable (often called the 'outcome variable') and one or more independent variables (often called 'predictors', 'covariates', or 'features')"
   ]
  },
  {
   "cell_type": "markdown",
   "metadata": {},
   "source": [
    "**Quizz:** Which of the following tasks are suitable to solve as a regression problem?\n",
    "\n",
    "    ☐ Predicting the author of a book from a set of fiction authors.\n",
    "    ☑ Predicting housing prices.\n",
    "    ☐ Recognizing digits in an image of a handwritten text.\n",
    "    ☐ Flagging whether an email is a spam or not.\n",
    "    ☑ Predicting monthly sales of a store.\n",
    "    ☐ Predicting if subscribers will churn at the end of the month.\n",
    "    ☐ Personality prediction based on Twitter stream.\n",
    "    ☑ Predicting the number of edits a Wikipedia editor will make next month."
   ]
  },
  {
   "cell_type": "markdown",
   "metadata": {},
   "source": [
    "**Linear Regression**\n",
    "\n",
    "We will use the `lm()` function in the `stats` package which is part of base R. No external package needed.\n",
    "\n",
    "    lm_model <- lm(y ∼ x1 + x2, data=mydata)\n",
    "    summary(lm_model)\n",
    "\n",
    "The vector of coefficients for the model is contained in `lm_model$coefficients.`"
   ]
  },
  {
   "cell_type": "markdown",
   "metadata": {},
   "source": [
    "**Example**: We will start with building a simple model using the `cars` dataset that comes with R. The dataset contains the speed of cars and the distances taken to stop. In this example, we will build a linear regression model with only a **single feature**, i.e. to compute `dist` from `speed.`"
   ]
  },
  {
   "cell_type": "code",
   "execution_count": null,
   "metadata": {},
   "outputs": [],
   "source": [
    "# view some first rows of the dataset\n",
    "head(cars)"
   ]
  },
  {
   "cell_type": "code",
   "execution_count": 2,
   "metadata": {},
   "outputs": [
    {
     "name": "stderr",
     "output_type": "stream",
     "text": [
      "── Attaching packages ─────────────────────────────────────── tidyverse 1.2.1 ──\n",
      "✔ ggplot2 2.2.1     ✔ purrr   0.2.4\n",
      "✔ tibble  1.4.1     ✔ dplyr   0.7.4\n",
      "✔ tidyr   0.7.2     ✔ stringr 1.2.0\n",
      "✔ readr   1.1.1     ✔ forcats 0.2.0\n",
      "── Conflicts ────────────────────────────────────────── tidyverse_conflicts() ──\n",
      "✖ dplyr::filter() masks stats::filter()\n",
      "✖ dplyr::lag()    masks stats::lag()\n",
      "`geom_smooth()` using method = 'loess'\n"
     ]
    },
    {
     "data": {},
     "metadata": {},
     "output_type": "display_data"
    },
    {
     "data": {
      "image/png": "[encoded data removed]",
      "text/plain": [
       "plot without title"
      ]
     },
     "metadata": {},
     "output_type": "display_data"
    }
   ],
   "source": [
    "# now, lets visually examine the data\n",
    "\n",
    "# load the required packages for plotting\n",
    "library(tidyverse)\n",
    "# set plot dimensions\n",
    "options(repr.plot.width=4, repr.plot.height=2)\n",
    "\n",
    "# draw the scatter plot between 'speed' and 'dist'\n",
    "ggplot(data = cars, mapping = aes(x = speed, y = dist)) +\n",
    "    geom_point() +\n",
    "    geom_smooth()"
   ]
  },
  {
   "cell_type": "markdown",
   "metadata": {},
   "source": [
    "**The above plot suggests that 'dist' can be computed from 'speed' through a linear function**"
   ]
  },
  {
   "cell_type": "code",
   "execution_count": null,
   "metadata": {},
   "outputs": [],
   "source": [
    "# fit a linear regression model\n",
    "cars_lm <- lm(dist ~ speed, data = cars)"
   ]
  },
  {
   "cell_type": "markdown",
   "metadata": {},
   "source": [
    "**Understanding the fitted model**"
   ]
  },
  {
   "cell_type": "code",
   "execution_count": null,
   "metadata": {
    "scrolled": false
   },
   "outputs": [],
   "source": [
    "## summary of fitted model\n",
    "summary(cars_lm)"
   ]
  },
  {
   "cell_type": "markdown",
   "metadata": {},
   "source": [
    "**Question**: How fit is the fitted model? Refer to this [blog](https://boostedml.com/2019/06/linear-regression-in-r-interpreting-summarylm.html) for the intepretation of the summary of the linear regression model"
   ]
  },
  {
   "cell_type": "markdown",
   "metadata": {},
   "source": [
    "**Using the fitted model for prediction**"
   ]
  },
  {
   "cell_type": "code",
   "execution_count": null,
   "metadata": {},
   "outputs": [],
   "source": [
    "# example unseen data\n",
    "df <- data.frame('speed' = c(2,3,4,7))\n",
    "# prediction\n",
    "predict(cars_lm, newdata = df)"
   ]
  },
  {
   "cell_type": "markdown",
   "metadata": {},
   "source": [
    "**Example**: We will use another dataset that comes with R, `mtcars`, to build a model with **multiple features** to predict the fuel consumption `mpg.` The features describe different aspects of an automobile design and performance. We will also explore **which features to use**."
   ]
  },
  {
   "cell_type": "code",
   "execution_count": null,
   "metadata": {},
   "outputs": [],
   "source": [
    "head(mtcars)"
   ]
  },
  {
   "cell_type": "code",
   "execution_count": null,
   "metadata": {},
   "outputs": [],
   "source": [
    "# Use the dataset mtcars to create a linear regression model to predict `mpg` using `wt, qsec, am` and `carb`. \n",
    "mtcars_lm <- lm(mpg ~ wt + qsec + am + carb, data = mtcars)\n",
    "summary(mtcars_lm)"
   ]
  },
  {
   "cell_type": "markdown",
   "metadata": {},
   "source": [
    "**Question**: Using the summary output of the model, to determine\n",
    "\n",
    "    - Does the fitted model fits the dataset well?\n",
    "    - What is the mathematical form of the model?\n",
    "    - Is the coefficient for 'wt significant?\n",
    "    - Is the coefficient for carb significant?"
   ]
  },
  {
   "cell_type": "markdown",
   "metadata": {},
   "source": [
    "**Exercise:** Use the dataset mtcars to create a linear regression model to predict `mpg` using all features. Remove the top 3 least significant features from the dataset one by one to reduce the model without degrading the performance."
   ]
  },
  {
   "cell_type": "code",
   "execution_count": null,
   "metadata": {},
   "outputs": [],
   "source": [
    "# YOUR CODE GOES HERE\n",
    "\n",
    "## fit model\n",
    "mtcars_lm <- lm(mpg ~ ., data = mtcars)\n",
    "summary(mtcars_lm)\n",
    "\n",
    "## remove cyl, vs, gear\n",
    "mtcars_lm <- lm(mpg ~ drat + wt + qsec + am + carb + disp + hp, data = mtcars)\n",
    "summary(mtcars_lm)"
   ]
  },
  {
   "cell_type": "markdown",
   "metadata": {},
   "source": [
    "## Classification\n",
    "\n",
    "[Classification](https://en.wikipedia.org/wiki/Statistical_classification) is the problem of determining label(s) (e.g., categories or clasesses, etc.) of each data observation based on learning from labeled data."
   ]
  },
  {
   "cell_type": "markdown",
   "metadata": {},
   "source": [
    "**Quizz** which of the following tasks are classification problems?\n",
    "\n",
    "    ☑ Deciding whether to buy, sell or hold a stock.\n",
    "    ☑ Predicting the winner of an election with six parties.\n",
    "    ☑ Telling whether or not revenue will exceed $100,000.\n",
    "    ☐ Forecasting the weekly revenue of a company.\n",
    "    ☐ Predicting the number of daily bike thefts in a city."
   ]
  },
  {
   "cell_type": "markdown",
   "metadata": {},
   "source": [
    "### Widely used (shallow) classification models"
   ]
  },
  {
   "cell_type": "markdown",
   "metadata": {},
   "source": [
    "[**Logistic Regression**](https://en.wikipedia.org/wiki/Logistic_regression)\n",
    "\n",
    "Provided in `stats` package, which is automatically loaded when starting R  \n",
    "\n",
    "    glm_model <- glm(y ∼ x1 + x2, family = binomial, data = mydata)  "
   ]
  },
  {
   "cell_type": "markdown",
   "metadata": {},
   "source": [
    "[**K-Nearest Neighbor**](https://en.wikipedia.org/wiki/K-nearest_neighbors_algorithm)\n",
    "\n",
    "Install and load the `class` package\n",
    "\n",
    "    knn_model <- knn(train=X_train, test=X_test, cl=as.factor(labels), k=K)\n",
    "    \n",
    "`knn_model` is a factor vector of class attributes for the test set."
   ]
  },
  {
   "cell_type": "markdown",
   "metadata": {},
   "source": [
    "[**Decision Trees (CART)**](https://en.wikipedia.org/wiki/Decision_tree_learning)\n",
    "\n",
    "Install and load the `rpart` package.\n",
    "\n",
    "    cart_model <- rpart(y ∼ x1 + x2, data=mydata, method=\"class\")\n",
    " \n",
    "You can use `plot.rpart` and `text.rpart` to plot the decision tree"
   ]
  },
  {
   "cell_type": "markdown",
   "metadata": {},
   "source": [
    "[**Random Forest**](https://en.wikipedia.org/wiki/Random_forest)\n",
    "\n",
    "Install and load the `randomForest` package\n",
    "\n",
    "\n",
    "    rf_model <- randomForest(y ~ x1 + x2, data=train, importance=TRUE, ntree=50)\n"
   ]
  },
  {
   "cell_type": "markdown",
   "metadata": {},
   "source": [
    "[**Support Vector Machines (SVM)**](https://en.wikipedia.org/wiki/Support-vector_machine)\n",
    "\n",
    "Install and load the `e1071` package.\n",
    "\n",
    "    svm_model <- svm(x=X, y=as.factor(labels), kernel =\"radial\", cost=C)"
   ]
  },
  {
   "cell_type": "markdown",
   "metadata": {},
   "source": [
    "**Example**: we will use the above models to predict `survivors` in the [Titanic dataset](https://www.kaggle.com/c/titanic). The dataset also provided under `data/titanic.csv`"
   ]
  },
  {
   "cell_type": "code",
   "execution_count": null,
   "metadata": {},
   "outputs": [],
   "source": [
    "# load, view data examples, and summarize the dataset\n",
    "titanic <- read_csv('data/titanic.csv', skip=5)\n",
    "head(titanic)\n",
    "summary(titanic)"
   ]
  },
  {
   "cell_type": "markdown",
   "metadata": {},
   "source": [
    "**Note**: most models do not work with `character` type, we need to convert strings to factors for later use"
   ]
  },
  {
   "cell_type": "code",
   "execution_count": null,
   "metadata": {},
   "outputs": [],
   "source": [
    "titanic$Sex <- as.factor(titanic$Sex)\n",
    "titanic$Cabin <- as.factor(titanic$Cabin)\n",
    "titanic$Embarked <- as.factor(titanic$Embarked)\n",
    "titanic$Survived <- as.factor(titanic$Survived)"
   ]
  },
  {
   "cell_type": "markdown",
   "metadata": {},
   "source": [
    "**Training and Testing data**\n",
    "\n",
    "split the titanic data into training and testing sets based on the feature we want to predict `Survived`."
   ]
  },
  {
   "cell_type": "code",
   "execution_count": null,
   "metadata": {},
   "outputs": [],
   "source": [
    "titanic_training <- filter(titanic, !is.na(Survived))\n",
    "dim(titanic_training)\n",
    "titanic_testing <- filter(titanic, is.na(Survived))\n",
    "dim(titanic_testing)"
   ]
  },
  {
   "cell_type": "code",
   "execution_count": null,
   "metadata": {},
   "outputs": [],
   "source": [
    "# check if there is missing value in training data\n",
    "summary(titanic_training)"
   ]
  },
  {
   "cell_type": "code",
   "execution_count": null,
   "metadata": {},
   "outputs": [],
   "source": [
    "# check if there is missing value in test data\n",
    "summary(titanic_testing)"
   ]
  },
  {
   "cell_type": "markdown",
   "metadata": {},
   "source": [
    "Predicting `Survived` based on `Pclass` and `Sex` using Logistic Regression"
   ]
  },
  {
   "cell_type": "code",
   "execution_count": null,
   "metadata": {},
   "outputs": [],
   "source": [
    "# train the model\n",
    "titanic_glm <- glm(Survived ~ Pclass + Sex, data = titanic_training, family = binomial)\n",
    "\n",
    "# examine the model\n",
    "summary(titanic_glm)"
   ]
  },
  {
   "cell_type": "markdown",
   "metadata": {},
   "source": [
    "**Observation**: the coefficient for Sexmale is significantly negative. Why?"
   ]
  },
  {
   "cell_type": "code",
   "execution_count": null,
   "metadata": {},
   "outputs": [],
   "source": [
    "# Apply the trained model for predict the survivor in test set\n",
    "titanic_testing$Survived <- predict(titanic_glm, titanic_testing, type=\"response\") # Question: why type=\"response\"\n",
    "titanic_testing$Survived"
   ]
  },
  {
   "cell_type": "markdown",
   "metadata": {},
   "source": [
    "**Practice**: train a `random forest` for predicting  `Survived` based on `Pclass` and `Sex`, then apply the model on test set"
   ]
  },
  {
   "cell_type": "code",
   "execution_count": 12,
   "metadata": {},
   "outputs": [
    {
     "name": "stderr",
     "output_type": "stream",
     "text": [
      "randomForest 4.6-12\n",
      "Type rfNews() to see new features/changes/bug fixes.\n",
      "\n",
      "Attaching package: ‘randomForest’\n",
      "\n",
      "The following object is masked from ‘package:dplyr’:\n",
      "\n",
      "    combine\n",
      "\n",
      "The following object is masked from ‘package:ggplot2’:\n",
      "\n",
      "    margin\n",
      "\n"
     ]
    },
    {
     "ename": "ERROR",
     "evalue": "Error in eval(m$data, parent.frame()): object 'titanic_training' not found\n",
     "output_type": "error",
     "traceback": [
      "Error in eval(m$data, parent.frame()): object 'titanic_training' not found\nTraceback:\n",
      "1. randomForest(Survived ~ Pclass + Sex, data = titanic_training, \n .     importance = TRUE, ntree = 10)",
      "2. randomForest.formula(Survived ~ Pclass + Sex, data = titanic_training, \n .     importance = TRUE, ntree = 10)",
      "3. eval(m$data, parent.frame())",
      "4. eval(m$data, parent.frame())"
     ]
    }
   ],
   "source": [
    "# YOUR CODE GOES HERE\n",
    "\n",
    "# install.packages('randomForest')\n",
    "library(randomForest)\n",
    "\n",
    "# train the model\n",
    "titanic_rf <- randomForest(Survived ~ Pclass + Sex, data = titanic_training, importance=TRUE, ntree=10)\n",
    "\n",
    "# examine the model\n",
    "summary(titanic_rf)\n",
    "\n",
    "# Apply the trained model for predict the survivor in test set\n",
    "\n",
    "titanic_testing$Survived <- predict(titanic_rf, titanic_testing)"
   ]
  },
  {
   "cell_type": "markdown",
   "metadata": {},
   "source": [
    "### Model Performance\n",
    "\n",
    "#### Measures of goodness\n",
    "We trained and applied some models to predict labels for un-labeled data, but how can we say if the model is good?\n",
    "\n",
    "The goodness of prediction models are measured w.r.t some dataset with groudtruth -- i.e., we need the labels for observations in test data. Typical measures for the goodness of the classification models are [Precision, Recall](https://en.wikipedia.org/wiki/Precision_and_recall), and [F1 scores](https://en.wikipedia.org/wiki/F1_score)"
   ]
  },
  {
   "cell_type": "markdown",
   "metadata": {},
   "source": [
    "**Example**: we will train a model and evaluate its performance using [Iris dataset]"
   ]
  },
  {
   "cell_type": "code",
   "execution_count": 24,
   "metadata": {},
   "outputs": [
    {
     "name": "stderr",
     "output_type": "stream",
     "text": [
      "Parsed with column specification:\n",
      "cols(\n",
      "  X1 = col_double(),\n",
      "  X2 = col_double(),\n",
      "  X3 = col_double(),\n",
      "  X4 = col_double(),\n",
      "  X5 = col_character()\n",
      ")\n"
     ]
    }
   ],
   "source": [
    "# read the dataset\n",
    "iris <- read_csv('http://archive.ics.uci.edu/ml/machine-learning-databases/iris/iris.data', col_names = FALSE)\n",
    "\n",
    "# name the columns\n",
    "names(iris) <- c('sepal_length', 'sepal_width', 'petal_length', 'petal_width', 'class')"
   ]
  },
  {
   "cell_type": "code",
   "execution_count": 25,
   "metadata": {},
   "outputs": [
    {
     "data": {
      "text/html": [
       "<table>\n",
       "<thead><tr><th scope=col>sepal_length</th><th scope=col>sepal_width</th><th scope=col>petal_length</th><th scope=col>petal_width</th><th scope=col>class</th></tr></thead>\n",
       "<tbody>\n",
       "\t<tr><td>5.1        </td><td>3.5        </td><td>1.4        </td><td>0.2        </td><td>Iris-setosa</td></tr>\n",
       "\t<tr><td>4.9        </td><td>3.0        </td><td>1.4        </td><td>0.2        </td><td>Iris-setosa</td></tr>\n",
       "\t<tr><td>4.7        </td><td>3.2        </td><td>1.3        </td><td>0.2        </td><td>Iris-setosa</td></tr>\n",
       "\t<tr><td>4.6        </td><td>3.1        </td><td>1.5        </td><td>0.2        </td><td>Iris-setosa</td></tr>\n",
       "\t<tr><td>5.0        </td><td>3.6        </td><td>1.4        </td><td>0.2        </td><td>Iris-setosa</td></tr>\n",
       "\t<tr><td>5.4        </td><td>3.9        </td><td>1.7        </td><td>0.4        </td><td>Iris-setosa</td></tr>\n",
       "</tbody>\n",
       "</table>\n"
      ],
      "text/latex": [
       "\\begin{tabular}{r|lllll}\n",
       " sepal\\_length & sepal\\_width & petal\\_length & petal\\_width & class\\\\\n",
       "\\hline\n",
       "\t 5.1         & 3.5         & 1.4         & 0.2         & Iris-setosa\\\\\n",
       "\t 4.9         & 3.0         & 1.4         & 0.2         & Iris-setosa\\\\\n",
       "\t 4.7         & 3.2         & 1.3         & 0.2         & Iris-setosa\\\\\n",
       "\t 4.6         & 3.1         & 1.5         & 0.2         & Iris-setosa\\\\\n",
       "\t 5.0         & 3.6         & 1.4         & 0.2         & Iris-setosa\\\\\n",
       "\t 5.4         & 3.9         & 1.7         & 0.4         & Iris-setosa\\\\\n",
       "\\end{tabular}\n"
      ],
      "text/markdown": [
       "\n",
       "sepal_length | sepal_width | petal_length | petal_width | class | \n",
       "|---|---|---|---|---|---|\n",
       "| 5.1         | 3.5         | 1.4         | 0.2         | Iris-setosa | \n",
       "| 4.9         | 3.0         | 1.4         | 0.2         | Iris-setosa | \n",
       "| 4.7         | 3.2         | 1.3         | 0.2         | Iris-setosa | \n",
       "| 4.6         | 3.1         | 1.5         | 0.2         | Iris-setosa | \n",
       "| 5.0         | 3.6         | 1.4         | 0.2         | Iris-setosa | \n",
       "| 5.4         | 3.9         | 1.7         | 0.4         | Iris-setosa | \n",
       "\n",
       "\n"
      ],
      "text/plain": [
       "  sepal_length sepal_width petal_length petal_width class      \n",
       "1 5.1          3.5         1.4          0.2         Iris-setosa\n",
       "2 4.9          3.0         1.4          0.2         Iris-setosa\n",
       "3 4.7          3.2         1.3          0.2         Iris-setosa\n",
       "4 4.6          3.1         1.5          0.2         Iris-setosa\n",
       "5 5.0          3.6         1.4          0.2         Iris-setosa\n",
       "6 5.4          3.9         1.7          0.4         Iris-setosa"
      ]
     },
     "metadata": {},
     "output_type": "display_data"
    },
    {
     "name": "stdout",
     "output_type": "stream",
     "text": [
      "Classes ‘tbl_df’, ‘tbl’ and 'data.frame':\t150 obs. of  5 variables:\n",
      " $ sepal_length: num  5.1 4.9 4.7 4.6 5 5.4 4.6 5 4.4 4.9 ...\n",
      " $ sepal_width : num  3.5 3 3.2 3.1 3.6 3.9 3.4 3.4 2.9 3.1 ...\n",
      " $ petal_length: num  1.4 1.4 1.3 1.5 1.4 1.7 1.4 1.5 1.4 1.5 ...\n",
      " $ petal_width : num  0.2 0.2 0.2 0.2 0.2 0.4 0.3 0.2 0.2 0.1 ...\n",
      " $ class       : chr  \"Iris-setosa\" \"Iris-setosa\" \"Iris-setosa\" \"Iris-setosa\" ...\n",
      " - attr(*, \"spec\")=List of 2\n",
      "  ..$ cols   :List of 5\n",
      "  .. ..$ X1: list()\n",
      "  .. .. ..- attr(*, \"class\")= chr  \"collector_double\" \"collector\"\n",
      "  .. ..$ X2: list()\n",
      "  .. .. ..- attr(*, \"class\")= chr  \"collector_double\" \"collector\"\n",
      "  .. ..$ X3: list()\n",
      "  .. .. ..- attr(*, \"class\")= chr  \"collector_double\" \"collector\"\n",
      "  .. ..$ X4: list()\n",
      "  .. .. ..- attr(*, \"class\")= chr  \"collector_double\" \"collector\"\n",
      "  .. ..$ X5: list()\n",
      "  .. .. ..- attr(*, \"class\")= chr  \"collector_character\" \"collector\"\n",
      "  ..$ default: list()\n",
      "  .. ..- attr(*, \"class\")= chr  \"collector_guess\" \"collector\"\n",
      "  ..- attr(*, \"class\")= chr \"col_spec\"\n"
     ]
    }
   ],
   "source": [
    "# view some rows\n",
    "head(iris)\n",
    "\n",
    "# view columns's data type\n",
    "str(iris)"
   ]
  },
  {
   "cell_type": "code",
   "execution_count": 26,
   "metadata": {},
   "outputs": [],
   "source": [
    "# convert `class` from string to factor\n",
    "iris$class <- as.factor(iris$class)"
   ]
  },
  {
   "cell_type": "markdown",
   "metadata": {},
   "source": [
    "To evaluate the models, often we **divide** the set of labeled data into **training and test sets**. The models will be **trained on the training set**, and **evaluated using the test set**"
   ]
  },
  {
   "cell_type": "code",
   "execution_count": 27,
   "metadata": {},
   "outputs": [],
   "source": [
    "# divide the iris dataset into: 80% for training set and the remaining 20% for test set \n",
    "training_size <- floor(0.8 * nrow(iris))\n",
    "train_indexes <- sample(seq_len(nrow(iris)), size = training_size)\n",
    "iris_train <- iris[train_indexes, ]\n",
    "iris_test <- iris[-train_indexes, ]"
   ]
  },
  {
   "cell_type": "markdown",
   "metadata": {},
   "source": [
    "Train a svm model to predict `class` from `sepal_length` and `sepal_width`"
   ]
  },
  {
   "cell_type": "code",
   "execution_count": 28,
   "metadata": {},
   "outputs": [],
   "source": [
    "# install and load the 'e1071' package if not yet\n",
    "# install.packages('e1071')\n",
    "library(e1071)"
   ]
  },
  {
   "cell_type": "code",
   "execution_count": 29,
   "metadata": {},
   "outputs": [],
   "source": [
    "# set the features\n",
    "features <- c('sepal_length', 'sepal_width')\n",
    "# train a svm model\n",
    "svm_model <- svm(x=iris_train[features], y=iris_train$class, kernel =\"linear\", cost=1)"
   ]
  },
  {
   "cell_type": "markdown",
   "metadata": {},
   "source": [
    "We now evaluate the trained model using the test set"
   ]
  },
  {
   "cell_type": "code",
   "execution_count": 30,
   "metadata": {},
   "outputs": [],
   "source": [
    "# install and load the 'mltest' package if not yet\n",
    "# install.packages('mltest', repos = 'https://cran.r-project.org/')\n",
    "library(mltest)"
   ]
  },
  {
   "cell_type": "code",
   "execution_count": 31,
   "metadata": {},
   "outputs": [],
   "source": [
    "# get the prediction\n",
    "predicted_labels <- as.factor(predict(svm_model, iris_test[features]))\n",
    "\n",
    "# get the groundtruth\n",
    "true_labels <- as.factor(iris_test$class)\n",
    "\n",
    "# measure the performance\n",
    "classifier_metrics <- ml_test(predicted_labels, true_labels, output.as.table = FALSE)"
   ]
  },
  {
   "cell_type": "code",
   "execution_count": 32,
   "metadata": {},
   "outputs": [
    {
     "data": {
      "text/html": [
       "0.8"
      ],
      "text/latex": [
       "0.8"
      ],
      "text/markdown": [
       "0.8"
      ],
      "text/plain": [
       "[1] 0.8"
      ]
     },
     "metadata": {},
     "output_type": "display_data"
    }
   ],
   "source": [
    "# overall classification accuracy\n",
    "classifier_metrics$accuracy"
   ]
  },
  {
   "cell_type": "code",
   "execution_count": 33,
   "metadata": {},
   "outputs": [
    {
     "data": {
      "text/html": [
       "<dl class=dl-horizontal>\n",
       "\t<dt>Iris-setosa</dt>\n",
       "\t\t<dd>1</dd>\n",
       "\t<dt>Iris-versicolor</dt>\n",
       "\t\t<dd>0.666666666666667</dd>\n",
       "\t<dt>Iris-virginica</dt>\n",
       "\t\t<dd>0.625</dd>\n",
       "</dl>\n"
      ],
      "text/latex": [
       "\\begin{description*}\n",
       "\\item[Iris-setosa] 1\n",
       "\\item[Iris-versicolor] 0.666666666666667\n",
       "\\item[Iris-virginica] 0.625\n",
       "\\end{description*}\n"
      ],
      "text/markdown": [
       "Iris-setosa\n",
       ":   1Iris-versicolor\n",
       ":   0.666666666666667Iris-virginica\n",
       ":   0.625\n",
       "\n"
      ],
      "text/plain": [
       "    Iris-setosa Iris-versicolor  Iris-virginica \n",
       "      1.0000000       0.6666667       0.6250000 "
      ]
     },
     "metadata": {},
     "output_type": "display_data"
    }
   ],
   "source": [
    "# precision for classes\n",
    "classifier_metrics$precision"
   ]
  },
  {
   "cell_type": "code",
   "execution_count": 34,
   "metadata": {},
   "outputs": [
    {
     "data": {
      "text/html": [
       "<dl class=dl-horizontal>\n",
       "\t<dt>Iris-setosa</dt>\n",
       "\t\t<dd>1</dd>\n",
       "\t<dt>Iris-versicolor</dt>\n",
       "\t\t<dd>0.666666666666667</dd>\n",
       "\t<dt>Iris-virginica</dt>\n",
       "\t\t<dd>0.625</dd>\n",
       "</dl>\n"
      ],
      "text/latex": [
       "\\begin{description*}\n",
       "\\item[Iris-setosa] 1\n",
       "\\item[Iris-versicolor] 0.666666666666667\n",
       "\\item[Iris-virginica] 0.625\n",
       "\\end{description*}\n"
      ],
      "text/markdown": [
       "Iris-setosa\n",
       ":   1Iris-versicolor\n",
       ":   0.666666666666667Iris-virginica\n",
       ":   0.625\n",
       "\n"
      ],
      "text/plain": [
       "    Iris-setosa Iris-versicolor  Iris-virginica \n",
       "      1.0000000       0.6666667       0.6250000 "
      ]
     },
     "metadata": {},
     "output_type": "display_data"
    }
   ],
   "source": [
    "# recall for classes\n",
    "classifier_metrics$recall"
   ]
  },
  {
   "cell_type": "code",
   "execution_count": 35,
   "metadata": {},
   "outputs": [
    {
     "data": {
      "text/html": [
       "<dl class=dl-horizontal>\n",
       "\t<dt>Iris-setosa</dt>\n",
       "\t\t<dd>1</dd>\n",
       "\t<dt>Iris-versicolor</dt>\n",
       "\t\t<dd>0.666666666666667</dd>\n",
       "\t<dt>Iris-virginica</dt>\n",
       "\t\t<dd>0.625</dd>\n",
       "</dl>\n"
      ],
      "text/latex": [
       "\\begin{description*}\n",
       "\\item[Iris-setosa] 1\n",
       "\\item[Iris-versicolor] 0.666666666666667\n",
       "\\item[Iris-virginica] 0.625\n",
       "\\end{description*}\n"
      ],
      "text/markdown": [
       "Iris-setosa\n",
       ":   1Iris-versicolor\n",
       ":   0.666666666666667Iris-virginica\n",
       ":   0.625\n",
       "\n"
      ],
      "text/plain": [
       "    Iris-setosa Iris-versicolor  Iris-virginica \n",
       "      1.0000000       0.6666667       0.6250000 "
      ]
     },
     "metadata": {},
     "output_type": "display_data"
    }
   ],
   "source": [
    "# F1-measures for classes\n",
    "classifier_metrics$F1"
   ]
  },
  {
   "cell_type": "markdown",
   "metadata": {},
   "source": [
    "**Exercise:** divide the iris dataset into training and test sets by ratio 9:1, train a svm model to predict `class` using all feature, then examine the performance of trained model"
   ]
  },
  {
   "cell_type": "code",
   "execution_count": 36,
   "metadata": {},
   "outputs": [
    {
     "data": {
      "text/html": [
       "<dl class=dl-horizontal>\n",
       "\t<dt>Iris-setosa</dt>\n",
       "\t\t<dd>1</dd>\n",
       "\t<dt>Iris-versicolor</dt>\n",
       "\t\t<dd>0.96551724137931</dd>\n",
       "\t<dt>Iris-virginica</dt>\n",
       "\t\t<dd>0.954545454545455</dd>\n",
       "</dl>\n"
      ],
      "text/latex": [
       "\\begin{description*}\n",
       "\\item[Iris-setosa] 1\n",
       "\\item[Iris-versicolor] 0.96551724137931\n",
       "\\item[Iris-virginica] 0.954545454545455\n",
       "\\end{description*}\n"
      ],
      "text/markdown": [
       "Iris-setosa\n",
       ":   1Iris-versicolor\n",
       ":   0.96551724137931Iris-virginica\n",
       ":   0.954545454545455\n",
       "\n"
      ],
      "text/plain": [
       "    Iris-setosa Iris-versicolor  Iris-virginica \n",
       "      1.0000000       0.9655172       0.9545455 "
      ]
     },
     "metadata": {},
     "output_type": "display_data"
    },
    {
     "data": {
      "text/html": [
       "<dl class=dl-horizontal>\n",
       "\t<dt>Iris-setosa</dt>\n",
       "\t\t<dd>1</dd>\n",
       "\t<dt>Iris-versicolor</dt>\n",
       "\t\t<dd>0.96551724137931</dd>\n",
       "\t<dt>Iris-virginica</dt>\n",
       "\t\t<dd>0.954545454545455</dd>\n",
       "</dl>\n"
      ],
      "text/latex": [
       "\\begin{description*}\n",
       "\\item[Iris-setosa] 1\n",
       "\\item[Iris-versicolor] 0.96551724137931\n",
       "\\item[Iris-virginica] 0.954545454545455\n",
       "\\end{description*}\n"
      ],
      "text/markdown": [
       "Iris-setosa\n",
       ":   1Iris-versicolor\n",
       ":   0.96551724137931Iris-virginica\n",
       ":   0.954545454545455\n",
       "\n"
      ],
      "text/plain": [
       "    Iris-setosa Iris-versicolor  Iris-virginica \n",
       "      1.0000000       0.9655172       0.9545455 "
      ]
     },
     "metadata": {},
     "output_type": "display_data"
    },
    {
     "data": {
      "text/html": [
       "<dl class=dl-horizontal>\n",
       "\t<dt>Iris-setosa</dt>\n",
       "\t\t<dd>1</dd>\n",
       "\t<dt>Iris-versicolor</dt>\n",
       "\t\t<dd>0.96551724137931</dd>\n",
       "\t<dt>Iris-virginica</dt>\n",
       "\t\t<dd>0.954545454545455</dd>\n",
       "</dl>\n"
      ],
      "text/latex": [
       "\\begin{description*}\n",
       "\\item[Iris-setosa] 1\n",
       "\\item[Iris-versicolor] 0.96551724137931\n",
       "\\item[Iris-virginica] 0.954545454545455\n",
       "\\end{description*}\n"
      ],
      "text/markdown": [
       "Iris-setosa\n",
       ":   1Iris-versicolor\n",
       ":   0.96551724137931Iris-virginica\n",
       ":   0.954545454545455\n",
       "\n"
      ],
      "text/plain": [
       "    Iris-setosa Iris-versicolor  Iris-virginica \n",
       "      1.0000000       0.9655172       0.9545455 "
      ]
     },
     "metadata": {},
     "output_type": "display_data"
    }
   ],
   "source": [
    "# YOUR CODE GOES HERE\n",
    "\n",
    "#divide the iris dataset into training and test sets by ratio 50:50\n",
    "training_size <- floor(0.5 * nrow(iris))\n",
    "train_indexes <- sample(seq_len(nrow(iris)), size = training_size)\n",
    "iris_train <- iris[train_indexes, ]\n",
    "iris_test <- iris[-train_indexes, ]\n",
    "\n",
    "# set the features\n",
    "features <- c('sepal_length', 'sepal_width', 'petal_length', 'petal_width')\n",
    "# train a svm model\n",
    "svm_model <- svm(x=iris_train[features], y=iris_train$class, kernel =\"linear\", cost=1)\n",
    "\n",
    "# get the prediction\n",
    "predicted_labels <- as.factor(predict(svm_model, iris_test[features]))\n",
    "\n",
    "# get the groundtruth\n",
    "true_labels <- as.factor(iris_test$class)\n",
    "\n",
    "# measure the performance\n",
    "classifier_metrics <- ml_test(predicted_labels, true_labels, output.as.table = FALSE)\n",
    "\n",
    "\n",
    "# precision for classes\n",
    "classifier_metrics$precision\n",
    "# recall for classes\n",
    "classifier_metrics$recall\n",
    "# F1-measures for classes\n",
    "classifier_metrics$F1"
   ]
  },
  {
   "cell_type": "markdown",
   "metadata": {},
   "source": [
    "## Underfitting and Overfitting\n",
    "\n",
    "Underfitting happens when the trained model does not fit well with the training data, and thus often lead to poor performance on test data\n",
    "\n",
    "[Overfitting](https://en.wikipedia.org/wiki/Overfitting) happens when the trained model fit too well with the training data while perform (predict) poorly on test data\n",
    "\n",
    "\n",
    "**Example**: Use the above excercise, change the to ratio 5:95 and 10:90, and change the number of tree (`ntree`) in the model to 1 and 10. Examine the performance of the trained model on training and test sets."
   ]
  },
  {
   "cell_type": "code",
   "execution_count": 40,
   "metadata": {},
   "outputs": [
    {
     "data": {
      "text/html": [
       "<dl class=dl-horizontal>\n",
       "\t<dt>Iris-setosa</dt>\n",
       "\t\t<dd>1</dd>\n",
       "\t<dt>Iris-versicolor</dt>\n",
       "\t\t<dd>1</dd>\n",
       "\t<dt>Iris-virginica</dt>\n",
       "\t\t<dd>1</dd>\n",
       "</dl>\n"
      ],
      "text/latex": [
       "\\begin{description*}\n",
       "\\item[Iris-setosa] 1\n",
       "\\item[Iris-versicolor] 1\n",
       "\\item[Iris-virginica] 1\n",
       "\\end{description*}\n"
      ],
      "text/markdown": [
       "Iris-setosa\n",
       ":   1Iris-versicolor\n",
       ":   1Iris-virginica\n",
       ":   1\n",
       "\n"
      ],
      "text/plain": [
       "    Iris-setosa Iris-versicolor  Iris-virginica \n",
       "              1               1               1 "
      ]
     },
     "metadata": {},
     "output_type": "display_data"
    },
    {
     "data": {
      "text/html": [
       "<dl class=dl-horizontal>\n",
       "\t<dt>Iris-setosa</dt>\n",
       "\t\t<dd>0.912621359223301</dd>\n",
       "\t<dt>Iris-versicolor</dt>\n",
       "\t\t<dd>0.634615384615385</dd>\n",
       "\t<dt>Iris-virginica</dt>\n",
       "\t\t<dd>0.556962025316456</dd>\n",
       "</dl>\n"
      ],
      "text/latex": [
       "\\begin{description*}\n",
       "\\item[Iris-setosa] 0.912621359223301\n",
       "\\item[Iris-versicolor] 0.634615384615385\n",
       "\\item[Iris-virginica] 0.556962025316456\n",
       "\\end{description*}\n"
      ],
      "text/markdown": [
       "Iris-setosa\n",
       ":   0.912621359223301Iris-versicolor\n",
       ":   0.634615384615385Iris-virginica\n",
       ":   0.556962025316456\n",
       "\n"
      ],
      "text/plain": [
       "    Iris-setosa Iris-versicolor  Iris-virginica \n",
       "      0.9126214       0.6346154       0.5569620 "
      ]
     },
     "metadata": {},
     "output_type": "display_data"
    }
   ],
   "source": [
    "# YOUR CODE GOES HERE\n",
    "\n",
    "training_size <- floor(0.05 * nrow(iris))\n",
    "train_indexes <- sample(seq_len(nrow(iris)), size = training_size)\n",
    "iris_train <- iris[train_indexes, ]\n",
    "iris_test <- iris[-train_indexes, ]\n",
    "\n",
    "# train a random forest model\n",
    "iris_rf <- randomForest(class ~ sepal_length + sepal_width, data = iris_train, importance=TRUE, ntree=10)\n",
    "\n",
    "# get the groundtruth\n",
    "true_labels <- as.factor(iris_train$class)\n",
    "# get the prediction\n",
    "predicted_labels <- as.factor(predict(iris_rf, iris_train))\n",
    "\n",
    "# measure the performance\n",
    "classifier_metrics <- ml_test(predicted_labels, true_labels, output.as.table = FALSE)\n",
    "# F1-measures for classes\n",
    "classifier_metrics$F1\n",
    "\n",
    "\n",
    "\n",
    "# get the groundtruth\n",
    "true_labels <- as.factor(iris_test$class)\n",
    "# get the prediction\n",
    "predicted_labels <- as.factor(predict(iris_rf, iris_test))\n",
    "\n",
    "# measure the performance\n",
    "classifier_metrics <- ml_test(predicted_labels, true_labels, output.as.table = FALSE)\n",
    "# F1-measures for classes\n",
    "classifier_metrics$F1\n",
    "\n",
    "\n"
   ]
  },
  {
   "cell_type": "markdown",
   "metadata": {},
   "source": [
    "### Cross Validation\n",
    "\n",
    "As we see in the previous section, the performance of models are highly dependent of the datasets. Hence, their performance can be high or low by chance, e.g., by the way we divide the original labeled dataset into training and test set. To reduce the effect of the chance, or to get more robust, reliable measures for the performance, we need to run K-fold [cross validation](https://en.wikipedia.org/wiki/Cross-validation_(statistics)\n",
    "\n",
    "Basically, K-fold cross validation includes:\n",
    "\n",
    "- Devide the labeled dataset in to K equal folds\n",
    "- In turn, take one fold as test set, the union of other K-1 folds is used as train set\n",
    "- Train a model for each division of training & test sets, i.e., K models in total\n",
    "- Evaluate each model on corresponding test set\n",
    "- Aggregate the peformance of K models to form the final performance\n",
    "\n",
    "The prediction is for a new data observation is then formed by aggreating (e.g., voting base) the predictions of the above K models\n",
    "\n",
    "Refer to `trainControl` object and `train` function in `caret` package for more information"
   ]
  },
  {
   "cell_type": "markdown",
   "metadata": {},
   "source": [
    "### Feature importance\n",
    "One important aspect of the shallow classification models is the importance score of features in (trained) models. These scores inform us how important the features are in predicting the label of data observations.\n",
    "\n",
    "**Example** we will examine the importance of features in `random forest` and `svm` (with `linear kernel`) models"
   ]
  },
  {
   "cell_type": "code",
   "execution_count": null,
   "metadata": {},
   "outputs": [],
   "source": [
    "# finding the importance scores of features in `random forest` model is quite simple\n",
    "\n",
    "# train a random forest model\n",
    "iris_rf <- randomForest(class ~ ., data = iris, importance=TRUE, ntree=10)\n",
    "\n",
    "# get the features importance\n",
    "imp <- importance(iris_rf, type=1)\n",
    "featureImportance <- tibble(Feature=row.names(imp), Importance=imp[,1])\n",
    "\n",
    "# show the importance scores\n",
    "featureImportance\n",
    "\n",
    "# visualizing the importance scores\n",
    "ggplot(featureImportance, aes(x=reorder(Feature, Importance), y=Importance)) +\n",
    "    geom_bar(stat=\"identity\", fill='darkblue') +\n",
    "    coord_flip() +\n",
    "    xlab(\"\")"
   ]
  },
  {
   "cell_type": "code",
   "execution_count": null,
   "metadata": {},
   "outputs": [],
   "source": [
    "# It is a bit more complicated with SVM-linear model\n",
    "\n",
    "# set the features\n",
    "features <- c('sepal_length', 'sepal_width', 'petal_length', 'petal_width')\n",
    "# train a svm model\n",
    "svm_model <- svm(x=iris[features], y=iris$class, kernel =\"linear\", cost=1)\n",
    "w <- t(svm_model$coefs) %*% svm_model$SV        # weight vectors\n",
    "w <- apply(w, 2, function(v){sqrt(sum(v^2))})  # weight\n",
    "w <- sort(w, decreasing = T)\n",
    "print(w)"
   ]
  },
  {
   "cell_type": "markdown",
   "metadata": {},
   "source": [
    "### Exercise\n",
    "Using [US's income dataset](https://archive.ics.uci.edu/ml/datasets/Adult), train a random forest model for predicting `income` from all other features, examine the importance of the features for the prediction."
   ]
  },
  {
   "cell_type": "code",
   "execution_count": 22,
   "metadata": {},
   "outputs": [
    {
     "name": "stderr",
     "output_type": "stream",
     "text": [
      "Parsed with column specification:\n",
      "cols(\n",
      "  X1 = col_integer(),\n",
      "  X2 = col_character(),\n",
      "  X3 = col_integer(),\n",
      "  X4 = col_character(),\n",
      "  X5 = col_integer(),\n",
      "  X6 = col_character(),\n",
      "  X7 = col_character(),\n",
      "  X8 = col_character(),\n",
      "  X9 = col_character(),\n",
      "  X10 = col_character(),\n",
      "  X11 = col_integer(),\n",
      "  X12 = col_integer(),\n",
      "  X13 = col_integer(),\n",
      "  X14 = col_character(),\n",
      "  X15 = col_character()\n",
      ")\n"
     ]
    },
    {
     "data": {
      "text/html": [
       "<table>\n",
       "<thead><tr><th scope=col>Feature</th><th scope=col>Importance</th></tr></thead>\n",
       "<tbody>\n",
       "\t<tr><td>age           </td><td> 3.5945641    </td></tr>\n",
       "\t<tr><td>workclass     </td><td> 6.2591816    </td></tr>\n",
       "\t<tr><td>fnlwgt        </td><td> 0.3867257    </td></tr>\n",
       "\t<tr><td>education     </td><td> 3.2916342    </td></tr>\n",
       "\t<tr><td>education_num </td><td> 3.0059581    </td></tr>\n",
       "\t<tr><td>marital_status</td><td> 6.1889564    </td></tr>\n",
       "\t<tr><td>occupation    </td><td> 6.8541051    </td></tr>\n",
       "\t<tr><td>relationship  </td><td> 4.7061863    </td></tr>\n",
       "\t<tr><td>race          </td><td> 3.2044790    </td></tr>\n",
       "\t<tr><td>sex           </td><td> 3.8744382    </td></tr>\n",
       "\t<tr><td>capital_gain  </td><td>25.6073567    </td></tr>\n",
       "\t<tr><td>capital_loss  </td><td>12.8919560    </td></tr>\n",
       "\t<tr><td>hours_per_week</td><td> 5.0180808    </td></tr>\n",
       "\t<tr><td>native_country</td><td>-2.1015123    </td></tr>\n",
       "</tbody>\n",
       "</table>\n"
      ],
      "text/latex": [
       "\\begin{tabular}{r|ll}\n",
       " Feature & Importance\\\\\n",
       "\\hline\n",
       "\t age            &  3.5945641    \\\\\n",
       "\t workclass      &  6.2591816    \\\\\n",
       "\t fnlwgt         &  0.3867257    \\\\\n",
       "\t education      &  3.2916342    \\\\\n",
       "\t education\\_num  &  3.0059581      \\\\\n",
       "\t marital\\_status &  6.1889564      \\\\\n",
       "\t occupation     &  6.8541051    \\\\\n",
       "\t relationship   &  4.7061863    \\\\\n",
       "\t race           &  3.2044790    \\\\\n",
       "\t sex            &  3.8744382    \\\\\n",
       "\t capital\\_gain   & 25.6073567      \\\\\n",
       "\t capital\\_loss   & 12.8919560      \\\\\n",
       "\t hours\\_per\\_week &  5.0180808        \\\\\n",
       "\t native\\_country & -2.1015123      \\\\\n",
       "\\end{tabular}\n"
      ],
      "text/markdown": [
       "\n",
       "Feature | Importance | \n",
       "|---|---|---|---|---|---|---|---|---|---|---|---|---|---|\n",
       "| age            |  3.5945641     | \n",
       "| workclass      |  6.2591816     | \n",
       "| fnlwgt         |  0.3867257     | \n",
       "| education      |  3.2916342     | \n",
       "| education_num  |  3.0059581     | \n",
       "| marital_status |  6.1889564     | \n",
       "| occupation     |  6.8541051     | \n",
       "| relationship   |  4.7061863     | \n",
       "| race           |  3.2044790     | \n",
       "| sex            |  3.8744382     | \n",
       "| capital_gain   | 25.6073567     | \n",
       "| capital_loss   | 12.8919560     | \n",
       "| hours_per_week |  5.0180808     | \n",
       "| native_country | -2.1015123     | \n",
       "\n",
       "\n"
      ],
      "text/plain": [
       "   Feature        Importance\n",
       "1  age             3.5945641\n",
       "2  workclass       6.2591816\n",
       "3  fnlwgt          0.3867257\n",
       "4  education       3.2916342\n",
       "5  education_num   3.0059581\n",
       "6  marital_status  6.1889564\n",
       "7  occupation      6.8541051\n",
       "8  relationship    4.7061863\n",
       "9  race            3.2044790\n",
       "10 sex             3.8744382\n",
       "11 capital_gain   25.6073567\n",
       "12 capital_loss   12.8919560\n",
       "13 hours_per_week  5.0180808\n",
       "14 native_country -2.1015123"
      ]
     },
     "metadata": {},
     "output_type": "display_data"
    },
    {
     "data": {},
     "metadata": {},
     "output_type": "display_data"
    },
    {
     "data": {
      "image/png": "[encoded data removed]",
      "text/plain": [
       "plot without title"
      ]
     },
     "metadata": {},
     "output_type": "display_data"
    }
   ],
   "source": [
    "# YOUR CODE GOES HERE\n",
    "\n",
    "# Hint: columns of character data type should be converted into factor before traning and testing the model\n",
    "\n",
    "# read the dataset\n",
    "adult <- read_csv('http://archive.ics.uci.edu/ml/machine-learning-databases/adult/adult.data', col_names = FALSE)\n",
    "\n",
    "# rename the columns\n",
    "names(adult) <- c('age', 'workclass', 'fnlwgt', 'education','education_num', 'marital_status', \n",
    "                  'occupation', 'relationship', 'race',\n",
    "                  'sex', 'capital_gain', 'capital_loss','hours_per_week', 'native_country', 'income')\n",
    "\n",
    "# convert string columns into facto\n",
    "adult$workclass <- as.factor(adult$workclass)\n",
    "adult$education <- as.factor(adult$education)\n",
    "adult$marital_status <- as.factor(adult$marital_status)\n",
    "adult$occupation <- as.factor(adult$occupation)\n",
    "adult$relationship <- as.factor(adult$relationship)\n",
    "adult$race <- as.factor(adult$race)\n",
    "adult$sex <- as.factor(adult$sex)\n",
    "adult$native_country <- as.factor(adult$native_country)\n",
    "adult$income <- as.factor(adult$income)\n",
    "\n",
    "# train a random forest to predict income\n",
    "adult_rf <- randomForest(income ~ ., data = adult, importance=TRUE, ntree=10)\n",
    "\n",
    "# get the features importance\n",
    "imp <- importance(adult_rf, type=1)\n",
    "featureImportance <- tibble(Feature=row.names(imp), Importance=imp[,1])\n",
    "\n",
    "# show the importance scores\n",
    "featureImportance\n",
    "\n",
    "# visualizing the importance scores\n",
    "ggplot(featureImportance, aes(x=reorder(Feature, Importance), y=Importance)) +\n",
    "    geom_bar(stat=\"identity\", fill='darkblue') +\n",
    "    coord_flip() +\n",
    "    xlab(\"\")"
   ]
  },
  {
   "cell_type": "markdown",
   "metadata": {},
   "source": [
    "# Unsupervised Learning\n",
    "\n",
    "[Unsupervised machine learning](https://en.wikipedia.org/wiki/Unsupervised_learning) is the machine learning task of uncovering the hidden structure from \"unlabeled\" data."
   ]
  },
  {
   "cell_type": "markdown",
   "metadata": {},
   "source": [
    "**Quizz:** Which of the following tasks are suitable to solve with clustering?\n",
    "\n",
    "    ☑ Segmenting an MRI image.\n",
    "    ☐ Predicting the category of a product based on its image(s).\n",
    "    ☑ Identifying groups of customers with similar behavior.\n",
    "    ☐ Predicting monthly sales of a store.\n",
    "    ☐ Predicting the type of dog breed from 120 breeds of dogs."
   ]
  },
  {
   "cell_type": "markdown",
   "metadata": {},
   "source": [
    "**K-Means Clustering**\n",
    "    \n",
    "    kmeans_model <- kmeans(x=X, centers=m)"
   ]
  },
  {
   "cell_type": "markdown",
   "metadata": {
    "collapsed": true
   },
   "source": [
    "In this exercise, we will use movies data on the [MovieLens 100K Dataset](http://files.grouplens.org/datasets/movielens/ml-100k/u.item) collected from the [MovieLens web site](http://movielens.org). It is available as `data/movies.txt` inside the directory of this lab exercise."
   ]
  },
  {
   "cell_type": "code",
   "execution_count": null,
   "metadata": {},
   "outputs": [],
   "source": [
    "movies <- read_delim('data/movies.txt', delim = '|')"
   ]
  },
  {
   "cell_type": "code",
   "execution_count": null,
   "metadata": {
    "scrolled": false
   },
   "outputs": [],
   "source": [
    "# Inspecting and preprocessing\n",
    "\n",
    "# check top records\n",
    "head(movies)\n",
    "\n",
    "# remove duplicates\n",
    "movies <- distinct(movies)\n",
    "\n",
    "# Mow many movies are tagged as Comedy\n",
    "filter(movies, Comedy == 1) %>% count()\n",
    "\n",
    "# How many movies are tagged as Romance and Drama?\n",
    "filter(movies, Romance == 1 & Drama == 1) %>% count()"
   ]
  },
  {
   "cell_type": "code",
   "execution_count": null,
   "metadata": {},
   "outputs": [],
   "source": [
    "# building a k-means cluster\n",
    "k = 5\n",
    "iters = 1000\n",
    "set.seed(1)\n",
    "\n",
    "movies <- select(movies, -Title)\n",
    "movie_kmeans <- kmeans(movies, centers = k, iter.max=iters)"
   ]
  },
  {
   "cell_type": "markdown",
   "metadata": {},
   "source": [
    "**Understanding Clustering Output**"
   ]
  },
  {
   "cell_type": "code",
   "execution_count": null,
   "metadata": {},
   "outputs": [],
   "source": [
    "# view clustering output\n",
    "str(movie_kmeans)"
   ]
  },
  {
   "cell_type": "code",
   "execution_count": null,
   "metadata": {},
   "outputs": [],
   "source": [
    "# cluster vector, i.e., cluster index of each row\n",
    "movie_kmeans$cluster"
   ]
  },
  {
   "cell_type": "code",
   "execution_count": null,
   "metadata": {},
   "outputs": [],
   "source": [
    "# centroid values\n",
    "movie_kmeans$centers"
   ]
  },
  {
   "cell_type": "code",
   "execution_count": null,
   "metadata": {},
   "outputs": [],
   "source": [
    "# size of clusters, i.e., number of movies in each cluster\n",
    "movie_kmeans$size"
   ]
  },
  {
   "cell_type": "code",
   "execution_count": null,
   "metadata": {},
   "outputs": [],
   "source": [
    "# within-cluster sum of squares\n",
    "movie_kmeans$withinss"
   ]
  },
  {
   "cell_type": "markdown",
   "metadata": {},
   "source": [
    "**Determining number of clusters**\n",
    "\n",
    "One way to select the number of clusters is by using a **scree plot**. A standard scree plot has the number of clusters on the x-axis, and the sum of the within-cluster sum of squares on the y-axis. The within-cluster sum of squares for a cluster is the sum, across all points in the cluster, of the squared distance between each point and the centroid of the cluster. To determine the best number of clusters using this plot, we want to look for a bend, or elbow, in the plot."
   ]
  },
  {
   "cell_type": "code",
   "execution_count": null,
   "metadata": {},
   "outputs": [],
   "source": [
    "set.seed(99)\n",
    "\n",
    "# Call kmeans function with centers = 3, centers = 4, etc\n",
    "num_clusters = seq(5, 15,1)\n",
    "\n",
    "# within-cluster sum of squares for all clusters\n",
    "sum_withinss = sapply(num_clusters, function(x) sum(kmeans(movies, centers=x, iter.max=2000)$withinss))\n",
    "\n",
    "# visualize\n",
    "ggplot(mapping = aes(x=num_clusters, y=sum_withinss)) +\n",
    "    geom_line() +\n",
    "    geom_point()\n",
    "    \n",
    "# 12 seems like a good pick"
   ]
  },
  {
   "cell_type": "markdown",
   "metadata": {},
   "source": [
    "# References\n",
    "\n",
    "[Top 10 algorithms in data mining](http://www.cs.uvm.edu/~icdm/algorithms/10Algorithms-08.pdf)\n",
    "\n",
    "[R for Statistical Learning](https://daviddalpiaz.github.io/r4sl/)\n",
    "\n",
    "[The caret Package](http://topepo.github.io/caret/)\n",
    "\n",
    "[Linear Regression: r-statistics.co](http://r-statistics.co/Linear-Regression.html)\n",
    "\n",
    "[Tutorial: SVM in R](http://math.stanford.edu/~yuany/course/2015.fall/SVM_in_R.pdf)\n",
    "\n",
    "[Artificial Neural Networks in R](https://rpubs.com/julianhatwell/annr)\n",
    "\n",
    "[Cluster analysis in R: determine the optimal number of clusters](https://stackoverflow.com/questions/15376075/cluster-analysis-in-r-determine-the-optimal-number-of-clusters)"
   ]
  }
 ],
 "metadata": {
  "kernelspec": {
   "display_name": "R",
   "language": "R",
   "name": "ir"
  },
  "language_info": {
   "codemirror_mode": "r",
   "file_extension": ".r",
   "mimetype": "text/x-r-source",
   "name": "R",
   "pygments_lexer": "r",
   "version": "3.4.3"
  }
 },
 "nbformat": 4,
 "nbformat_minor": 2
}
